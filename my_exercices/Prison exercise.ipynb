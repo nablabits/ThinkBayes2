{
 "cells": [
  {
   "cell_type": "markdown",
   "id": "209100e2-b64b-40e8-89b4-ab9dab4fce9d",
   "metadata": {},
   "source": [
    "**Exercise:** Suppose that in the criminal justice system, all prison sentences are either 1, 2, or 3 years, with an equal number of each.  One day, you visit a prison and choose a prisoner at random.  What is the probability that they are serving a 3-year sentence?  What is the average remaining sentence of the prisoners you observe?"
   ]
  },
  {
   "cell_type": "code",
   "execution_count": null,
   "id": "625b6a55-813f-48bf-80e9-83798fd666d8",
   "metadata": {
    "tags": []
   },
   "outputs": [],
   "source": [
    "import numpy as np\n",
    "import seaborn as sns\n",
    "\n",
    "# the hypothesis space represents all possible lenghts\n",
    "hs = np.arange(1, 4)\n",
    "\n",
    "# select a uniform prior as there is an equal number of them\n",
    "prior = np.full(hs.size, 1/3)\n",
    "\n",
    "# Assuming:\n",
    "# * All the prisoners start the same day\n",
    "# * You visit the prison one day at random between start and 365*3\n",
    "# Compute likelihoods depending the year of the visit\n",
    "like_1 = 1/3\n",
    "like_2 = np.array([0, .5, .5])\n",
    "like_3 = np.array([0, 0, 1])\n",
    "\n",
    "for n, like in enumerate((like_1, like_2, like_3)):\n",
    "    posterior = prior * like\n",
    "    posterior = posterior / posterior.sum()\n",
    "    print(f'If the visit is in the year {n+1} the probability of serving a 3 year sentence is:', posterior[2])\n",
    "\n",
    "# However as the day of the visit is random we can sum the likelihoods in this\n",
    "# fashion:\n",
    "likes = 1/3*like_1 + 1/3*like_2 + 1/3*like_3\n",
    "\n",
    "# as afterwards we will normalize the result we can get rid of the 1/3\n",
    "likes = like_1 + like_2 + like_3\n",
    "posterior = prior * likes\n",
    "posterior /= posterior.sum()\n",
    "\n",
    "posterior_mean = (hs * posterior).sum()\n",
    "\n",
    "print(f'The probability of a random prisoner in a random day serving a 3-year sentence is', posterior[2].round(2))\n",
    "print(f'The average remaining sentence is', 3 - posterior_mean)\n",
    "\n",
    "sns.barplot(x=hs, y=posterior, color='green', alpha=.5);"
   ]
  },
  {
   "cell_type": "code",
   "execution_count": null,
   "id": "cc6fa029-9944-4835-97e6-b352a0b61f3a",
   "metadata": {},
   "outputs": [],
   "source": [
    "np.array([1/3, 1/2, 1]).mean()"
   ]
  },
  {
   "cell_type": "code",
   "execution_count": null,
   "id": "e13e11d2-8540-4131-ada2-15e60e4e5671",
   "metadata": {},
   "outputs": [],
   "source": []
  }
 ],
 "metadata": {
  "kernelspec": {
   "display_name": "Python 3",
   "language": "python",
   "name": "python3"
  },
  "language_info": {
   "codemirror_mode": {
    "name": "ipython",
    "version": 3
   },
   "file_extension": ".py",
   "mimetype": "text/x-python",
   "name": "python",
   "nbconvert_exporter": "python",
   "pygments_lexer": "ipython3",
   "version": "3.8.2"
  }
 },
 "nbformat": 4,
 "nbformat_minor": 5
}
