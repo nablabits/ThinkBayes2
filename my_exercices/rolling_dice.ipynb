{
 "cells": [
  {
   "cell_type": "code",
   "execution_count": 2,
   "id": "a9d07cd6-f7f6-4e01-b8af-96b98c4a4e4d",
   "metadata": {},
   "outputs": [],
   "source": [
    "from scipy.stats import multinomial\n",
    "from scipy.special import comb\n",
    "import numpy as np\n",
    "import pandas as pd\n",
    "from math import factorial as f"
   ]
  },
  {
   "cell_type": "code",
   "execution_count": 3,
   "id": "51e061b0-e40d-4220-9d9d-45300c11c41d",
   "metadata": {},
   "outputs": [
    {
     "data": {
      "text/plain": [
       "0.03703703703703705"
      ]
     },
     "execution_count": 3,
     "metadata": {},
     "output_type": "execute_result"
    }
   ],
   "source": [
    "dist = multinomial(n=3, p=np.full(3, 1/3))\n",
    "likes = np.array([\n",
    "    dist.pmf([3, 0, 0]) * f(3)/f(2), # All three rolls the same face\n",
    "    dist.pmf([2, 1, 0]) * f(3)/f(0), # two rolls same one diff\n",
    "    dist.pmf([1, 1, 1]) * f(3)/f(3), # all rolls different\n",
    "])\n",
    "likes.sum()  \n",
    "likes[0], 3*(1/3)**3 # 3\n",
    "likes[2], (3*(1/3)**2)*(2/3) #6\n",
    "likes[1], 18/27\n",
    "\n",
    "dist.pmf([3, 0, 0])  # all the dice fall in one\n",
    "dist.pmf([0, 3, 0])\n",
    "dist.pmf([0, 0, 3])"
   ]
  },
  {
   "cell_type": "code",
   "execution_count": 4,
   "id": "b3a811d6-e7a6-4c92-b8f2-64f31d62b10c",
   "metadata": {},
   "outputs": [
    {
     "data": {
      "text/plain": [
       "1.0000000000000002"
      ]
     },
     "execution_count": 4,
     "metadata": {},
     "output_type": "execute_result"
    }
   ],
   "source": [
    "dist = multinomial(n=4, p=np.full(4, 1/4))\n",
    "likes = f(4) * np.array([\n",
    "    dist.pmf([4, 0, 0, 0]) /f(3),  # all 4 rolls the same face\n",
    "    dist.pmf([3, 1, 0, 0]) /f(2),  # get three same and one different \n",
    "    dist.pmf([2, 2, 0, 0]) /(f(2)*f(2)),  # get two pairs\n",
    "    dist.pmf([2, 1, 1, 0]) /f(2),  # get two same and the others different each other\n",
    "    dist.pmf([1, 1, 1, 1]) /f(4)\n",
    "])\n",
    "likes.sum()"
   ]
  },
  {
   "cell_type": "code",
   "execution_count": 10,
   "id": "14e218ff-bca1-41a3-a17e-6ec48f70b479",
   "metadata": {},
   "outputs": [
    {
     "data": {
      "text/plain": [
       "0.1250000000000004"
      ]
     },
     "execution_count": 10,
     "metadata": {},
     "output_type": "execute_result"
    },
    {
     "data": {
      "image/png": "[encoded data removed]",
      "text/plain": [
       "<Figure size 432x288 with 1 Axes>"
      ]
     },
     "metadata": {
      "needs_background": "light"
     },
     "output_type": "display_data"
    }
   ],
   "source": [
    "dist = multinomial(n=8, p=np.full(8, 1/8))\n",
    "likes = np.array([\n",
    "    dist.pmf([8, 0, 0, 0, 0, 0, 0, 0]) / f(7),  # 8\n",
    "    dist.pmf([7, 1, 0, 0, 0, 0, 0, 0]) / f(6),  # 7\n",
    "\n",
    "    # at least 6\n",
    "    dist.pmf([6, 2, 0, 0, 0, 0, 0, 0]) / f(6),\n",
    "    dist.pmf([6, 1, 1, 0, 0, 0, 0, 0]) / (f(2)*f(5)),\n",
    "    \n",
    "    # At least 5\n",
    "    dist.pmf([5, 3, 0, 0, 0, 0, 0, 0]) / f(6),\n",
    "    dist.pmf([5, 2, 1, 0, 0, 0, 0, 0]) / f(5),\n",
    "    dist.pmf([5, 1, 1, 1, 0, 0, 0, 0]) / (f(3)*f(4)),\n",
    "    \n",
    "    # at least 4\n",
    "    dist.pmf([4, 4, 0, 0, 0, 0, 0, 0]) / (f(2)*f(6)),\n",
    "    dist.pmf([4, 3, 1, 0, 0, 0, 0, 0]) / f(5),\n",
    "    dist.pmf([4, 2, 2, 0, 0, 0, 0, 0]) / (f(2)*f(5)),\n",
    "    dist.pmf([4, 2, 1, 1, 0, 0, 0, 0]) / (f(2)*f(4)),\n",
    "    dist.pmf([4, 1, 1, 1, 1, 0, 0, 0]) / (f(4)*f(3)),\n",
    "    \n",
    "    # At least 3\n",
    "    dist.pmf([3, 3, 2, 0, 0, 0, 0, 0]) / (f(2)*f(5)),\n",
    "    dist.pmf([3, 3, 1, 1, 0, 0, 0, 0]) / (f(2)*f(2)*f(4)),\n",
    "    dist.pmf([3, 2, 2, 1, 0, 0, 0, 0]) / (f(2)*f(4)),\n",
    "    dist.pmf([3, 2, 1, 1, 1, 0, 0, 0]) / (f(3)*f(3)),\n",
    "    dist.pmf([3, 1, 1, 1, 1, 1, 0, 0]) / (f(5)*f(2)),\n",
    "    \n",
    "    # at least one set of 2\n",
    "    dist.pmf([2, 2, 2, 2, 0, 0, 0, 0]) / (f(4)*f(4)),\n",
    "    dist.pmf([2, 2, 2, 1, 1, 0, 0, 0]) / (f(3)*f(3)*f(2)),\n",
    "    dist.pmf([2, 2, 1, 1, 1, 1, 0, 0]) / (f(2)*f(4)*f(2)),\n",
    "    dist.pmf([2, 1, 1, 1, 1, 1, 1, 0]) / f(6),\n",
    "    \n",
    "    # One\n",
    "    dist.pmf([1, 1, 1, 1, 1, 1, 1, 1]) / f(8),\n",
    "\n",
    "])\n",
    "assert abs(f(8)*likes.sum() - 1) < .000000001\n",
    "s1 = f(8) * pd.Series(\n",
    "    [\n",
    "        likes[0],\n",
    "        likes[1],\n",
    "        likes[2:4].sum(),\n",
    "        likes[4:7].sum(),\n",
    "        likes[7:12].sum(),\n",
    "        likes[12: 17].sum(),\n",
    "        likes[17:21].sum(),  # at least one set of 2\n",
    "        likes[21],  # at least one set of 1\n",
    "    ],\n",
    "    index=[8, 7, 6, 5, 4, 3, 2, 1],\n",
    "     \n",
    ")\n",
    "s1.plot(kind=\"bar\");\n",
    "s1.mean()\n"
   ]
  },
  {
   "cell_type": "code",
   "execution_count": 12,
   "id": "a381df50-3e14-40e8-a7e9-cb947a36a06d",
   "metadata": {},
   "outputs": [
    {
     "data": {
      "text/plain": [
       "8    4.768372e-07\n",
       "7    2.670288e-05\n",
       "6    6.542206e-04\n",
       "5    9.159088e-03\n",
       "4    8.002520e-02\n",
       "3    4.093552e-01\n",
       "2    4.983759e-01\n",
       "1    2.403259e-03\n",
       "dtype: float64"
      ]
     },
     "execution_count": 12,
     "metadata": {},
     "output_type": "execute_result"
    }
   ],
   "source": [
    "s1"
   ]
  },
  {
   "cell_type": "code",
   "execution_count": null,
   "id": "ca385d0c-a7df-468f-99a9-94d6b6116656",
   "metadata": {},
   "outputs": [],
   "source": []
  }
 ],
 "metadata": {
  "kernelspec": {
   "display_name": "Python 3",
   "language": "python",
   "name": "python3"
  },
  "language_info": {
   "codemirror_mode": {
    "name": "ipython",
    "version": 3
   },
   "file_extension": ".py",
   "mimetype": "text/x-python",
   "name": "python",
   "nbconvert_exporter": "python",
   "pygments_lexer": "ipython3",
   "version": "3.8.2"
  }
 },
 "nbformat": 4,
 "nbformat_minor": 5
}
