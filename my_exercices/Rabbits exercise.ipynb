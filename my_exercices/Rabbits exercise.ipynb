{
 "cells": [
  {
   "cell_type": "markdown",
   "id": "87423280-b535-478d-ba7b-701cc16a0e42",
   "metadata": {},
   "source": [
    "**Exercise:** I often see [rabbits](https://en.wikipedia.org/wiki/Eastern_cottontail) in the garden behind my house, but it's not easy to tell them apart, so I don't really know how many there are.\n",
    "\n",
    "Suppose I deploy a motion-sensing [camera trap](https://en.wikipedia.org/wiki/Camera_trap) that takes a picture of the first rabbit it sees each day.  After three days, I compare the pictures and conclude that two of them are the same rabbit and the other is different.\n",
    "\n",
    "How many rabbits visit my garden?\n",
    "\n",
    "To answer this question, we have to think about the prior distribution and the likelihood of the data:\n",
    "\n",
    "* I have sometimes seen four rabbits at the same time, so I know there are at least that many.  I would be surprised if there were more than 10.  So, at least as a starting place, I think a uniform prior from 4 to 10 is reasonable.\n",
    "\n",
    "* To keep things simple, let's assume that all rabbits who visit my garden are equally likely to be caught by the camera trap in a given day.  Let's also assume it is guaranteed that the camera trap gets a picture every day.\n",
    "\n",
    "\n",
    "### Getting the same rabbit in two pictures out of four rabbits\n",
    "Let's say that each rabbit has a letter: A B C D, these are the possible combinations:  \n",
    "**AA** BA CA DA  \n",
    "AB **BB** CB DB  \n",
    "AC BC **CC** DC  \n",
    "AD BD CD **DD**  \n"
   ]
  },
  {
   "cell_type": "code",
   "execution_count": null,
   "id": "a674a4ad-5119-46de-b949-55628b50cdac",
   "metadata": {},
   "outputs": [],
   "source": [
    "import numpy as np\n",
    "import seaborn as sns\n",
    "\n",
    "# the hypothesis space represents the number of  rabbits\n",
    "hs = np.arange(4, 11)\n",
    "\n",
    "# Let's assume a uniform prior\n",
    "prior = np.full(hs.size, 1)\n",
    "\n",
    "# Calculate likes. The book only considers the two last pictures but I\n",
    "# considered the three of them as if every picture was evidence. However this\n",
    "# is misleading as the probability of getting the same rabbit in two pictures\n",
    "# out of 4 rabbits is 1/4 (see above the explanation)\n",
    "likelihood = (1/hs)**2 * (hs-1)/hs  # Misleading\n",
    "likelihood = (hs-1)/(hs**2)\n",
    "\n",
    "posterior = prior * likelihood\n",
    "posterior /= posterior.sum()\n",
    "\n",
    "sns.set()\n",
    "sns.barplot(x=hs, y=posterior, color='green', alpha=.4);\n",
    "\n",
    "# Calculate posterior mean\n",
    "mu = (hs * posterior).sum()\n",
    "print('The expected amount of rabbits is:', mu)"
   ]
  },
  {
   "cell_type": "markdown",
   "id": "ea2e17cd-9e43-470e-a7d2-219d694f56f0",
   "metadata": {},
   "source": [
    "## Getting the same rabbit in two out of 3 pictures \n",
    "It turns out that if one counts the possible combinations, the likelihoods are slightly different than the solution given by the book.\n",
    "### for 3 rabbits\n",
    "111 **112** **113**  \n",
    "**121** **122** 123  \n",
    "**131** 132 **133**  \n",
    "The possible combinations are $\\frac{6}{27}$  \n",
    "Note that there will be two additional groups like this (the ones that start by **2** & **3**) each giving the same probability.\n",
    "\n",
    "### for 4 rabits\n",
    "111 **112** **113** **114**  \n",
    "**121** **122** 123 124  \n",
    "**131** 132 **133** 134  \n",
    "**141** 142 143 **144**  \n",
    "The possible combinations are $\\frac{9}{64}$  \n",
    "Note that there will be three additional groups like this (the ones that start by **2**, **3** & **4**) each giving the same probability.\n",
    "\n",
    "### for 5 rabits\n",
    "111 **112** **113** **114** **115**  \n",
    "**121** **122** 123 124 125  \n",
    "**131** 132 **133** 134 135 \n",
    "**141** 142 143 **144** 145  \n",
    "**151** 152 153 154 **155**   \n",
    "The possible combinations are $\\frac{12}{125}$  \n",
    "Note that there will be four additional groups like this (the ones that start by **2**, **3**, **4** & **5**) each giving the same probability.\n",
    "\n",
    "### General case\n",
    "As we see, we get $r-1$ in the first row and 2 additional matches for any additional row $2\\cdot(r-1)$.  \n",
    "So therefore we can conclude that getting a couple of rabbits in three pictures out of $r$ rabbits is:\n",
    "$$\\frac{3\\cdot(r-1)}{r^3}$$"
   ]
  },
  {
   "cell_type": "code",
   "execution_count": null,
   "id": "007ca82d-14d3-40c8-b97f-a5ab53b3d40c",
   "metadata": {},
   "outputs": [],
   "source": [
    "# The hypothesis space represents the estimation of the population\n",
    "hs = np.arange(4, 11)\n",
    "prior = np.ones(hs.size)\n",
    "\n",
    "# Calculate likelihoods (see manual count above)\n",
    "likes = 3*(hs-1) / (hs)**3\n",
    "\n",
    "conjuction = prior * likes\n",
    "posterior = conjuction / conjuction.sum()\n",
    "\n",
    "sns.set()\n",
    "sns.barplot(x=hs, y=posterior, color='green', alpha=.4);\n",
    "\n",
    "mu = (hs * posterior).sum()\n",
    "print('The expected amount of rabbits is:', mu)"
   ]
  },
  {
   "cell_type": "code",
   "execution_count": null,
   "id": "80b84df8-3719-4ff0-88b3-ffe034af756d",
   "metadata": {},
   "outputs": [],
   "source": []
  }
 ],
 "metadata": {
  "kernelspec": {
   "display_name": "Python 3",
   "language": "python",
   "name": "python3"
  },
  "language_info": {
   "codemirror_mode": {
    "name": "ipython",
    "version": 3
   },
   "file_extension": ".py",
   "mimetype": "text/x-python",
   "name": "python",
   "nbconvert_exporter": "python",
   "pygments_lexer": "ipython3",
   "version": "3.8.2"
  }
 },
 "nbformat": 4,
 "nbformat_minor": 5
}
