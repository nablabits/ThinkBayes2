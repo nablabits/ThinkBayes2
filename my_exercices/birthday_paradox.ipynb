{
 "cells": [
  {
   "cell_type": "markdown",
   "id": "01efa270-1886-4534-928c-c065c5271939",
   "metadata": {},
   "source": [
    "**Exercise:** Suppose you are giving a talk in a large lecture hall and the fire marshal interrupts because they think the audience exceeds 1200 people, which is the safe capacity of the room. \n",
    "\n",
    "You think there are fewer then 1200 people, and you offer to prove it.\n",
    "It would take too long to count, so you try an experiment:\n",
    "\n",
    "* You ask how many people were born on May 11 and two people raise their hands.  \n",
    "\n",
    "* You ask how many were born on May 23 and 1 person raises their hand.  \n",
    "* Finally, you ask how many were born on August 1, and no one raises their hand.\n",
    "\n",
    "How many people are in the audience?  What is the probability that there are more than 1200 people.\n",
    "Hint: Remember the binomial distribution."
   ]
  },
  {
   "cell_type": "code",
   "execution_count": null,
   "id": "cede992b-79f8-4d25-a177-c5442d698509",
   "metadata": {},
   "outputs": [],
   "source": [
    "import numpy as np\n",
    "from scipy.special import comb\n",
    "from scipy.stats import binom\n",
    "import seaborn as sns\n",
    "\n",
    "# the hypothesis space represents the population of the lounge.\n",
    "# we can assume there will be at least 300 people (we will notice otherwise)\n",
    "# and no more than 2000 (as later we will see that having more than 1200 people\n",
    "# is somewhat unlikely.\n",
    "hs = np.arange(100, 2000)\n",
    "\n",
    "# We choose a uniform prior as each population is equally likely\n",
    "prior = np.full(hs.size, 1)\n",
    "\n",
    "# Compute the likelihoods making use of binomial dist\n",
    "like0 = binom.pmf(0, hs, 1/365)\n",
    "like1 = binom.pmf(1, hs, 1/365)\n",
    "\n",
    "# Let's explain what going on here:\n",
    "# we compute how many different pairs we can build out of each value in hs\n",
    "# then multiply by the probability of having birthday the same day (1/365)**2\n",
    "# Finally multiply by the probability of not having a birthday the same day\n",
    "# (364/365)**(hs-2)\n",
    "like2 = binom.pmf(2, hs, 1/365)\n",
    "\n",
    "# Compute posterior\n",
    "posterior = prior * like0 *like1 * like2\n",
    "posterior /= posterior.sum()\n",
    "\n",
    "# Get the probability of having more than 1200 people in the hall\n",
    "loc_1200 = np.where(hs > 1200)[0][0]\n",
    "prob_gte_1200 = posterior[loc_1200:].sum().round(3)\n",
    "\n",
    "expected_population = int((hs * posterior).sum())  # weighted average\n",
    "\n",
    "# Credible interval\n",
    "cdf = posterior.cumsum()\n",
    "lower_index = np.where(cdf <= .05)[0][0]\n",
    "upper_index = np.where(cdf >= .95)[0][0]\n",
    "\n",
    "\n",
    "hs[lower], hs[upper]\n",
    "print(f'The probability of having more than 1200 people in the hall is: {prob_gte_1200}')\n",
    "print(f'The expected population in the hall is {expected_population}')\n",
    "print(f'The 95% of the population sizes lay between {hs[lower_index]} and {hs[upper_index]}')\n",
    "\n",
    "sns.set()\n",
    "sns.lineplot(x=hs, y=posterior, label=\"posterior\");"
   ]
  },
  {
   "cell_type": "code",
   "execution_count": null,
   "id": "fc9b9f54-ee61-4880-bc83-e075dc085346",
   "metadata": {},
   "outputs": [],
   "source": [
    "(hs * posterior).sum()\n"
   ]
  },
  {
   "cell_type": "code",
   "execution_count": null,
   "id": "ebe18e6b-96a9-462d-9b18-5ac52e3cecee",
   "metadata": {},
   "outputs": [],
   "source": [
    "binom.pmf(2, 23, 1/365)"
   ]
  },
  {
   "cell_type": "code",
   "execution_count": null,
   "id": "f55852ec-a66f-4006-8c0c-8ca5ae969734",
   "metadata": {},
   "outputs": [],
   "source": [
    "(1/365)**3, (364/365)"
   ]
  },
  {
   "cell_type": "code",
   "execution_count": null,
   "id": "13b48185-223c-4b7b-97d3-25a204b19140",
   "metadata": {},
   "outputs": [],
   "source": [
    "binom.pmf(5, 10, .5)"
   ]
  },
  {
   "cell_type": "code",
   "execution_count": null,
   "id": "0c38921e-afdc-4811-8d2a-b5ea1d02fb9d",
   "metadata": {},
   "outputs": [],
   "source": []
  }
 ],
 "metadata": {
  "kernelspec": {
   "display_name": "Python 3",
   "language": "python",
   "name": "python3"
  },
  "language_info": {
   "codemirror_mode": {
    "name": "ipython",
    "version": 3
   },
   "file_extension": ".py",
   "mimetype": "text/x-python",
   "name": "python",
   "nbconvert_exporter": "python",
   "pygments_lexer": "ipython3",
   "version": "3.8.2"
  }
 },
 "nbformat": 4,
 "nbformat_minor": 5
}
