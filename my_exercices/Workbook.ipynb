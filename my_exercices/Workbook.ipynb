{
 "cells": [
  {
   "cell_type": "markdown",
   "id": "47dbdf85-4aa6-48b1-adcf-b6dc2e96f6d6",
   "metadata": {
    "toc-hr-collapsed": true
   },
   "source": [
    "# Workboook\n",
    "A compilation of all the exercises that appear in every chapter that I can use to drill\n",
    "\n",
    "## Why do I need to drill once and again all these problems?\n",
    "Well, mostly because of two reasons:\n",
    "1. There will be a time in the future when I will find a complete new problem and then I might be able to say, oh, look, this problem is similar to that one I drilled while ago.\n",
    "2. If I have in mind all these problems memorized, then I'm going to be able to tell better their differences and nuances.\n",
    "\n",
    "**Don't bother too much with being right or wrong when drilling specially on first attempts.** The key is repetition and spot weaknesses."
   ]
  },
  {
   "cell_type": "markdown",
   "id": "1a7aac03-7160-4183-a18b-c05791a09811",
   "metadata": {
    "toc-hr-collapsed": true
   },
   "source": [
    "# Chapter 02: Bayes Theorem "
   ]
  },
  {
   "cell_type": "markdown",
   "id": "a5430a59-2ef1-4afa-86f8-68e20b06c2cf",
   "metadata": {},
   "source": [
    "## Coins In a Box\n",
    "**Exercise:** Suppose you have two coins in a box.\n",
    "One is a normal coin with heads on one side and tails on the other, and one is a trick coin with heads on both sides.  You choose a coin at random and see that one of the sides is heads.\n",
    "What is the probability that you chose the trick coin?"
   ]
  },
  {
   "cell_type": "code",
   "execution_count": 6,
   "id": "217b1b31-c1ff-402b-a4ed-d03013a9a54a",
   "metadata": {},
   "outputs": [],
   "source": [
    "# Solution goes here"
   ]
  },
  {
   "cell_type": "markdown",
   "id": "ad34ded3-b1f8-4c3b-a9a1-65234f046579",
   "metadata": {},
   "source": [
    "## Both Children are Girls\n",
    "**Exercise:** Suppose you meet someone and learn that they have two children.\n",
    "You ask if either child is a girl and they say yes.\n",
    "What is the probability that both children are girls?\n",
    "\n",
    "Hint: Start with four equally likely hypotheses."
   ]
  },
  {
   "cell_type": "code",
   "execution_count": 7,
   "id": "ff510042-128a-4dc2-9a5e-b6fa48bd5099",
   "metadata": {},
   "outputs": [],
   "source": [
    "# Solution goes here"
   ]
  },
  {
   "cell_type": "markdown",
   "id": "089b7f15-222a-4934-952f-b1e3dff1fc06",
   "metadata": {},
   "source": [
    "## Monty Hall Problem Variation\n",
    "**Exercise:** There are many variations of the [Monty Hall problem](https://en.wikipedia.org/wiki/Monty_Hall_problem}).  \n",
    "For example, suppose Monty always chooses Door 2 if he can, and\n",
    "only chooses Door 3 if he has to (because the car is behind Door 2).\n",
    "\n",
    "If you choose Door 1 and Monty opens Door 2, what is the probability the car is behind Door 3?\n",
    "\n",
    "If you choose Door 1 and Monty opens Door 3, what is the probability the car is behind Door 2?"
   ]
  },
  {
   "cell_type": "code",
   "execution_count": 8,
   "id": "5f614e8f-be9f-44c6-94e5-2d45ea91bb21",
   "metadata": {},
   "outputs": [],
   "source": [
    "# Solution goes here"
   ]
  },
  {
   "cell_type": "code",
   "execution_count": 4,
   "id": "be2e8059-e6ed-4f2e-a42d-18b47c6c009a",
   "metadata": {},
   "outputs": [],
   "source": [
    "# Solution goes here"
   ]
  },
  {
   "cell_type": "markdown",
   "id": "497e91fd-7666-4a3c-90a6-8cfcbadc378a",
   "metadata": {},
   "source": [
    "## M and Ms\n",
    "**Exercise:** M&M's are small candy-coated chocolates that come in a variety of colors.  \n",
    "Mars, Inc., which makes M&M's, changes the mixture of colors from time to time.\n",
    "In 1995, they introduced blue M&M's.  \n",
    "\n",
    "* In 1994, the color mix in a bag of plain M&M's was 30\\% Brown, 20\\% Yellow, 20\\% Red, 10\\% Green, 10\\% Orange, 10\\% Tan.  \n",
    "\n",
    "* In 1996, it was 24\\% Blue , 20\\% Green, 16\\% Orange, 14\\% Yellow, 13\\% Red, 13\\% Brown.\n",
    "\n",
    "Suppose a friend of mine has two bags of M&M's, and he tells me\n",
    "that one is from 1994 and one from 1996.  He won't tell me which is\n",
    "which, but he gives me one M&M from each bag.  One is yellow and\n",
    "one is green.  What is the probability that the yellow one came\n",
    "from the 1994 bag?\n",
    "\n",
    "Hint: The trick to this question is to define the hypotheses and the data carefully."
   ]
  },
  {
   "cell_type": "code",
   "execution_count": 5,
   "id": "e486e940-58bf-4bd2-8028-8b9ea4a85add",
   "metadata": {},
   "outputs": [],
   "source": [
    "# Solution goes here"
   ]
  },
  {
   "cell_type": "markdown",
   "id": "befb3ec8-a63b-4684-98f6-97741dd6e073",
   "metadata": {
    "toc-hr-collapsed": true
   },
   "source": [
    "# Chapter 03: Distributions"
   ]
  },
  {
   "cell_type": "markdown",
   "id": "bb38ae22-042e-43a1-ab07-489073c9f29e",
   "metadata": {},
   "source": [
    "## Rolling Dice\n",
    "Suppose I have a box with a 6-sided die, an 8-sided die, and a 12-sided die.\n",
    "I choose one of the dice at random, roll it four times, and get 1, 3, 5, and 7.\n",
    "What is the probability that I chose the 8-sided die?\n",
    "\n",
    "You can use the `update_dice` function or do the update yourself."
   ]
  },
  {
   "cell_type": "code",
   "execution_count": null,
   "id": "2cf70c34-c89f-43ba-a2bc-a13c78a37c52",
   "metadata": {},
   "outputs": [],
   "source": [
    "# Solution goes here"
   ]
  },
  {
   "cell_type": "markdown",
   "id": "2ecb28ec-c57c-4dec-911f-cb274d1cc404",
   "metadata": {},
   "source": [
    "## Rolling Dice II\n",
    "**Exercise:** In the previous version of the dice problem, the prior probabilities are the same because the box contains one of each die.\n",
    "But suppose the box contains 1 die that is 4-sided, 2 dice that are 6-sided, 3 dice that are 8-sided, 4 dice that are 12-sided, and 5 dice that are 20-sided.\n",
    "I choose a die, roll it, and get a 7.\n",
    "What is the probability that I chose an 8-sided die?\n",
    "\n",
    "Hint: To make the prior distribution, call `Pmf` with two parameters."
   ]
  },
  {
   "cell_type": "code",
   "execution_count": null,
   "id": "a0d7db8a-e015-467f-a7a8-33843af6bf5d",
   "metadata": {},
   "outputs": [],
   "source": [
    "# Solution goes here"
   ]
  },
  {
   "cell_type": "markdown",
   "id": "e5b9199c-fc1a-4769-8b87-2798367db42d",
   "metadata": {},
   "source": [
    "## Sock Drawers\n",
    "**Exercise:** Suppose I have two sock drawers.\n",
    "One contains equal numbers of black and white socks.\n",
    "The other contains equal numbers of red, green, and blue socks.\n",
    "Suppose I choose a drawer at random, choose two socks at random, and I tell you that I got a matching pair.\n",
    "What is the probability that the socks are white?\n",
    "\n",
    "For simplicity, let's assume that there are so many socks in both drawers that removing one sock makes a negligible change to the proportions."
   ]
  },
  {
   "cell_type": "code",
   "execution_count": 10,
   "id": "66591bd9-98b9-4881-bf4f-d9003d5c656b",
   "metadata": {},
   "outputs": [],
   "source": [
    "# Solution goes here"
   ]
  },
  {
   "cell_type": "code",
   "execution_count": null,
   "id": "a30f3dff-7209-44d3-a1fb-58ab5d3c8325",
   "metadata": {},
   "outputs": [],
   "source": [
    "# Solution goes here"
   ]
  },
  {
   "cell_type": "markdown",
   "id": "ef99d6e7-464c-4756-afdd-d5286144816f",
   "metadata": {},
   "source": [
    "## Elvis Twin\n",
    "**Exercise:** Here's a problem from [Bayesian Data Analysis](http://www.stat.columbia.edu/~gelman/book/):\n",
    "\n",
    "> Elvis Presley had a twin brother (who died at birth). What is the probability that Elvis was an identical twin?\n",
    "\n",
    "Hint: In 1935, about 2/3 of twins were fraternal and 1/3 were identical."
   ]
  },
  {
   "cell_type": "code",
   "execution_count": null,
   "id": "21886a3f-01a8-4d16-b409-5a8a12ad9eeb",
   "metadata": {},
   "outputs": [],
   "source": [
    "# Solution goes here"
   ]
  },
  {
   "cell_type": "code",
   "execution_count": null,
   "id": "476d49c6-66af-43b7-894c-fa255e14692b",
   "metadata": {},
   "outputs": [],
   "source": [
    "# Solution goes here"
   ]
  },
  {
   "cell_type": "code",
   "execution_count": null,
   "id": "6da98bad-de3d-449a-9bb5-b981d4f7274f",
   "metadata": {},
   "outputs": [],
   "source": [
    "# Solution goes here"
   ]
  },
  {
   "cell_type": "markdown",
   "id": "a909ac9c-8ff7-4d04-b4b2-3435b16f6854",
   "metadata": {
    "toc-hr-collapsed": true
   },
   "source": [
    "# Chapter 04: estimating proportions"
   ]
  },
  {
   "cell_type": "markdown",
   "id": "881240a8-896d-419c-9b4c-52d5fe5f6981",
   "metadata": {},
   "source": [
    "## Batting Average\n",
    "**Exercise:** In Major League Baseball, most players have a batting average between 200 and 330, which means that their probability of getting a hit is between 0.2 and 0.33.\n",
    "\n",
    "Suppose a player appearing in their first game gets 3 hits out of 3 attempts.  What is the posterior distribution for their probability of getting a hit?"
   ]
  },
  {
   "cell_type": "markdown",
   "id": "9364c222-c90f-43e0-aacc-bbc1e66a671c",
   "metadata": {
    "tags": []
   },
   "source": [
    "For this exercise, I'll construct the prior distribution by starting with a uniform distribution and updating it with imaginary data until it has a shape that reflects my background knowledge of batting averages.\n",
    "\n",
    "Here's the uniform prior:"
   ]
  },
  {
   "cell_type": "code",
   "execution_count": null,
   "id": "05d27727-a71a-441e-a085-759994c160a8",
   "metadata": {
    "tags": []
   },
   "outputs": [],
   "source": [
    "hypos = np.linspace(0.1, 0.4, 101)\n",
    "prior = Pmf(1, hypos)"
   ]
  },
  {
   "cell_type": "markdown",
   "id": "b7b2c18c-2d49-41a9-bbd2-9df799bb5342",
   "metadata": {
    "tags": []
   },
   "source": [
    "And here is a dictionary of likelihoods, with `Y` for getting a hit and `N` for not getting a hit."
   ]
  },
  {
   "cell_type": "code",
   "execution_count": null,
   "id": "22ed8760-ee8d-45a3-8e85-9f8d01e73830",
   "metadata": {
    "tags": []
   },
   "outputs": [],
   "source": [
    "likelihood = {\n",
    "    'Y': hypos,\n",
    "    'N': 1-hypos\n",
    "}"
   ]
  },
  {
   "cell_type": "markdown",
   "id": "71114fc5-7e6b-4b79-bbf1-c2edf4783f9f",
   "metadata": {
    "tags": []
   },
   "source": [
    "Here's a dataset that yields a reasonable prior distribution."
   ]
  },
  {
   "cell_type": "code",
   "execution_count": null,
   "id": "3306ec00-e383-4869-8ffa-557c5e5d347f",
   "metadata": {
    "tags": []
   },
   "outputs": [],
   "source": [
    "dataset = 'Y' * 25 + 'N' * 75"
   ]
  },
  {
   "cell_type": "markdown",
   "id": "1de12396-a6ed-4362-bb79-c5df743905b9",
   "metadata": {
    "tags": []
   },
   "source": [
    "And here's the update with the imaginary data."
   ]
  },
  {
   "cell_type": "code",
   "execution_count": null,
   "id": "fb967719-8704-4f4c-ad87-e3ff5120620d",
   "metadata": {
    "tags": []
   },
   "outputs": [],
   "source": [
    "for data in dataset:\n",
    "    prior *= likelihood[data]\n",
    "\n",
    "prior.normalize()"
   ]
  },
  {
   "cell_type": "markdown",
   "id": "59afa8b4-5bf7-42f1-afce-f4c3917411fc",
   "metadata": {
    "tags": []
   },
   "source": [
    "Finally, here's what the prior looks like."
   ]
  },
  {
   "cell_type": "code",
   "execution_count": null,
   "id": "986050ba-da26-4d5b-b07a-6efc46350ff7",
   "metadata": {
    "tags": []
   },
   "outputs": [],
   "source": [
    "prior.plot(label='prior')\n",
    "decorate(xlabel='Probability of getting a hit',\n",
    "         ylabel='PMF')"
   ]
  },
  {
   "cell_type": "markdown",
   "id": "647b64e7-746f-4bd6-969f-c8f98ec9f201",
   "metadata": {
    "tags": []
   },
   "source": [
    "This distribution indicates that most players have a batting average near 250, with only a few players below 175 or above 350.  I'm not sure how accurately this prior reflects the distribution of batting averages in Major League Baseball, but it is good enough for this exercise.\n",
    "\n",
    "Now update this distribution with the data and plot the posterior.  What is the most likely quantity in the posterior distribution?"
   ]
  },
  {
   "cell_type": "code",
   "execution_count": null,
   "id": "e52cf8e5-5d89-426b-ad8a-f64a722de789",
   "metadata": {},
   "outputs": [],
   "source": [
    "# Solution goes here"
   ]
  },
  {
   "cell_type": "code",
   "execution_count": null,
   "id": "44468c94-e7d8-4c53-9bd8-67d7f8e380b3",
   "metadata": {},
   "outputs": [],
   "source": [
    "# Solution goes here"
   ]
  },
  {
   "cell_type": "code",
   "execution_count": null,
   "id": "517e6741-e85e-498a-b876-8c6d72098c98",
   "metadata": {},
   "outputs": [],
   "source": [
    "# Solution goes here"
   ]
  },
  {
   "cell_type": "code",
   "execution_count": null,
   "id": "25e560b6-c515-48e7-874b-a36d3cdeae45",
   "metadata": {},
   "outputs": [],
   "source": [
    "# Solution goes here"
   ]
  },
  {
   "cell_type": "markdown",
   "id": "e05311c0-f425-4f71-9296-aff920cd83b4",
   "metadata": {},
   "source": [
    "## Social Desirability Bias\n",
    "**Exercise:** Whenever you survey people about sensitive issues, you have to deal with [social desirability bias](https://en.wikipedia.org/wiki/Social_desirability_bias), which is the tendency of people to adjust their answers to show themselves in the most positive light.\n",
    "One way to improve the accuracy of the results is [randomized response](https://en.wikipedia.org/wiki/Randomized_response).\n",
    "\n",
    "As an example, suppose want to know how many people cheat on their taxes.  \n",
    "If you ask them directly, it is likely that some of the cheaters will lie.\n",
    "You can get a more accurate estimate if you ask them indirectly, like this: Ask each person to flip a coin and, without revealing the outcome,\n",
    "\n",
    "* If they get heads, they report YES.\n",
    "\n",
    "* If they get tails, they honestly answer the question \"Do you cheat on your taxes?\"\n",
    "\n",
    "If someone says YES, we don't know whether they actually cheat on their taxes; they might have flipped yes.\n",
    "Knowing this, people might be more willing to answer honestly.\n",
    "\n",
    "Suppose you survey 100 people this way and get 80 YESes and 20 NOs.  Based on this data, what is the posterior distribution for the fraction of people who cheat on their taxes?  What is the most likely quantity in the posterior distribution?"
   ]
  },
  {
   "cell_type": "code",
   "execution_count": 11,
   "id": "2dff8bf8-263e-4d42-b1da-bb4fecfa3282",
   "metadata": {},
   "outputs": [],
   "source": [
    "# Solution goes here"
   ]
  },
  {
   "cell_type": "code",
   "execution_count": null,
   "id": "9edd6529-b7f0-4e6b-82fc-256e7033b86a",
   "metadata": {},
   "outputs": [],
   "source": [
    "# Solution goes here"
   ]
  },
  {
   "cell_type": "code",
   "execution_count": null,
   "id": "978675e5-44bc-44cc-bc95-56f45f47e40a",
   "metadata": {},
   "outputs": [],
   "source": [
    "# Solution goes here"
   ]
  },
  {
   "cell_type": "code",
   "execution_count": null,
   "id": "8ad4b16e-10aa-4bb9-b862-d44387eecbb0",
   "metadata": {},
   "outputs": [],
   "source": [
    "# Solution goes here"
   ]
  },
  {
   "cell_type": "code",
   "execution_count": null,
   "id": "6713bd5a-c66a-4c67-bcc3-876b15578736",
   "metadata": {},
   "outputs": [],
   "source": [
    "# Solution goes here"
   ]
  },
  {
   "cell_type": "markdown",
   "id": "5cdeefbe-94f9-415d-b730-29f48271cb38",
   "metadata": {},
   "source": [
    "## Machine to Spot the Fairnes of a Coin\n",
    "**Exercise:** Suppose you want to test whether a coin is fair, but you don't want to spin it hundreds of times.\n",
    "So you make a machine that spins the coin automatically and uses computer vision to determine the outcome.\n",
    "\n",
    "However, you discover that the machine is not always accurate.  Specifically, suppose the probability is `y=0.2` that an actual heads is reported as tails, or actual tails reported as heads.\n",
    "\n",
    "If we spin a coin 250 times and the machine reports 140 heads, what is the posterior distribution of `x`?\n",
    "What happens as you vary the value of `y`?"
   ]
  },
  {
   "cell_type": "code",
   "execution_count": null,
   "id": "203f2973-a94e-4a07-a290-70732f6a78ba",
   "metadata": {},
   "outputs": [],
   "source": [
    "# Solution goes here"
   ]
  },
  {
   "cell_type": "code",
   "execution_count": null,
   "id": "c12409e0-74a5-4014-b537-b884c72a5030",
   "metadata": {},
   "outputs": [],
   "source": [
    "# Solution goes here"
   ]
  },
  {
   "cell_type": "code",
   "execution_count": null,
   "id": "e6000791-76e1-48cc-8976-0652e9e93515",
   "metadata": {},
   "outputs": [],
   "source": [
    "# Solution goes here"
   ]
  },
  {
   "cell_type": "code",
   "execution_count": null,
   "id": "5c0c5138-d385-43ea-84c2-e8226646a11d",
   "metadata": {},
   "outputs": [],
   "source": [
    "# Solution goes here"
   ]
  },
  {
   "cell_type": "markdown",
   "id": "285067c6-87cd-4c7d-a410-57d1d3aa52f0",
   "metadata": {},
   "source": [
    "## Alien Invasion\n",
    "**Exercise:** In preparation for an alien invasion, the Earth Defense League (EDL) has been working on new missiles to shoot down space invaders.  Of course, some missile designs are better than others; let's assume that each design has some probability of hitting an alien ship, `x`.\n",
    "\n",
    "Based on previous tests, the distribution of `x` in the population of designs is approximately uniform between 0.1 and 0.4.\n",
    "\n",
    "Now suppose the new ultra-secret Alien Blaster 9000 is being tested.  In a press conference, an EDL general reports that the new design has been tested twice, taking two shots during each test.  The results of the test are confidential, so the general won't say how many targets were hit, but they report: \"The same number of targets were hit in the two tests, so we have reason to think this new design is consistent.\"\n",
    "\n",
    "Is this data good or bad; that is, does it increase or decrease your estimate of `x` for the Alien Blaster 9000?"
   ]
  },
  {
   "cell_type": "markdown",
   "id": "abc7a466-dceb-4776-a913-d5de11964f84",
   "metadata": {
    "tags": []
   },
   "source": [
    "Hint: If the probability of hitting each target is $x$, the probability of hitting one target in both tests\n",
    "is $\\left[2x(1-x)\\right]^2$."
   ]
  },
  {
   "cell_type": "code",
   "execution_count": null,
   "id": "8866e803-e35e-4fe4-b8c8-db7ac6a3bc7a",
   "metadata": {},
   "outputs": [],
   "source": [
    "# Solution goes here"
   ]
  },
  {
   "cell_type": "code",
   "execution_count": null,
   "id": "0a165aa8-0c50-42ae-bedf-4fbba0357b24",
   "metadata": {},
   "outputs": [],
   "source": [
    "# Solution goes here"
   ]
  },
  {
   "cell_type": "code",
   "execution_count": null,
   "id": "1f12928e-61c9-4d5a-9ee6-0352a7a40a0f",
   "metadata": {},
   "outputs": [],
   "source": [
    "# Solution goes here"
   ]
  },
  {
   "cell_type": "code",
   "execution_count": null,
   "id": "40f1f98a-f58f-4308-a3dc-55024effaa35",
   "metadata": {},
   "outputs": [],
   "source": [
    "# Solution goes here"
   ]
  },
  {
   "cell_type": "code",
   "execution_count": null,
   "id": "c5444d93-6198-4bdd-9079-dd3b8cb59e43",
   "metadata": {},
   "outputs": [],
   "source": [
    "# Solution goes here"
   ]
  },
  {
   "cell_type": "code",
   "execution_count": null,
   "id": "a973109f-94be-4875-86fa-3c4888832c6e",
   "metadata": {},
   "outputs": [],
   "source": [
    "# Solution goes here"
   ]
  },
  {
   "cell_type": "code",
   "execution_count": 9,
   "id": "5fd0f10b-bd75-4596-9749-191a9579e900",
   "metadata": {},
   "outputs": [],
   "source": [
    "# Solution goes here"
   ]
  },
  {
   "cell_type": "markdown",
   "id": "3388318a-7a76-4567-bfa7-6a810bce4626",
   "metadata": {
    "toc-hr-collapsed": true
   },
   "source": [
    "# Chapter 05: Estimating counts"
   ]
  },
  {
   "cell_type": "markdown",
   "id": "29b859dc-0b69-401b-b5a7-273c99021429",
   "metadata": {},
   "source": [
    "## Audience Over Capacity\n",
    "**Exercise:** Suppose you are giving a talk in a large lecture hall and the fire marshal interrupts because they think the audience exceeds 1200 people, which is the safe capacity of the room. \n",
    "\n",
    "You think there are fewer then 1200 people, and you offer to prove it.\n",
    "It would take too long to count, so you try an experiment:\n",
    "\n",
    "* You ask how many people were born on May 11 and two people raise their hands.  \n",
    "\n",
    "* You ask how many were born on May 23 and 1 person raises their hand.  \n",
    "* Finally, you ask how many were born on August 1, and no one raises their hand.\n",
    "\n",
    "How many people are in the audience?  What is the probability that there are more than 1200 people.\n",
    "Hint: Remember the binomial distribution."
   ]
  },
  {
   "cell_type": "code",
   "execution_count": null,
   "id": "dae4f725-0314-408b-8c54-fdf0354c353b",
   "metadata": {},
   "outputs": [],
   "source": [
    "# Solution goes here"
   ]
  },
  {
   "cell_type": "code",
   "execution_count": null,
   "id": "a490713b-56e5-4c58-a67b-a55ef66fd2a2",
   "metadata": {},
   "outputs": [],
   "source": [
    "# Solution goes here"
   ]
  },
  {
   "cell_type": "code",
   "execution_count": null,
   "id": "79f12dc4-da15-4ad5-adf2-5b6535fc8fca",
   "metadata": {},
   "outputs": [],
   "source": [
    "# Solution goes here"
   ]
  },
  {
   "cell_type": "code",
   "execution_count": null,
   "id": "4a7cd512-9dac-410e-a530-39fe6fc67dec",
   "metadata": {},
   "outputs": [],
   "source": [
    "# Solution goes here"
   ]
  },
  {
   "cell_type": "code",
   "execution_count": null,
   "id": "108dea96-6da3-4182-a6ec-e184a4dca822",
   "metadata": {},
   "outputs": [],
   "source": [
    "# Solution goes here"
   ]
  },
  {
   "cell_type": "code",
   "execution_count": null,
   "id": "a092e3e8-4894-4c67-b47c-e15c5b0ac04e",
   "metadata": {},
   "outputs": [],
   "source": [
    "# Solution goes here"
   ]
  },
  {
   "cell_type": "markdown",
   "id": "ad7d316d-ca3f-4dad-8ee9-1aa5b6676adf",
   "metadata": {
    "tags": []
   },
   "source": [
    "## Counting Rabbits\n",
    "**Exercise:** I often see [rabbits](https://en.wikipedia.org/wiki/Eastern_cottontail) in the garden behind my house, but it's not easy to tell them apart, so I don't really know how many there are.\n",
    "\n",
    "Suppose I deploy a motion-sensing [camera trap](https://en.wikipedia.org/wiki/Camera_trap) that takes a picture of the first rabbit it sees each day.  After three days, I compare the pictures and conclude that two of them are the same rabbit and the other is different.\n",
    "\n",
    "How many rabbits visit my garden?\n",
    "\n",
    "To answer this question, we have to think about the prior distribution and the likelihood of the data:\n",
    "\n",
    "* I have sometimes seen four rabbits at the same time, so I know there are at least that many.  I would be surprised if there were more than 10.  So, at least as a starting place, I think a uniform prior from 4 to 10 is reasonable.\n",
    "\n",
    "* To keep things simple, let's assume that all rabbits who visit my garden are equally likely to be caught by the camera trap in a given day.  Let's also assume it is guaranteed that the camera trap gets a picture every day."
   ]
  },
  {
   "cell_type": "code",
   "execution_count": null,
   "id": "7c419d36-074b-406c-b035-f39daf3985de",
   "metadata": {},
   "outputs": [],
   "source": [
    "# Solution goes here"
   ]
  },
  {
   "cell_type": "code",
   "execution_count": null,
   "id": "593be8c0-ef10-4103-9729-5e7675e919f6",
   "metadata": {},
   "outputs": [],
   "source": [
    "# Solution goes here"
   ]
  },
  {
   "cell_type": "code",
   "execution_count": null,
   "id": "48ca91fc-ee7e-41a2-bb28-953dc570d644",
   "metadata": {},
   "outputs": [],
   "source": [
    "# Solution goes here"
   ]
  },
  {
   "cell_type": "markdown",
   "id": "30026550-8bc9-4560-897a-592a65bbdf79",
   "metadata": {},
   "source": [
    "## Sentences Served\n",
    "**Exercise:** Suppose that in the criminal justice system, all prison sentences are either 1, 2, or 3 years, with an equal number of each.  One day, you visit a prison and choose a prisoner at random.  What is the probability that they are serving a 3-year sentence?  What is the average remaining sentence of the prisoners you observe?"
   ]
  },
  {
   "cell_type": "code",
   "execution_count": 12,
   "id": "541a6511-0cef-474e-8527-0ad4d0bccf02",
   "metadata": {},
   "outputs": [],
   "source": [
    "# Solution goes here"
   ]
  },
  {
   "cell_type": "code",
   "execution_count": 13,
   "id": "68525313-6d7f-4554-a135-baa15e052a20",
   "metadata": {},
   "outputs": [],
   "source": [
    "# Solution goes here"
   ]
  },
  {
   "cell_type": "code",
   "execution_count": null,
   "id": "f463ac3c-9605-4045-877e-72db1cc531e2",
   "metadata": {},
   "outputs": [],
   "source": [
    "# Solution goes here"
   ]
  },
  {
   "cell_type": "markdown",
   "id": "ef241572-cac4-414d-a96c-5c47c3292e9e",
   "metadata": {},
   "source": [
    "## Sibling Probability\n",
    "**Exercise:** If I chose a random adult in the U.S., what is the probability that they have a sibling?  To be precise, what is the probability that their mother has had at least one other child.\n",
    "\n",
    "[This article from the Pew Research Center](https://www.pewsocialtrends.org/2015/05/07/family-size-among-mothers/) provides some relevant data.  "
   ]
  },
  {
   "cell_type": "markdown",
   "id": "1db604d2-e424-4700-9c84-72a061f35234",
   "metadata": {
    "tags": []
   },
   "source": [
    "From it, I extracted the following distribution of family size for mothers in the U.S. who were 40-44 years old in 2014:"
   ]
  },
  {
   "cell_type": "code",
   "execution_count": null,
   "id": "bcd12b7b-e167-4b49-9011-a3bcd7fcc7af",
   "metadata": {
    "tags": []
   },
   "outputs": [],
   "source": [
    "import matplotlib.pyplot as plt\n",
    "\n",
    "qs = [1, 2, 3, 4]\n",
    "ps = [22, 41, 24, 14]\n",
    "prior = Pmf(ps, qs)\n",
    "prior.bar(alpha=0.7)\n",
    "\n",
    "plt.xticks(qs, ['1 child', '2 children', '3 children', '4+ children'])\n",
    "decorate(ylabel='PMF',\n",
    "         title='Distribution of family size')"
   ]
  },
  {
   "cell_type": "markdown",
   "id": "4178a6a5-417b-4800-b311-04d1f314ec76",
   "metadata": {
    "tags": []
   },
   "source": [
    "For simplicity, let's assume that all families in the 4+ category have exactly 4 children."
   ]
  },
  {
   "cell_type": "code",
   "execution_count": null,
   "id": "8af9355d-52c0-48ac-9533-5460a5506541",
   "metadata": {},
   "outputs": [],
   "source": [
    "# Solution goes here"
   ]
  },
  {
   "cell_type": "code",
   "execution_count": null,
   "id": "500f6864-b0d2-48f2-a2f9-f16797607459",
   "metadata": {},
   "outputs": [],
   "source": [
    "# Solution goes here"
   ]
  },
  {
   "cell_type": "code",
   "execution_count": null,
   "id": "add92c9b-9bfa-4f42-8523-7cb8f0dadf1b",
   "metadata": {},
   "outputs": [],
   "source": [
    "# Solution goes here"
   ]
  },
  {
   "cell_type": "markdown",
   "id": "7cc17da1-fdd4-49f6-8028-9dfe1658cfd0",
   "metadata": {
    "tags": []
   },
   "source": [
    "## Doomsday argument\n",
    "**Exercise:** The [Doomsday argument](https://en.wikipedia.org/wiki/Doomsday_argument) is \"a probabilistic argument that claims to predict the number of future members of the human species given an estimate of the total number of humans born so far.\"\n",
    "\n",
    "Suppose there are only two kinds of intelligent civilizations that can happen in the universe.  The \"short-lived\" kind go exinct after only 200 billion individuals are born.  The \"long-lived\" kind survive until 2,000 billion individuals are born.\n",
    "And suppose that the two kinds of civilization are equally likely.\n",
    "Which kind of civilization do you think we live in?  \n",
    "\n",
    "The Doomsday argument says we can use the total number of humans born so far as data.\n",
    "According to the [Population Reference Bureau](https://www.prb.org/howmanypeoplehaveeverlivedonearth/), the total number of people who have ever lived is about 108 billion.\n",
    "\n",
    "Since you were born quite recently, let's assume that you are, in fact, human being number 108 billion.\n",
    "If $N$ is the total number who will ever live and we consider you to be a randomly-chosen person, it is equally likely that you could have been person 1, or $N$, or any number in between.\n",
    "So what is the probability that you would be number 108 billion?\n",
    "\n",
    "Given this data and dubious prior, what is the probability that our civilization will be short-lived?"
   ]
  },
  {
   "cell_type": "code",
   "execution_count": null,
   "id": "a9775754-5267-4eb2-9e94-9fecc62d1e5b",
   "metadata": {},
   "outputs": [],
   "source": [
    "# Solution goes here"
   ]
  },
  {
   "cell_type": "code",
   "execution_count": null,
   "id": "886d500f-7685-458d-aa2a-7fb88ce9824f",
   "metadata": {},
   "outputs": [],
   "source": [
    "# Solution goes here"
   ]
  },
  {
   "cell_type": "code",
   "execution_count": null,
   "id": "ea460d16-1393-48cd-8deb-d604d1d0ffda",
   "metadata": {},
   "outputs": [],
   "source": [
    "# Solution goes here"
   ]
  },
  {
   "cell_type": "code",
   "execution_count": null,
   "id": "6d8f47ca-7e53-4593-a569-cd66d1953b1c",
   "metadata": {},
   "outputs": [],
   "source": []
  },
  {
   "cell_type": "markdown",
   "id": "e038eb59-9951-424e-bf13-3a09ae85c9fe",
   "metadata": {
    "tags": [],
    "toc-hr-collapsed": true
   },
   "source": [
    "# Chapter 06: Odds and Addends\n",
    "## Elvis Twin II\n",
    "**Exercise:** Let's use Bayes's Rule to solve the Elvis problem from <<_Distributions>>:\n",
    "\n",
    "> Elvis Presley had a twin brother who died at birth. What is the probability that Elvis was an identical twin?\n",
    "\n",
    "In 1935, about 2/3 of twins were fraternal and 1/3 were identical.\n",
    "The question contains two pieces of information we can use to update this prior.\n",
    "\n",
    "* First, Elvis's twin was also male, which is more likely if they were identical twins, with a likelihood ratio of 2.\n",
    "\n",
    "* Also, Elvis's twin died at birth, which is more likely if they were identical twins, with a likelihood ratio of 1.25.\n",
    "\n",
    "If you are curious about where those numbers come from, I wrote [a blog post about it](https://www.allendowney.com/blog/2020/01/28/the-elvis-problem-revisited)."
   ]
  },
  {
   "cell_type": "code",
   "execution_count": null,
   "id": "34e6e927-6a84-4fce-b4ce-ea43f2d5b83a",
   "metadata": {},
   "outputs": [],
   "source": [
    "# Solution goes here"
   ]
  },
  {
   "cell_type": "code",
   "execution_count": null,
   "id": "0a82aa9c-8361-49d8-ad32-5197275274f7",
   "metadata": {},
   "outputs": [],
   "source": [
    "# Solution goes here"
   ]
  },
  {
   "cell_type": "code",
   "execution_count": null,
   "id": "919c41aa-ed03-45bf-9fa8-9552989582f2",
   "metadata": {},
   "outputs": [],
   "source": [
    "# Solution goes here"
   ]
  },
  {
   "cell_type": "markdown",
   "id": "e5b3dab1-2574-421b-b443-0f12713d7a9c",
   "metadata": {},
   "source": [
    "## Weather in Seattle\n",
    "**Exercise:** The following is an [interview question that appeared on glassdoor.com](https://www.glassdoor.com/Interview/You-re-about-to-get-on-a-plane-to-Seattle-You-want-to-know-if-you-should-bring-an-umbrella-You-call-3-random-friends-of-y-QTN_519262.htm), attributed to Facebook:\n",
    "\n",
    "> You're about to get on a plane to Seattle. You want to know if you should bring an umbrella. You call 3 random friends of yours who live there and ask each independently if it's raining. Each of your friends has a 2/3 chance of telling you the truth and a 1/3 chance of messing with you by lying. All 3 friends tell you that \"Yes\" it is raining. What is the probability that it's actually raining in Seattle?\n",
    "\n",
    "Use Bayes's Rule to solve this problem.  As a prior you can assume that it rains in Seattle about 10% of the time.\n",
    "\n",
    "This question causes some confusion about the differences between Bayesian and frequentist interpretations of probability; if you are curious about this point, [I wrote a blog article about it](http://allendowney.blogspot.com/2016/09/bayess-theorem-is-not-optional.html)."
   ]
  },
  {
   "cell_type": "code",
   "execution_count": null,
   "id": "5ebf04ca-26b8-4b3a-b627-91c01cd8b1a8",
   "metadata": {},
   "outputs": [],
   "source": [
    "# Solution goes here"
   ]
  },
  {
   "cell_type": "code",
   "execution_count": null,
   "id": "c22edf09-a88e-4c6e-bd8e-af4851b71fef",
   "metadata": {},
   "outputs": [],
   "source": [
    "# Solution goes here"
   ]
  },
  {
   "cell_type": "code",
   "execution_count": null,
   "id": "778eb8c0-cf8d-447a-81be-f5240cd3f5f2",
   "metadata": {},
   "outputs": [],
   "source": [
    "# Solution goes here"
   ]
  },
  {
   "cell_type": "markdown",
   "id": "46bc4157-76d3-4ee7-ba36-1e552480c4da",
   "metadata": {},
   "source": [
    "## Lung Cancer\n",
    "**Exercise:** [According to the CDC](https://www.cdc.gov/tobacco/data_statistics/fact_sheets/health_effects/effects_cig_smoking), people who smoke are about 25 times more likely to develop lung cancer than nonsmokers.\n",
    "\n",
    "[Also according to the CDC](https://www.cdc.gov/tobacco/data_statistics/fact_sheets/adult_data/cig_smoking/index.htm), about 14\\% of adults in the U.S. are smokers.\n",
    "If you learn that someone has lung cancer, what is the probability they are a smoker?"
   ]
  },
  {
   "cell_type": "code",
   "execution_count": null,
   "id": "1c04e8e8-0f84-43d5-94a7-769f5a0fa87f",
   "metadata": {},
   "outputs": [],
   "source": [
    "# Solution goes here"
   ]
  },
  {
   "cell_type": "code",
   "execution_count": null,
   "id": "0d2201f6-a93a-4fff-8446-120e909d42b8",
   "metadata": {},
   "outputs": [],
   "source": [
    "# Solution goes here"
   ]
  },
  {
   "cell_type": "code",
   "execution_count": null,
   "id": "46b89cc2-52c9-48be-9343-5c93b4bc9084",
   "metadata": {},
   "outputs": [],
   "source": [
    "# Solution goes here"
   ]
  },
  {
   "cell_type": "markdown",
   "id": "825bcc1c-857e-461b-bf64-e8158fb269e8",
   "metadata": {},
   "source": [
    "## Goblins\n",
    "**Exercise:** In *Dungeons & Dragons*, the amount of damage a goblin can withstand is the sum of two six-sided dice. The amount of damage you inflict with a short sword is determined by rolling one six-sided die.\n",
    "A goblin is defeated if the total damage you inflict is greater than or equal to the amount it can withstand.\n",
    "\n",
    "Suppose you are fighting a goblin and you have already inflicted 3 points of damage. What is your probability of defeating the goblin with your next successful attack?\n",
    "\n",
    "Hint: You can use `Pmf.add_dist` to add a constant amount, like 3, to a `Pmf` and `Pmf.sub_dist` to compute the distribution of remaining points."
   ]
  },
  {
   "cell_type": "code",
   "execution_count": null,
   "id": "c4472249-9ea6-4e11-90b6-fbfde0a3c61d",
   "metadata": {},
   "outputs": [],
   "source": [
    "# Solution goes here"
   ]
  },
  {
   "cell_type": "code",
   "execution_count": null,
   "id": "80722b6c-5140-4110-95bc-d1fdc54bf41c",
   "metadata": {},
   "outputs": [],
   "source": [
    "# Solution goes here"
   ]
  },
  {
   "cell_type": "code",
   "execution_count": null,
   "id": "098888b8-04ae-4bba-a3fd-f8e367811a92",
   "metadata": {},
   "outputs": [],
   "source": [
    "# Solution goes here"
   ]
  },
  {
   "cell_type": "code",
   "execution_count": null,
   "id": "a1795375-dc29-4d3c-ae70-474b1d1a571d",
   "metadata": {},
   "outputs": [],
   "source": [
    "# Solution goes here"
   ]
  },
  {
   "cell_type": "code",
   "execution_count": null,
   "id": "d9828e74-fb65-48e3-b661-02e4d489de5b",
   "metadata": {},
   "outputs": [],
   "source": [
    "# Solution goes here"
   ]
  },
  {
   "cell_type": "code",
   "execution_count": null,
   "id": "f7e523af-31a6-4cc7-91c9-b1b58468b450",
   "metadata": {},
   "outputs": [],
   "source": [
    "# Solution goes here"
   ]
  },
  {
   "cell_type": "markdown",
   "id": "e69521d5-4be0-4555-9c5f-09de4af1c054",
   "metadata": {},
   "source": [
    "## Dice Value Multiplication\n",
    "**Exercise:** Suppose I have a box with a 6-sided die, an 8-sided die, and a 12-sided die.\n",
    "I choose one of the dice at random, roll it twice, multiply the outcomes, and report that the product is 12.\n",
    "What is the probability that I chose the 8-sided die?\n",
    "\n",
    "Hint: `Pmf` provides a function called `mul_dist` that takes two `Pmf` objects and returns a `Pmf` that represents the distribution of the product."
   ]
  },
  {
   "cell_type": "code",
   "execution_count": 14,
   "id": "927fdd4b-6143-40c9-a34f-afabda2d02ee",
   "metadata": {},
   "outputs": [],
   "source": [
    "# Solution goes here"
   ]
  },
  {
   "cell_type": "code",
   "execution_count": 15,
   "id": "cdb61c6e-7c38-45f2-873a-abd21170ab82",
   "metadata": {},
   "outputs": [],
   "source": [
    "# Solution goes here"
   ]
  },
  {
   "cell_type": "code",
   "execution_count": 16,
   "id": "28c89f6f-a433-48c2-9dbf-37cd01c1b582",
   "metadata": {},
   "outputs": [],
   "source": [
    "# Solution goes here"
   ]
  },
  {
   "cell_type": "code",
   "execution_count": 17,
   "id": "3b665fd1-c882-4c1e-9f3d-00128b46a71a",
   "metadata": {},
   "outputs": [],
   "source": [
    "# Solution goes here"
   ]
  },
  {
   "cell_type": "markdown",
   "id": "f813c32f-4d43-431c-a8c3-93a0cd37ffbf",
   "metadata": {},
   "source": [
    "## Betrayal at House on the Hill\n",
    "**Exercise:** *Betrayal at House on the Hill* is a strategy game in which characters with different attributes explore a haunted house.  Depending on their attributes, the characters roll different numbers of dice.  For example, if attempting a task that depends on knowledge, Professor Longfellow rolls 5 dice, Madame Zostra rolls 4, and Ox Bellows rolls 3.  Each die yields 0, 1, or 2 with equal probability.  \n",
    "\n",
    "If a randomly chosen character attempts a task three times and rolls a total of 3 on the first attempt, 4 on the second, and 5 on the third, which character do you think it was?"
   ]
  },
  {
   "cell_type": "code",
   "execution_count": null,
   "id": "b13a2ba5-c2d6-4613-8eaf-241ebf28a5f1",
   "metadata": {},
   "outputs": [],
   "source": [
    "# Solution goes here"
   ]
  },
  {
   "cell_type": "code",
   "execution_count": null,
   "id": "34baf7d9-9268-4a6e-988b-190de41df127",
   "metadata": {},
   "outputs": [],
   "source": [
    "# Solution goes here"
   ]
  },
  {
   "cell_type": "code",
   "execution_count": null,
   "id": "039e7c39-d2b9-4247-81b7-b23d3eae5a1d",
   "metadata": {},
   "outputs": [],
   "source": [
    "# Solution goes here"
   ]
  },
  {
   "cell_type": "code",
   "execution_count": null,
   "id": "8184ca85-c857-4bed-8bdd-15a174c17e56",
   "metadata": {},
   "outputs": [],
   "source": [
    "# Solution goes here"
   ]
  },
  {
   "cell_type": "code",
   "execution_count": null,
   "id": "483c5aef-6468-4cdc-8878-3d4b2ad2ffd1",
   "metadata": {},
   "outputs": [],
   "source": [
    "# Solution goes here"
   ]
  },
  {
   "cell_type": "code",
   "execution_count": null,
   "id": "253c932b-7edd-4293-8547-21a9328107e8",
   "metadata": {},
   "outputs": [],
   "source": [
    "# Solution goes here"
   ]
  },
  {
   "cell_type": "code",
   "execution_count": null,
   "id": "fe120a3c-a15f-402d-818a-fcd9dba3979a",
   "metadata": {},
   "outputs": [],
   "source": [
    "# Solution goes here"
   ]
  },
  {
   "cell_type": "markdown",
   "id": "d9adc801-7fd0-4fd3-accb-5adf0aef501b",
   "metadata": {},
   "source": [
    "## US Congress\n",
    "**Exercise:** There are 538 members of the United States Congress.  \n",
    "Suppose we audit their investment portfolios and find that 312 of them out-perform the market.\n",
    "Let's assume that an honest member of Congress has only a 50% chance of out-performing the market, but a dishonest member who trades on inside information has a 90% chance.  How many members of Congress are honest?"
   ]
  },
  {
   "cell_type": "code",
   "execution_count": null,
   "id": "4329a116-33ec-4acb-aad7-a9f539994226",
   "metadata": {},
   "outputs": [],
   "source": [
    "# Solution goes here"
   ]
  },
  {
   "cell_type": "code",
   "execution_count": null,
   "id": "901ee129-82d1-402a-b285-a3170bb67ca6",
   "metadata": {},
   "outputs": [],
   "source": [
    "# Solution goes here"
   ]
  },
  {
   "cell_type": "code",
   "execution_count": null,
   "id": "b06c6022-14e9-4543-8ea3-a9dcce3e92d0",
   "metadata": {},
   "outputs": [],
   "source": [
    "# Solution goes here"
   ]
  },
  {
   "cell_type": "code",
   "execution_count": null,
   "id": "59a920cc-b7b0-478b-8f91-631ac940dddd",
   "metadata": {},
   "outputs": [],
   "source": [
    "# Solution goes here"
   ]
  },
  {
   "cell_type": "code",
   "execution_count": null,
   "id": "07908974-1f84-4fb3-ac3a-0b778f0efc8d",
   "metadata": {},
   "outputs": [],
   "source": [
    "# Solution goes here"
   ]
  },
  {
   "cell_type": "code",
   "execution_count": null,
   "id": "be1ccdeb-a158-492e-b244-33e3fc9b3872",
   "metadata": {},
   "outputs": [],
   "source": [
    "# Solution goes here"
   ]
  },
  {
   "cell_type": "code",
   "execution_count": null,
   "id": "acc5cdc2-73dd-4a57-af5c-addcfc983104",
   "metadata": {},
   "outputs": [],
   "source": [
    "# Solution goes here"
   ]
  },
  {
   "cell_type": "code",
   "execution_count": null,
   "id": "cb4aa623-774a-4abd-b8d8-dcadc4eef236",
   "metadata": {},
   "outputs": [],
   "source": []
  },
  {
   "cell_type": "markdown",
   "id": "47d9e959-6cf1-4c63-816d-80795707fc7e",
   "metadata": {
    "tags": [],
    "toc-hr-collapsed": true
   },
   "source": [
    "# Chapter 07: Minimum, Maximum and Mixture\n",
    "## DD Standard Array\n",
    "**Exercise:** When you generate a D&D character, instead of rolling dice, you can use the \"standard array\" of attributes, which is 15, 14, 13, 12, 10, and 8.\n",
    "Do you think you are better off using the standard array or (literally) rolling the dice?\n",
    "\n",
    "Compare the distribution of the values in the standard array to the distribution we computed for the best three out of four:\n",
    "\n",
    "* Which distribution has higher mean?  Use the `mean` method.\n",
    "\n",
    "* Which distribution has higher standard deviation?  Use the `std` method.\n",
    "\n",
    "* The lowest value in the standard array is 8.  For each attribute, what is the probability of getting a value less than 8?  If you roll the dice six times, what's the probability that at least one of your attributes is less than 8?\n",
    "\n",
    "* The highest value in the standard array is 15.  For each attribute, what is the probability of getting a value greater than 15?  If you roll the dice six times, what's the probability that at least one of your attributes is greater than 15?"
   ]
  },
  {
   "cell_type": "markdown",
   "id": "23d7c633-adbb-4c44-9738-e6fddc7ee7df",
   "metadata": {
    "tags": []
   },
   "source": [
    "To get you started, here's a `Cdf` that represents the distribution of attributes in the standard array:"
   ]
  },
  {
   "cell_type": "code",
   "execution_count": 67,
   "id": "f2b69a11-3195-4dc6-bae4-f4af0884d734",
   "metadata": {
    "tags": []
   },
   "outputs": [],
   "source": [
    "standard = [15, 14,13,12,10,8]\n",
    "cdf_standard = Cdf.from_seq(standard)"
   ]
  },
  {
   "cell_type": "markdown",
   "id": "fdd7ad44-cb75-4262-b71d-8d4f13b2463d",
   "metadata": {
    "tags": []
   },
   "source": [
    "We can compare it to the distribution of attributes you get by rolling four dice at adding up the best three."
   ]
  },
  {
   "cell_type": "code",
   "execution_count": 68,
   "id": "6b2ae1d6-15a7-4d08-adfe-1768dee958ff",
   "metadata": {
    "tags": []
   },
   "outputs": [
    {
     "data": {
      "image/png": "[encoded data removed]",
      "text/plain": [
       "<Figure size 432x288 with 1 Axes>"
      ]
     },
     "metadata": {
      "needs_background": "light"
     },
     "output_type": "display_data"
    }
   ],
   "source": [
    "cdf_best3.plot(label='best 3 of 4', color='C1', style='--')\n",
    "cdf_standard.step(label='standard set', color='C7')\n",
    "\n",
    "decorate_dice('Distribution of attributes')\n",
    "plt.ylabel('CDF');"
   ]
  },
  {
   "cell_type": "markdown",
   "id": "3fc472e4-80eb-4062-989e-e21b552ce094",
   "metadata": {
    "tags": []
   },
   "source": [
    "I plotted `cdf_standard` as a step function to show more clearly that it contains only a few quantities."
   ]
  },
  {
   "cell_type": "code",
   "execution_count": 69,
   "id": "0b702ad9-79d1-4d65-bd94-5c204fa75e85",
   "metadata": {},
   "outputs": [],
   "source": [
    "# Solution goes here"
   ]
  },
  {
   "cell_type": "code",
   "execution_count": 70,
   "id": "f8afb6ab-b7cc-4500-a1e9-03245011b39c",
   "metadata": {
    "scrolled": true,
    "tags": []
   },
   "outputs": [],
   "source": [
    "# Solution goes here"
   ]
  },
  {
   "cell_type": "code",
   "execution_count": 71,
   "id": "2e77f258-3aac-41d7-9b39-abe4955e2ddc",
   "metadata": {},
   "outputs": [],
   "source": [
    "# Solution goes here"
   ]
  },
  {
   "cell_type": "code",
   "execution_count": 72,
   "id": "e43dd353-682b-4f16-b299-a47f81bcd05a",
   "metadata": {},
   "outputs": [],
   "source": [
    "# Solution goes here"
   ]
  },
  {
   "cell_type": "code",
   "execution_count": 73,
   "id": "5df66328-fa63-4534-a9de-b7e11f4704cc",
   "metadata": {},
   "outputs": [],
   "source": [
    "# Solution goes here"
   ]
  },
  {
   "cell_type": "code",
   "execution_count": 74,
   "id": "2156a342-84c5-48be-a86d-3323ea637aa7",
   "metadata": {},
   "outputs": [],
   "source": [
    "# Solution goes here"
   ]
  },
  {
   "cell_type": "markdown",
   "id": "0b7650bb-35eb-4240-8149-06cd9075fac9",
   "metadata": {},
   "source": [
    "## More D&D\n",
    "**Exercise:** Suppose you are fighting three monsters:\n",
    "\n",
    "* One is armed with a short sword that causes one 6-sided die of damage,\n",
    "\n",
    "* One is armed with a battle axe that causes one 8-sided die of damage, and\n",
    "\n",
    "* One is armed with a bastard sword that causes one 10-sided die of damage.\n",
    "\n",
    "One of the monsters, chosen at random, attacks you and does 1 point of damage.\n",
    "\n",
    "Which monster do you think it was?  Compute the posterior probability that each monster was the attacker.\n",
    "\n",
    "If the same monster attacks you again, what is the probability that you suffer 6 points of damage?\n",
    "\n",
    "Hint: Compute a posterior distribution as we have done before and pass it as one of the arguments to `make_mixture`."
   ]
  },
  {
   "cell_type": "code",
   "execution_count": 75,
   "id": "22c14501-4763-4473-a452-5e87ea6842e2",
   "metadata": {},
   "outputs": [],
   "source": [
    "# Solution goes here"
   ]
  },
  {
   "cell_type": "code",
   "execution_count": 76,
   "id": "28db1714-2b39-41db-b36f-5a73c788bb22",
   "metadata": {},
   "outputs": [],
   "source": [
    "# Solution goes here"
   ]
  },
  {
   "cell_type": "code",
   "execution_count": 77,
   "id": "3c5e9730-af2f-41b4-8dce-d694c038e789",
   "metadata": {},
   "outputs": [],
   "source": [
    "# Solution goes here"
   ]
  },
  {
   "cell_type": "code",
   "execution_count": 78,
   "id": "a21ed96a-c019-4e4d-ac03-c728b19381a1",
   "metadata": {},
   "outputs": [],
   "source": [
    "# Solution goes here"
   ]
  },
  {
   "cell_type": "markdown",
   "id": "b89cb27f-d451-4f7f-bcb1-b8b4c34ec0b0",
   "metadata": {},
   "source": [
    "## Henri Poincaré Bread\n",
    "**Exercise:** Henri Poincaré was a French mathematician who taught at the Sorbonne around 1900. The following anecdote about him is probably fiction, but it makes an interesting probability problem.\n",
    "\n",
    "Supposedly Poincaré suspected that his local bakery was selling loaves of bread that were lighter than the advertised weight of 1 kg, so every day for a year he bought a loaf of bread, brought it home and weighed it. At the end of the year, he plotted the distribution of his measurements and showed that it fit a normal distribution with mean 950 g and standard deviation 50 g. He brought this evidence to the bread police, who gave the baker a warning.\n",
    "\n",
    "For the next year, Poincaré continued to weigh his bread every day. At the end of the year, he found that the average weight was 1000 g, just as it should be, but again he complained to the bread police, and this time they fined the baker.\n",
    "\n",
    "Why? Because the shape of the new distribution was asymmetric. Unlike the normal distribution, it was skewed to the right, which is consistent with the hypothesis that the baker was still making 950 g loaves, but deliberately giving Poincaré the heavier ones.\n",
    "\n",
    "To see whether this anecdote is plausible, let's suppose that when the baker sees Poincaré coming, he hefts `n` loaves of bread and gives Poincaré the heaviest one.  How many loaves would the baker have to heft to make the average of the maximum 1000 g?"
   ]
  },
  {
   "cell_type": "markdown",
   "id": "23f2df4d-855d-45b8-88a5-5a1808ca91ec",
   "metadata": {
    "tags": []
   },
   "source": [
    "To get you started, I'll generate a year's worth of data from a normal distribution with the given parameters."
   ]
  },
  {
   "cell_type": "code",
   "execution_count": 79,
   "id": "699f8a2a-745e-48ef-ae8d-6c6eb94cc22a",
   "metadata": {
    "tags": []
   },
   "outputs": [],
   "source": [
    "mean = 950\n",
    "std = 50\n",
    "\n",
    "np.random.seed(17)\n",
    "sample = np.random.normal(mean, std, size=365)"
   ]
  },
  {
   "cell_type": "code",
   "execution_count": 80,
   "id": "6e6b586b-ef9e-468b-b8bb-6e0213157eb9",
   "metadata": {},
   "outputs": [],
   "source": [
    "# Solution goes here"
   ]
  },
  {
   "cell_type": "code",
   "execution_count": 19,
   "id": "a4ea171b-0307-430c-9b0e-78d3010526f0",
   "metadata": {},
   "outputs": [],
   "source": [
    "# Solution goes here"
   ]
  },
  {
   "cell_type": "markdown",
   "id": "39cf953e-f19a-40a5-8dc8-4e7770c21288",
   "metadata": {
    "toc-hr-collapsed": true
   },
   "source": [
    "# Chapter 08: Poisson Processes\n",
    "## Scoring More Than 5 Goals\n",
    "**Exercise:** Let's finish the exercise we started:\n",
    "\n",
    ">In the 2014 FIFA World Cup, Germany played Brazil in a semifinal match. Germany scored after 11 minutes and again at the 23 minute mark. At that point in the match, how many goals would you expect Germany to score after 90 minutes? What was the probability that they would score 5 more goals (as, in fact, they did)?"
   ]
  },
  {
   "cell_type": "markdown",
   "id": "ce29effb-6548-455c-b0ea-7a8e2ceacb87",
   "metadata": {},
   "source": [
    "Here are the steps I recommend:\n",
    "\n",
    "1. Starting with the same gamma prior we used in the previous problem, compute the likelihood of scoring a goal after 11 minutes for each possible value of `lam`.  Don't forget to convert all times into games rather than minutes.\n",
    "\n",
    "2. Compute the posterior distribution of `lam` for Germany after the first goal.\n",
    "\n",
    "3. Compute the likelihood of scoring another goal after 12 more minutes and do another update.  Plot the prior, posterior after one goal, and posterior after two goals.\n",
    "\n",
    "4. Compute the posterior predictive distribution of goals Germany might score during the remaining time in the game, `90-23` minutes.  Note: you will have to think about how to generate predicted goals for a fraction of a game.\n",
    "\n",
    "5. Compute the probability of scoring 5 or more goals during the remaining time."
   ]
  },
  {
   "cell_type": "code",
   "execution_count": 20,
   "id": "1915fee0-f449-4f66-a3cc-4f848d72261e",
   "metadata": {},
   "outputs": [],
   "source": [
    "# Solution goes here"
   ]
  },
  {
   "cell_type": "code",
   "execution_count": 21,
   "id": "832972e9-c2a6-49d2-8928-2d3584fb948c",
   "metadata": {},
   "outputs": [],
   "source": [
    "# Solution goes here"
   ]
  },
  {
   "cell_type": "code",
   "execution_count": 22,
   "id": "5f2e0f67-b65c-4e32-a4d6-23965d06a335",
   "metadata": {},
   "outputs": [],
   "source": [
    "# Solution goes here"
   ]
  },
  {
   "cell_type": "code",
   "execution_count": 23,
   "id": "b505860d-4447-4dd6-a2a8-8c2ae0859be5",
   "metadata": {},
   "outputs": [],
   "source": [
    "# Solution goes here"
   ]
  },
  {
   "cell_type": "code",
   "execution_count": 24,
   "id": "c1ef6f33-15e9-44df-a10a-6ac2e280998a",
   "metadata": {},
   "outputs": [],
   "source": [
    "# Solution goes here"
   ]
  },
  {
   "cell_type": "code",
   "execution_count": 25,
   "id": "216bb261-bf72-4543-a3b1-f882599a8de4",
   "metadata": {},
   "outputs": [],
   "source": [
    "# Solution goes here"
   ]
  },
  {
   "cell_type": "code",
   "execution_count": 26,
   "id": "0e9c7e17-1e87-4426-a48d-63ae2bd25273",
   "metadata": {},
   "outputs": [],
   "source": [
    "# Solution goes here"
   ]
  },
  {
   "cell_type": "code",
   "execution_count": 27,
   "id": "ce4a7f58-94b8-47a1-922d-8bc095b2fd39",
   "metadata": {},
   "outputs": [],
   "source": [
    "# Solution goes here"
   ]
  },
  {
   "cell_type": "code",
   "execution_count": 28,
   "id": "eed9d3a8-34fb-46ff-9afc-e83bd5580d91",
   "metadata": {},
   "outputs": [],
   "source": [
    "# Solution goes here"
   ]
  },
  {
   "cell_type": "markdown",
   "id": "ec411e11-7e55-4ff9-90f3-e9318d087071",
   "metadata": {},
   "source": [
    "## France Scoring First\n",
    "**Exercise:** Returning to the first version of the World Cup Problem.  Suppose France and Croatia play a rematch.  What is the probability that France scores first?"
   ]
  },
  {
   "cell_type": "markdown",
   "id": "3fa7d1dd-1a6a-4fe9-b45e-8a977e688054",
   "metadata": {
    "tags": []
   },
   "source": [
    "Hint: Compute the posterior predictive distribution for the time until the first goal by making a mixture of exponential distributions.  You can use the following function to make a PMF that approximates an exponential distribution."
   ]
  },
  {
   "cell_type": "code",
   "execution_count": 60,
   "id": "6a9fc687-2330-4b45-a4cd-df678d84717e",
   "metadata": {
    "tags": []
   },
   "outputs": [],
   "source": [
    "def make_expo_pmf(lam, high):\n",
    "    \"\"\"Make a PMF of an exponential distribution.\n",
    "    \n",
    "    lam: event rate\n",
    "    high: upper bound on the interval `t`\n",
    "    \n",
    "    returns: Pmf of the interval between events\n",
    "    \"\"\"\n",
    "    qs = np.linspace(0, high, 101)\n",
    "    ps = expo_pdf(qs, lam)\n",
    "    pmf = Pmf(ps, qs)\n",
    "    pmf.normalize()\n",
    "    return pmf"
   ]
  },
  {
   "cell_type": "code",
   "execution_count": 61,
   "id": "01e85589-acf6-4e2c-9767-7c7dd5ef74c7",
   "metadata": {},
   "outputs": [],
   "source": [
    "# Solution goes here"
   ]
  },
  {
   "cell_type": "code",
   "execution_count": 62,
   "id": "1f2edf98-069c-4ebf-bbdd-e2e66d748422",
   "metadata": {},
   "outputs": [],
   "source": [
    "# Solution goes here"
   ]
  },
  {
   "cell_type": "code",
   "execution_count": 63,
   "id": "5f797539-12c2-46b1-9804-013c5a1dcf99",
   "metadata": {},
   "outputs": [],
   "source": [
    "# Solution goes here"
   ]
  },
  {
   "cell_type": "code",
   "execution_count": 64,
   "id": "efa86dd2-835b-4882-9e33-c7f6f2489627",
   "metadata": {},
   "outputs": [],
   "source": [
    "# Solution goes here"
   ]
  },
  {
   "cell_type": "markdown",
   "id": "918cf0d0-1532-4527-83f5-8233e68d3174",
   "metadata": {},
   "source": [
    "**Exercise:** In the 2010-11 National Hockey League (NHL) Finals, my beloved Boston\n",
    "Bruins played a best-of-seven championship series against the despised\n",
    "Vancouver Canucks.  Boston lost the first two games 0-1 and 2-3, then\n",
    "won the next two games 8-1 and 4-0.  At this point in the series, what\n",
    "is the probability that Boston will win the next game, and what is\n",
    "their probability of winning the championship?\n",
    "\n",
    "To choose a prior distribution, I got some statistics from\n",
    "http://www.nhl.com, specifically the average goals per game\n",
    "for each team in the 2010-11 season.  The distribution is well modeled by a gamma distribution with mean 2.8.\n",
    "\n",
    "In what ways do you think the outcome of these games might violate the assumptions of the Poisson model?  How would these violations affect your predictions?"
   ]
  },
  {
   "cell_type": "code",
   "execution_count": 65,
   "id": "3f5ee5b5-56c2-41cd-9479-aeb1d93d323e",
   "metadata": {},
   "outputs": [],
   "source": [
    "# Solution goes here"
   ]
  },
  {
   "cell_type": "code",
   "execution_count": 66,
   "id": "3175d00d-bab7-499c-864c-76e23fb7644c",
   "metadata": {},
   "outputs": [],
   "source": [
    "# Solution goes here"
   ]
  },
  {
   "cell_type": "code",
   "execution_count": 67,
   "id": "ee14ddcd-9252-40ce-8be6-86e599784d19",
   "metadata": {},
   "outputs": [],
   "source": [
    "# Solution goes here"
   ]
  },
  {
   "cell_type": "code",
   "execution_count": 68,
   "id": "c3bdb2bc-a44c-4d6e-be45-bfd0d38cb6e4",
   "metadata": {},
   "outputs": [],
   "source": [
    "# Solution goes here"
   ]
  },
  {
   "cell_type": "code",
   "execution_count": 69,
   "id": "75b7dca9-93ba-4b8a-a6e1-842a9840874a",
   "metadata": {},
   "outputs": [],
   "source": [
    "# Solution goes here"
   ]
  },
  {
   "cell_type": "code",
   "execution_count": 70,
   "id": "dcecfba1-5dbd-449b-8c14-a3190efb87b6",
   "metadata": {},
   "outputs": [],
   "source": [
    "# Solution goes here"
   ]
  },
  {
   "cell_type": "code",
   "execution_count": 71,
   "id": "9a81befd-af18-42a8-adaf-2edaf6c18b01",
   "metadata": {},
   "outputs": [],
   "source": [
    "# Solution goes here"
   ]
  },
  {
   "cell_type": "code",
   "execution_count": 72,
   "id": "9c6499d4-6fee-4b2f-9912-70c49394343d",
   "metadata": {},
   "outputs": [],
   "source": [
    "# Solution goes here"
   ]
  },
  {
   "cell_type": "code",
   "execution_count": 73,
   "id": "058a43b8-cb98-4793-bc7b-68e516d675df",
   "metadata": {},
   "outputs": [],
   "source": [
    "# Solution goes here"
   ]
  },
  {
   "cell_type": "code",
   "execution_count": 74,
   "id": "7741f98d-ccdf-4c89-928b-45df1f09d8b5",
   "metadata": {},
   "outputs": [],
   "source": [
    "# Solution goes here"
   ]
  },
  {
   "cell_type": "code",
   "execution_count": 75,
   "id": "2625b3e6-ead0-4b33-8c45-71d3d74d9d6a",
   "metadata": {},
   "outputs": [],
   "source": [
    "# Solution goes here"
   ]
  },
  {
   "cell_type": "code",
   "execution_count": 76,
   "id": "b6c34989-8cdc-4e8d-9a43-a0e99e04b42e",
   "metadata": {},
   "outputs": [],
   "source": [
    "# Solution goes here"
   ]
  },
  {
   "cell_type": "code",
   "execution_count": null,
   "id": "2d8036a2-e8b9-474f-85f7-3bd4003514f3",
   "metadata": {},
   "outputs": [],
   "source": []
  }
 ],
 "metadata": {
  "kernelspec": {
   "display_name": "Python 3",
   "language": "python",
   "name": "python3"
  },
  "language_info": {
   "codemirror_mode": {
    "name": "ipython",
    "version": 3
   },
   "file_extension": ".py",
   "mimetype": "text/x-python",
   "name": "python",
   "nbconvert_exporter": "python",
   "pygments_lexer": "ipython3",
   "version": "3.8.2"
  },
  "toc-autonumbering": true
 },
 "nbformat": 4,
 "nbformat_minor": 5
}
