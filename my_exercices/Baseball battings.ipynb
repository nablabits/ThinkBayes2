{
 "cells": [
  {
   "cell_type": "markdown",
   "id": "6edeea80-bfaf-456c-ab62-a7ed01dd0c9e",
   "metadata": {},
   "source": [
    "**Exercise:** In Major League Baseball, most players have a batting average between 200 and 330, which means that their probability of getting a hit is between 0.2 and 0.33.\n",
    "\n",
    "Suppose a player appearing in their first game gets 3 hits out of 3 attempts.  What is the posterior distribution for their probability of getting a hit?"
   ]
  },
  {
   "cell_type": "markdown",
   "id": "8b2280de-a4a8-4470-ad03-1f745928991e",
   "metadata": {
    "tags": []
   },
   "source": [
    "For this exercise, I'll construct the prior distribution by starting with a uniform distribution and updating it with imaginary data until it has a shape that reflects my background knowledge of batting averages.\n",
    "\n",
    "Here's the uniform prior:"
   ]
  },
  {
   "cell_type": "code",
   "execution_count": null,
   "id": "f51ec7d8-8ad9-4a86-a2e5-c25b111d0792",
   "metadata": {
    "tags": []
   },
   "outputs": [],
   "source": [
    "import numpy as np\n",
    "import pandas as pd\n",
    "import seaborn as sns\n",
    "from scipy.stats import binom\n",
    "\n",
    "hypos = np.linspace(.1, .4, 101)\n",
    "\n",
    "# Approach to get the ~80% of the players in the interval .2 and .33\n",
    "# get the mean between .2 and .33\n",
    "# run n experiments\n",
    "# check how close we got from the 80%\n",
    "# Repeat if not close enough\n",
    "\n",
    "m = (.2+.33)/2  #.265\n",
    "\n",
    "# get 265 hits out of 1000 throws: it gives 99% of the players are in the interval\n",
    "# get 53 hits out of 200 throws: it gives 96% of the players are in the interval\n",
    "# get 26 hits out of 100 throws: it gives 86% of the players are in the interval <- winner\n",
    "# get 13 hits out of 50 throws: it gives 70% of the players are in the interval\n",
    "likelihood_fn = binom.pmf(\n",
    "    26, 100, hypos\n",
    ")\n",
    "\n",
    "# build a bayes table to run the experiments. The b_ prefix stands for base as\n",
    "# we will use b_posterior as prior for the update in a posterior step\n",
    "bt = pd.DataFrame({'b_prior': hypos})\n",
    "bt['b_likelihood'] = likelihood_fn\n",
    "bt['b_conjuction'] = bt.b_prior * bt.b_likelihood\n",
    "bt['b_posterior'] = bt.b_conjuction / bt.b_conjuction.sum()\n",
    "\n",
    "interval = (\n",
    "    (bt.b_prior >= .2) & (bt.b_prior <= .33)\n",
    ")\n",
    "print(\n",
    "    'The % of the players that are in the interval is:',\n",
    "    bt[interval].b_posterior.sum()\n",
    ")\n",
    "\n",
    "sns.lineplot(x=hypos, y=bt.b_posterior);"
   ]
  },
  {
   "cell_type": "code",
   "execution_count": null,
   "id": "44504f93-558d-4038-892e-c3537ab901e9",
   "metadata": {
    "tags": []
   },
   "outputs": [],
   "source": [
    "# Update for the player\n",
    "# our likelihood function has changed and now it seems something like this\n",
    "# as we have hit 3 out 3 throws\n",
    "likelihood_fn2 = binom.pmf(3, 3, hypos)\n",
    "p = sns.lineplot(x=hypos, y=likelihood_fn, label='initial');\n",
    "sns.lineplot(x=hypos, y=likelihood_fn2, label='update');\n",
    "p.set_title('Likelihood functions');"
   ]
  },
  {
   "cell_type": "code",
   "execution_count": null,
   "id": "e7d9ca60-bb90-4745-a5c5-755c8da8f997",
   "metadata": {
    "tags": []
   },
   "outputs": [],
   "source": [
    "# We update our beliefs with the new likelihood function\n",
    "bt['conjuction'] = bt.b_posterior * likelihood_fn2\n",
    "bt['posterior'] = bt.conjuction / bt.conjuction.sum()\n",
    "\n",
    "interval = (\n",
    "    (bt.b_prior >= .2) & (bt.b_prior <= .33)\n",
    ")\n",
    "print(\n",
    "    'The % of the players that are in the interval is:',\n",
    "    bt[interval].posterior.sum()\n",
    ")\n",
    "\n",
    "sns.lineplot(x=hypos, y=bt.b_posterior, label='initial');\n",
    "sns.lineplot(x=hypos, y=bt.posterior, label='updated');"
   ]
  },
  {
   "cell_type": "markdown",
   "id": "9f809b7d-897f-46d0-9b71-9f15d0439cc2",
   "metadata": {},
   "source": [
    "So basically we updated our beliefs and now we have the 79% of the players in the range\n",
    "\n",
    "Let's see how the max probability has shifted"
   ]
  },
  {
   "cell_type": "code",
   "execution_count": null,
   "id": "b783a622-32af-4390-9116-06540c08a555",
   "metadata": {},
   "outputs": [],
   "source": [
    "k0 = bt.b_posterior.max()\n",
    "k1 = bt.posterior.max()\n",
    "k2 = bt[bt.b_posterior == k0].b_prior.values[0]\n",
    "k3 = bt[bt.posterior == k1].b_prior.values[0]\n",
    "print('The expectation of getting a hit in the initial table is:', round(k2, 2))\n",
    "print(f'However only the {100*k0.round(2)}% of the players will average that exact number')\n",
    "print('The expectation of getting a hit in the updated table is:', round(k3, 2))\n",
    "print(f'However only the {100*k1.round(2)}% of the players will average that exact number')"
   ]
  },
  {
   "cell_type": "markdown",
   "id": "17a63075-d4c7-4afb-95b3-90f1b50194b1",
   "metadata": {},
   "source": [
    "We can see that after 3 hits in a row we update our expectation about a 2%. However, it is important to realize that the probability of having a player in a season hitting 290 times out of 1000 throws is quite low, about a 3%"
   ]
  },
  {
   "cell_type": "code",
   "execution_count": null,
   "id": "00331af1-955e-4853-a9d9-0c3cbd9aefdf",
   "metadata": {},
   "outputs": [],
   "source": []
  }
 ],
 "metadata": {
  "kernelspec": {
   "display_name": "Python 3",
   "language": "python",
   "name": "python3"
  },
  "language_info": {
   "codemirror_mode": {
    "name": "ipython",
    "version": 3
   },
   "file_extension": ".py",
   "mimetype": "text/x-python",
   "name": "python",
   "nbconvert_exporter": "python",
   "pygments_lexer": "ipython3",
   "version": "3.8.2"
  }
 },
 "nbformat": 4,
 "nbformat_minor": 5
}
