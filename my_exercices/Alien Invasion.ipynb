{
 "cells": [
  {
   "cell_type": "markdown",
   "id": "49ca264f-7107-414d-b580-10b7900d6883",
   "metadata": {},
   "source": [
    "**Exercise:** In preparation for an alien invasion, the Earth Defense League (EDL) has been working on new missiles to shoot down space invaders.  Of course, some missile designs are better than others; let's assume that each design has some probability of hitting an alien ship, `x`.\n",
    "\n",
    "Based on previous tests, the distribution of `x` in the population of designs is approximately uniform between 0.1 and 0.4.\n",
    "\n",
    "Now suppose the new ultra-secret Alien Blaster 9000 is being tested.  In a press conference, an EDL general reports that the new design has been tested twice, taking two shots during each test.  The results of the test are confidential, so the general won't say how many targets were hit, but they report: \"The same number of targets were hit in the two tests, so we have reason to think this new design is consistent.\"\n",
    "\n",
    "Is this data good or bad; that is, does it increase or decrease your estimate of `x` for the Alien Blaster 9000?\n",
    "\n",
    "Hint: If the probability of hitting each target is $x$, the probability of hitting one target in both tests\n",
    "is $\\left[2x(1-x)\\right]^2$."
   ]
  },
  {
   "cell_type": "markdown",
   "id": "4340913a-e72c-4ef9-ab6f-560b7df4050f",
   "metadata": {},
   "source": [
    "## Hitting two spacecrafts in four shots\n",
    "Note that mathematically there's no difference between shooting four times and making two experiments of two shots or four experiments of one shot\n",
    "\n",
    "\n",
    "| 1<sup>st</sup> shot | 2<sup>nd</sup> shot | 3<sup>rd</sup> shot | 4<sup>th</sup> shot |\n",
    "| ------------------- | ------------------- | ------------------- | ------------------- |\n",
    "| hs | (1-hs) | hs | (1-hs) |\n",
    "| hs | (1-hs) | (1-hs) | hs |\n",
    "| (1-hs) | hs | hs | (1-hs) |\n",
    "| (1-hs) | hs | (1-hs) | hs |"
   ]
  },
  {
   "cell_type": "code",
   "execution_count": null,
   "id": "3bb8fb3f-62a4-4ca6-9e89-a05da508826a",
   "metadata": {},
   "outputs": [],
   "source": [
    "import numpy as np\n",
    "import seaborn as sns\n",
    "import matplotlib.pyplot as plt\n",
    "\n",
    "# the hypothesis space represents the probability of hitting an alien spacecraft\n",
    "hs = np.linspace(.1, .4, 101)\n",
    "\n",
    "# we have a uniform distribution of weapons\n",
    "prior = np.full(101, 1/101)\n",
    "\n",
    "# get the likelihoods for hitting no one, one and both spacecrafts in two tests\n",
    "# for no hit at all it's just the joint probability of failing four times:\n",
    "# (1-hs)^4 (as hs is the probability of hitting a space craft) \n",
    "like0 = (1 - hs)**4\n",
    "\n",
    "# likewise for hitting both spacecrafts in both tests, it's the joint\n",
    "# probability of hitting four times. \n",
    "like2 = hs**4\n",
    "\n",
    "# Finally, hitting just one in both tests is slightly trickier. There are four\n",
    "# ways to achieve this outcome (see the table above)\n",
    "like1 = 4*(hs * (1 - hs))**2  \n",
    "\n",
    "likes = (like0, like1, like2)\n",
    "\n",
    "def get_confidence_interval(posterior):\n",
    "    \"\"\"Return the indices that represent the bounds for a 90% ci.\"\"\"\n",
    "    cdf = posterior.cumsum()\n",
    "    lower = np.where(cdf >= .05)[0][0]\n",
    "    upper = np.where(cdf <= .95)[0][-1]\n",
    "    return lower, upper\n",
    "\n",
    "# Compute posteriors\n",
    "fig = plt.figure()\n",
    "ax = fig.add_subplot(1, 1, 1)\n",
    "ax.set_xlabel(\"Weapon performance\")\n",
    "ax.set_ylabel(\"Probability of the performance\")\n",
    "\n",
    "for n, like in enumerate(likes):\n",
    "    posterior = prior * like\n",
    "    posterior /= posterior.sum()\n",
    "    sns.lineplot(x=hs, y=posterior, label=f\"like{n}\", ax=ax);\n",
    "    lower, upper = get_confidence_interval(posterior)\n",
    "    lower, upper = [round(hs[bound], 3) for bound in (lower, upper)]\n",
    "    print(f\"For like{n} the 90% of the designs live between {lower} and {upper}\")\n",
    "    width = round(100 * (upper - lower)/(.4-.1), 2)\n",
    "    print(f\"90% ci width: {width}%\")"
   ]
  },
  {
   "cell_type": "markdown",
   "id": "9546d21d-58ea-4488-9c87-a4b03e8b4317",
   "metadata": {
    "tags": []
   },
   "source": [
    "In above chart there's a big deal going on:\n",
    "\n",
    "Like0 is telling us that if we had been told that the experiment had hit no spacecraft it would be reasonable to think that most of our weapons (90%) would live spread out accross the accuracy spectrum (10.6% and 36%) being more probable the lower values than the upper.\n",
    "Like1 improves like0 outcomes (in the case we had been told that one target had been hit in each test) raising the lower bound of the location of the 90% of the weapons to the 14.5%. Finally like2 shows actually the most performance for 4 shots showing that the desings live in the narrowest area (.17 compared with .26 & .24 of like0 and like1) in the upper side of the accuracy spectrum."
   ]
  },
  {
   "cell_type": "markdown",
   "id": "bb05ca14-0fae-4042-83d3-8fdd5d49a341",
   "metadata": {
    "tags": []
   },
   "source": [
    "### Mixing likelihoods\n",
    "However, above approach doesn't answer the question *is this data good or bad; that is, does it increase or decrease your estimate of `x` for the Alien Blaster 9000?* as we weren't told how many targets were hit, only that the same amount, so we should mix likelihoods since anything could have happened"
   ]
  },
  {
   "cell_type": "code",
   "execution_count": null,
   "id": "c77361bd-d24a-4f23-b410-04fb2aec1cf9",
   "metadata": {
    "tags": []
   },
   "outputs": [],
   "source": [
    "# Mix the likelihoods to see who has more weight\n",
    "likelihood = np.sum(likes, axis=0)\n",
    "\n",
    "posterior = prior * likelihood\n",
    "posterior /= posterior.sum()\n",
    "\n",
    "lower, upper = get_confidence_interval(posterior)\n",
    "lower, upper = [round(hs[bound], 3) for bound in (lower, upper)]\n",
    "print(f\"For the mixed likelihood the 90% of the designs live between {lower} and {upper}\")\n",
    "\n",
    "\n",
    "fig = plt.figure()\n",
    "ax = fig.add_subplot(1, 1, 1)\n",
    "ax.set_xlabel(\"Weapon performance\")\n",
    "ax.set_ylabel(\"Probability of the performance\")\n",
    "\n",
    "sns.lineplot(x=hs, y=posterior, ax=ax);"
   ]
  },
  {
   "cell_type": "markdown",
   "id": "860d389c-8b7b-4c44-92a2-98a3eb87871c",
   "metadata": {},
   "source": [
    "This shows us that **with the information we were given**, namely that the same number of targets were hit, it's more reasonable to think that:\n",
    "* our weapons live very spread out in the accuracy spectrum, and \n",
    "* although like1 and like2 are pulling up the right hand side, this pull is not powerful enough to give more weight to the high performant weapons, so low performant ones are more probable."
   ]
  },
  {
   "cell_type": "code",
   "execution_count": null,
   "id": "12ea923f-b19d-40cd-a434-511c723a3bc7",
   "metadata": {},
   "outputs": [],
   "source": []
  }
 ],
 "metadata": {
  "kernelspec": {
   "display_name": "Python 3",
   "language": "python",
   "name": "python3"
  },
  "language_info": {
   "codemirror_mode": {
    "name": "ipython",
    "version": 3
   },
   "file_extension": ".py",
   "mimetype": "text/x-python",
   "name": "python",
   "nbconvert_exporter": "python",
   "pygments_lexer": "ipython3",
   "version": "3.8.2"
  }
 },
 "nbformat": 4,
 "nbformat_minor": 5
}
