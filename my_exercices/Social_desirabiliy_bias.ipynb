{
 "cells": [
  {
   "cell_type": "markdown",
   "id": "2c9e58be-99c1-48c2-a436-cc9d8fdfeb61",
   "metadata": {},
   "source": [
    "**Exercise:** Whenever you survey people about sensitive issues, you have to deal with [social desirability bias](https://en.wikipedia.org/wiki/Social_desirability_bias), which is the tendency of people to adjust their answers to show themselves in the most positive light.\n",
    "One way to improve the accuracy of the results is [randomized response](https://en.wikipedia.org/wiki/Randomized_response).\n",
    "\n",
    "As an example, suppose want to know how many people cheat on their taxes.  \n",
    "If you ask them directly, it is likely that some of the cheaters will lie.\n",
    "You can get a more accurate estimate if you ask them indirectly, like this: Ask each person to flip a coin and, without revealing the outcome,\n",
    "\n",
    "* If they get heads, they report YES.\n",
    "\n",
    "* If they get tails, they honestly answer the question \"Do you cheat on your taxes?\"\n",
    "\n",
    "If someone says YES, we don't know whether they actually cheat on their taxes; they might have flipped yes.\n",
    "Knowing this, people might be more willing to answer honestly.\n",
    "\n",
    "Suppose you survey 100 people this way and get 80 YESes and 20 NOs.  Based on this data, what is the posterior distribution for the fraction of people who cheat on their taxes?  What is the most likely quantity in the posterior distribution?\n",
    "\n",
    "## First approach"
   ]
  },
  {
   "cell_type": "code",
   "execution_count": null,
   "id": "cd14f93a-2d91-4510-9651-9ea8e7c90ade",
   "metadata": {},
   "outputs": [],
   "source": [
    "import pandas as pd\n",
    "import numpy as np\n",
    "from scipy.stats import binom\n",
    "import seaborn as sns\n",
    "\n",
    "# build a bayes table and get a distribution with the result of the experiment\n",
    "# that will act as the prior\n",
    "hypos = np.linspace(0, 1, 101)  # this represents all possible fractions of people\n",
    "bt = pd.DataFrame({\n",
    "    'hypos': hypos\n",
    "})\n",
    "positive, trials = 80, 100\n",
    "bt['likelihood'] = binom.pmf(positive, trials, hypos)\n",
    "bt['conjuction'] = bt.hypos * bt.likelihood\n",
    "bt['prior'] = bt.conjuction / bt.conjuction.sum()\n",
    "\n",
    "# As the probability of getting heads or tails is .5 we need a new likelihood\n",
    "# that reflects this fact. In our experiment as we have 100 people this will\n",
    "# mean that 50 of them got tails and the other 50 got heads\n",
    "bt['flip_likelihood'] = binom.pmf(50, 100, hypos)\n",
    "bt['flip_conjuction'] = bt.prior * bt.flip_likelihood\n",
    "bt['posterior'] = bt.flip_conjuction / bt.flip_conjuction.sum()\n",
    "\n",
    "# Get the MAP\n",
    "max_prob = bt.posterior.max()\n",
    "MAP = bt[bt.posterior == max_prob].hypos.values[0]\n",
    "print(f'The most probable fraction of the people that cheat in their taxes is {MAP}')\n",
    "print(f'However, the probability of having exactly such fraction is {round(max_prob, 2)}')\n",
    "\n",
    "# Plot the results\n",
    "sns.lineplot(x=bt.hypos, y=bt.prior, label='prior');\n",
    "sns.lineplot(x=bt.hypos, y=bt.posterior, label='posterior');"
   ]
  },
  {
   "cell_type": "markdown",
   "id": "90c49c57-6cdf-41a4-96f3-aa0a0c3eb5fd",
   "metadata": {},
   "source": [
    "### Getting 95% of the probability\n",
    "As a practice I calculated the bounds that account for the 95% of the probability."
   ]
  },
  {
   "cell_type": "code",
   "execution_count": null,
   "id": "80ccbfea-b27d-4b07-8c0a-600422dbced3",
   "metadata": {},
   "outputs": [],
   "source": [
    "# Get the interval that contains the 95% of the results\n",
    "# get the CDF\n",
    "bt['cdf'] = bt.posterior.cumsum()\n",
    "\n",
    "# get the CDF from .65 and locate the index where it reaches .475\n",
    "# However we only need have of the probability for the .65 value (as the other\n",
    "# half belongs to the lower interval)\n",
    "over_65 = bt.posterior[bt.hypos >= .65]\n",
    "over_65[65] /= 2 \n",
    "over_65 = over_65.cumsum()\n",
    "over_65_index = over_65[over_65 >= .475].index[0]\n",
    "\n",
    "# now get the distance between .65 index and the .475 index\n",
    "center_index = bt[bt.hypos == .65].index\n",
    "d = (over_65_index - center_index).values[0]\n",
    "\n",
    "# finally calculate the cdf between the indices we got\n",
    "lower_bound = center_index.values[0] - d\n",
    "upper_bound = center_index.values[0] + d\n",
    "limits = (\n",
    "    (bt.index >= lower_bound) &\n",
    "    (bt.index <= upper_bound)\n",
    ")\n",
    "cum_prob = bt[limits].posterior.sum().round(2) * 100\n",
    "lower_prob = bt.at[lower_bound, 'hypos']\n",
    "upper_prob = bt.at[upper_bound, 'hypos']\n",
    "print(\n",
    "    f'The range that goes from {lower_prob} '\n",
    "    f'to {upper_prob:2.2} accounts for the {int(cum_prob)}% of the probability')"
   ]
  },
  {
   "cell_type": "markdown",
   "id": "d59f699a-2de7-4abf-a085-de77bd345961",
   "metadata": {},
   "source": [
    "### Conclusion\n",
    "Although the outcome is accurate to some extent this approach is not completely right as it creates a prior out of the responses and then updates it through the likelihood of the flip of the coin. Therefore, is creating extra information (since it's updating twice) that makes the credible interval narrower making it somewhat misleading."
   ]
  },
  {
   "cell_type": "markdown",
   "id": "46a2e72e-3553-4fe9-bfa4-ada515144586",
   "metadata": {},
   "source": [
    "## Solution approach"
   ]
  },
  {
   "cell_type": "code",
   "execution_count": null,
   "id": "89e1a867-6fbd-4f8f-b3c1-c9a626782af9",
   "metadata": {},
   "outputs": [],
   "source": [
    "# Perform local imports\n",
    "import os  \n",
    "import sys  \n",
    "nb_dir = os.path.split(os.getcwd())[0]  \n",
    "if nb_dir not in sys.path:  \n",
    "    sys.path.append(nb_dir)\n",
    "\n",
    "import numpy as np\n",
    "from empiricaldist import Pmf\n",
    "from soln.utils import decorate\n",
    "\n",
    "# I'll use a uniform distribution again, although there might\n",
    "# be background information we could use to choose a more\n",
    "# specific prior.\n",
    "hypos = np.linspace(0, 1, 101)\n",
    "prior = Pmf(1, hypos)\n",
    "\n",
    "# If the actual fraction of cheaters is `x`, the number of\n",
    "# YESes is (0.5 + x/2), and the number of NOs is (1-x)/2\n",
    "likelihood = {\n",
    "    'Y': 0.5 + hypos/2,\n",
    "    'N': (1-hypos)/2\n",
    "}\n",
    "\n",
    "dataset = 'Y' * 80 + 'N' * 20\n",
    "\n",
    "posterior = prior.copy()\n",
    "\n",
    "for data in dataset:\n",
    "    posterior *= likelihood[data]\n",
    "\n",
    "posterior.normalize()\n",
    "\n",
    "posterior.plot(label='80 YES, 20 NO')\n",
    "decorate(xlabel='Proportion of cheaters',\n",
    "         ylabel='PMF')"
   ]
  },
  {
   "cell_type": "code",
   "execution_count": null,
   "id": "ed448fc9-a4a8-4e3e-bca0-a343083c10a8",
   "metadata": {},
   "outputs": [],
   "source": []
  }
 ],
 "metadata": {
  "kernelspec": {
   "display_name": "Python 3",
   "language": "python",
   "name": "python3"
  },
  "language_info": {
   "codemirror_mode": {
    "name": "ipython",
    "version": 3
   },
   "file_extension": ".py",
   "mimetype": "text/x-python",
   "name": "python",
   "nbconvert_exporter": "python",
   "pygments_lexer": "ipython3",
   "version": "3.8.2"
  }
 },
 "nbformat": 4,
 "nbformat_minor": 5
}
