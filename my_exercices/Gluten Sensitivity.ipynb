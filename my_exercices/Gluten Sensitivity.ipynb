{
 "cells": [
  {
   "cell_type": "code",
   "execution_count": null,
   "id": "24d2883b-1895-43e9-b3be-6dfed720079d",
   "metadata": {},
   "outputs": [],
   "source": [
    "import numpy as np\n",
    "import pandas as pd"
   ]
  },
  {
   "cell_type": "markdown",
   "id": "4f58c14a-9f5b-4ef1-819c-81726e887725",
   "metadata": {
    "tags": []
   },
   "source": [
    "## Gluten Sensitivity\n",
    "\n",
    "In 2015 I read a paper that tested whether people diagnosed with gluten sensitivity (but not celiac disease) were able to distinguish gluten flour from non-gluten flour in a blind challenge\n",
    "([you can read the paper here](https://onlinelibrary.wiley.com/doi/full/10.1111/apt.13372)).\n",
    "\n",
    "Out of 35 subjects, 12 correctly identified the gluten flour based on\n",
    "resumption of symptoms while they were eating it. Another 17 wrongly\n",
    "identified the gluten-free flour based on their symptoms, and 6 were\n",
    "unable to distinguish.\n",
    "\n",
    "The authors conclude, \"Double-blind gluten challenge induces symptom\n",
    "recurrence in just one-third of patients.\"\n",
    "\n",
    "This conclusion seems odd to me, because if none of the patients were\n",
    "sensitive to gluten, we would expect some of them to identify the gluten flour by chance. \n",
    "So here's the question: based on this data, how many of the subjects are sensitive to gluten and how many are guessing?\n",
    "\n",
    "We can use Bayes's Theorem to answer this question, but first we have to make some modeling decisions. I'll assume:\n",
    "\n",
    "-   People who are sensitive to gluten have a 95% chance of correctly\n",
    "    identifying gluten flour under the challenge conditions, and\n",
    "\n",
    "-   People who are not sensitive have a 40% chance of identifying the\n",
    "    gluten flour by chance (and a 60% chance of either choosing the\n",
    "    other flour or failing to distinguish).\n",
    "\n",
    "These particular values are arbitrary, but the results are not sensitive to these choices.\n",
    "\n",
    "I will solve this problem in two steps. First, assuming that we know how many subjects are sensitive, I will compute the distribution of the data. \n",
    "Then, using the likelihood of the data, I will compute the posterior distribution of the number of sensitive patients.\n",
    "\n",
    "The first is the **forward problem**; the second is the **inverse problem**."
   ]
  },
  {
   "cell_type": "code",
   "execution_count": null,
   "id": "3b75875c-dd0e-48a0-a65d-9f21e3b953ed",
   "metadata": {},
   "outputs": [],
   "source": [
    "## Forward problem\n",
    "# Create two distributions for a population of 35 where 10 are sensitive and\n",
    "# the others are guessing\n",
    "\n",
    "\n",
    "# Sum both distributions and plot them\n"
   ]
  },
  {
   "cell_type": "code",
   "execution_count": null,
   "id": "951543f1-08c4-4030-a5f7-d933d02c0ba1",
   "metadata": {},
   "outputs": [],
   "source": [
    "# Extend the previous method to cover all possible hypotheses ranging from 0 to 35\n",
    "\n",
    "\n",
    "# Plot a few different hypotheses\n"
   ]
  },
  {
   "cell_type": "code",
   "execution_count": null,
   "id": "b0c72066-ab89-4f8e-b1b7-01d3be38380f",
   "metadata": {},
   "outputs": [],
   "source": [
    "## Inverse problem\n",
    "# Compute posterior probabilities for the problem's given hypothesis 12\n",
    "\n",
    "\n",
    "# Compute posterior probability for another hypothesis (like 20) to compare\n",
    "\n",
    "\n",
    "# Plot the comparisons\n",
    "\n",
    "\n",
    "# Compute MAPs for each of the posteriors\n"
   ]
  },
  {
   "cell_type": "markdown",
   "id": "db0359ce-389b-4dde-8a3f-0a31f039fd6a",
   "metadata": {
    "tags": []
   },
   "source": [
    "## Solution"
   ]
  },
  {
   "cell_type": "code",
   "execution_count": null,
   "id": "c97265ee-02cb-4115-9cdf-3182266f6fa0",
   "metadata": {
    "jupyter": {
     "source_hidden": true
    },
    "tags": []
   },
   "outputs": [],
   "source": [
    "# Create two distributions for a population of 35 where 10 are sensitive and\n",
    "# the others are guessing\n",
    "from scipy.stats import binom\n",
    "sensitive = 10  # number of sensitive subjects\n",
    "non_sensitive = 35 - sensitive\n",
    "\n",
    "# Distribution of sensitive\n",
    "dist_s = binom.pmf(np.arange(1, sensitive+1), n=sensitive, p=.70)\n",
    "\n",
    "# Distribution for non_sensitive\n",
    "dist_ns = binom.pmf(np.arange(1, non_sensitive+1), n=non_sensitive, p=.4)\n",
    "\n",
    "\n",
    "# Sum both distributions and plot them\n",
    "from empiricaldist import Pmf\n",
    "dist_s = Pmf(dist_s, np.arange(1, sensitive+1))\n",
    "dist_ns = Pmf(dist_ns, np.arange(1, non_sensitive+1))\n",
    "\n",
    "dist_sum = dist_s.add_dist(dist_ns)"
   ]
  },
  {
   "cell_type": "code",
   "execution_count": null,
   "id": "21ac86c8-4791-4093-9a3d-9ce6ce04876d",
   "metadata": {
    "jupyter": {
     "source_hidden": true
    },
    "tags": []
   },
   "outputs": [],
   "source": [
    "# Extend the previous method to cover all possible hypotheses ranging from 0 to 35\n",
    "df = pd.DataFrame()\n",
    "for sensitive in range(36):\n",
    "    non_sensitive = 35 - sensitive\n",
    "    \n",
    "    # Create distributions\n",
    "    dist_s = binom.pmf(np.arange(sensitive+1), n=sensitive, p=.95)\n",
    "    dist_ns = binom.pmf(np.arange(non_sensitive+1), n=non_sensitive, p=.4)\n",
    "    \n",
    "    # Create Pmfs\n",
    "    dist_s = Pmf(dist_s, np.arange(sensitive+1))\n",
    "    dist_ns = Pmf(dist_ns, np.arange(non_sensitive+1))\n",
    "    \n",
    "    # Sum Pmfs\n",
    "    dist_sum = dist_s.add_dist(dist_ns)\n",
    "    \n",
    "    # Add to df\n",
    "    df[sensitive] = dist_sum\n",
    "df.head(5)"
   ]
  },
  {
   "cell_type": "code",
   "execution_count": null,
   "id": "d3022f6c-e84b-4f1c-aaab-0a96f2ff2ba2",
   "metadata": {
    "jupyter": {
     "source_hidden": true
    },
    "tags": []
   },
   "outputs": [],
   "source": [
    "# Plot a few different hypotheses\n",
    "df[10].plot(legend=\"10\");\n",
    "df[20].plot(legend=\"20\");\n",
    "df[30].plot(legend=\"30\");"
   ]
  },
  {
   "cell_type": "code",
   "execution_count": null,
   "id": "77073e9d-2af9-490b-bfd0-119ba6f48dce",
   "metadata": {
    "jupyter": {
     "source_hidden": true
    },
    "tags": []
   },
   "outputs": [],
   "source": [
    "# Compute posterior probabilities for the problem's given hypothesis 12\n",
    "prior = Pmf(1, np.arange(36))\n",
    "posterior1 = prior * df.loc[12, :]\n",
    "posterior1.normalize()"
   ]
  },
  {
   "cell_type": "code",
   "execution_count": null,
   "id": "8f730ad4-84b3-40b4-8442-ddc2717f524d",
   "metadata": {
    "jupyter": {
     "source_hidden": true
    },
    "tags": []
   },
   "outputs": [],
   "source": [
    "# Compute posterior probability for another hypothesis (like 20) to compare\n",
    "posterior2 = prior * df.loc[20, :]\n",
    "posterior2.normalize()"
   ]
  },
  {
   "cell_type": "code",
   "execution_count": null,
   "id": "7fd75655-2290-4a5e-9f44-687fb1f0075b",
   "metadata": {
    "jupyter": {
     "source_hidden": true
    },
    "tags": []
   },
   "outputs": [],
   "source": [
    "# Plot the comparisons\n",
    "posterior1.plot(legend=\"12\");\n",
    "posterior2.plot(legend=\"20\");"
   ]
  },
  {
   "cell_type": "code",
   "execution_count": null,
   "id": "949c3f62-e7f4-4945-b7ae-1306f6adea08",
   "metadata": {
    "jupyter": {
     "source_hidden": true
    },
    "tags": []
   },
   "outputs": [],
   "source": [
    "# Compute MAPs for each of the posteriors\n",
    "posterior1.max_prob(), posterior2.max_prob()"
   ]
  },
  {
   "cell_type": "code",
   "execution_count": null,
   "id": "0e78e86e-561c-4da8-9a01-c142dfd8b18c",
   "metadata": {},
   "outputs": [],
   "source": []
  }
 ],
 "metadata": {
  "kernelspec": {
   "display_name": "Python 3",
   "language": "python",
   "name": "python3"
  },
  "language_info": {
   "codemirror_mode": {
    "name": "ipython",
    "version": 3
   },
   "file_extension": ".py",
   "mimetype": "text/x-python",
   "name": "python",
   "nbconvert_exporter": "python",
   "pygments_lexer": "ipython3",
   "version": "3.8.2"
  }
 },
 "nbformat": 4,
 "nbformat_minor": 5
}
