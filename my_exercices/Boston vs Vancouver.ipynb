{
 "cells": [
  {
   "cell_type": "markdown",
   "id": "8abb3ff0-21e0-4fc7-a33c-2f1de9c72646",
   "metadata": {},
   "source": [
    "**Exercise:** In the 2010-11 National Hockey League (NHL) Finals, my beloved Boston\n",
    "Bruins played a best-of-seven championship series against the despised\n",
    "Vancouver Canucks.  Boston lost the first two games 0-1 and 2-3, then\n",
    "won the next two games 8-1 and 4-0.  At this point in the series, what\n",
    "is the probability that Boston will win the next game, and what is\n",
    "their probability of winning the championship?\n",
    "\n",
    "To choose a prior distribution, I got some statistics from\n",
    "http://www.nhl.com, specifically the average goals per game\n",
    "for each team in the 2010-11 season.  The distribution is well modeled by a gamma distribution with mean 2.8.\n",
    "\n",
    "In what ways do you think the outcome of these games might violate the assumptions of the Poisson model?  How would these violations affect your predictions?\n",
    "\n",
    "***\n",
    "https://en.wikipedia.org/wiki/2011_Stanley_Cup_playoffs#Stanley_Cup_Finals\n",
    "\n",
    "Spoiler, the next three matches were:\n",
    "* 0 - 1 for Vancouver  \n",
    "* 5 - 2 for Boston  \n",
    "* 4 - 0 for Boston"
   ]
  },
  {
   "cell_type": "code",
   "execution_count": 1,
   "id": "af99343c-7503-4bff-bac9-d571b33118c6",
   "metadata": {},
   "outputs": [
    {
     "data": {
      "image/png": "[encoded data removed]",
      "text/plain": [
       "<Figure size 432x288 with 1 Axes>"
      ]
     },
     "metadata": {
      "needs_background": "light"
     },
     "output_type": "display_data"
    }
   ],
   "source": [
    "# Solution goes here\n",
    "import numpy as np\n",
    "import pandas as pd\n",
    "import seaborn as sns\n",
    "from scipy.stats import gamma, poisson\n",
    "\n",
    "# create the common prior for both teams.\n",
    "goals = 17  # chosen 17 as it will mean that the mean would be 2.8\n",
    "lbd_values = np.linspace(0, goals, 101)\n",
    "prior = gamma(2.8).pdf(lbd_values)\n",
    "prior /= prior.sum()\n",
    "np.sum(lbd_values * prior)  # 2.8 mean\n",
    "\n",
    "# Create likelihoods\n",
    "matches = ((0, 1), (2, 3), (8, 1), (4, 0))\n",
    "pb = [poisson(lbd_values).pmf(match[0]) for match in matches]\n",
    "pb = np.array(pb).prod(axis=0)\n",
    "theta_b = prior.copy()\n",
    "theta_b *= pb\n",
    "theta_b /= theta_b.sum()\n",
    "\n",
    "pc = [poisson(lbd_values).pmf(match[1]) for match in matches]\n",
    "pc = np.array(pc).prod(axis=0)\n",
    "theta_c = prior.copy()\n",
    "theta_c *= pc\n",
    "theta_c /= theta_c.sum()\n",
    "\n",
    "# plot above to see how it looks\n",
    "sns.lineplot(x=lbd_values, y=prior, label=\"prior\");\n",
    "sns.lineplot(x=lbd_values, y=theta_b, label=\"boston\");\n",
    "sns.lineplot(x=lbd_values, y=theta_c, label=\"vancouver\");"
   ]
  },
  {
   "cell_type": "code",
   "execution_count": 2,
   "id": "5b6b2d2f-7c59-4901-8146-2a26ab0cd4d9",
   "metadata": {},
   "outputs": [
    {
     "data": {
      "text/plain": [
       "(0.771375106613984, 0.2286236382220115)"
      ]
     },
     "execution_count": 2,
     "metadata": {},
     "output_type": "execute_result"
    },
    {
     "data": {
      "image/png": "[encoded data removed]",
      "text/plain": [
       "<Figure size 432x288 with 1 Axes>"
      ]
     },
     "metadata": {
      "needs_background": "light"
     },
     "output_type": "display_data"
    }
   ],
   "source": [
    "# Create an array for the posterior predictive for each team\n",
    "goal_range = np.arange(goals + 1)\n",
    "initial_predictive = pd.DataFrame([poisson(lbd).pmf(goal_range) for lbd in lbd_values])\n",
    "\n",
    "boston_predictive = initial_predictive.copy()\n",
    "boston_predictive = (boston_predictive.T * theta_b).sum(axis=1)\n",
    "\n",
    "vancouver_predictive = initial_predictive.copy()\n",
    "vancouver_predictive = (vancouver_predictive.T * theta_c).sum(axis=1)\n",
    "\n",
    "# let's see how they look\n",
    "sns.barplot(x=goal_range, y=boston_predictive, alpha=.4, color=\"blue\");\n",
    "sns.barplot(x=goal_range, y=vancouver_predictive, alpha=.4, color=\"red\");\n",
    "\n",
    "# Compute the cartesian product of the matches\n",
    "gx, gy = np.meshgrid(goal_range, goal_range)\n",
    "boston_wins = (gx - gy) > 0\n",
    "vancouver_wins = (gx - gy) < 0\n",
    "tie = (gx - gy) == 0\n",
    "\n",
    "vx, vy = np.meshgrid(boston_predictive, vancouver_predictive)\n",
    "joint_p = vx * vy\n",
    "\n",
    "# let's give each a 50% chance of breaking the tie.\n",
    "prob_boston_wins = joint_p[boston_wins].sum() + joint_p[tie].sum() / 2\n",
    "prob_vancouver_wins = joint_p[vancouver_wins].sum() + joint_p[tie].sum() / 2\n",
    "\n",
    "prob_boston_wins, prob_vancouver_wins"
   ]
  },
  {
   "cell_type": "code",
   "execution_count": 22,
   "id": "06a91315-aca2-4822-8318-fe79459a05c3",
   "metadata": {},
   "outputs": [
    {
     "data": {
      "text/plain": [
       "(0.8670906261058524, 0.1329064208598641)"
      ]
     },
     "execution_count": 22,
     "metadata": {},
     "output_type": "execute_result"
    }
   ],
   "source": [
    "# Next three matches combinations (doing this through a binomial dist like in the solution\n",
    "# like the solution is way more elegant)\n",
    "b, v = prob_boston_wins, prob_vancouver_wins\n",
    "bl, vl = \"boston\", \"vancouver\"\n",
    "next_three = pd.DataFrame({\n",
    "    \"fifth\": [b, b, v, v, v, b],\n",
    "    \"sixth\": [b, v, b, v, b, v],\n",
    "    \"seventh\": [np.nan, b, b, np.nan, v, v],\n",
    "    \"winner\": [bl, bl, bl, vl, vl, vl]\n",
    "})\n",
    "\n",
    "(next_three[next_three.winner == \"boston\"].prod(axis=1).sum(),\n",
    "next_three[next_three.winner == \"vancouver\"].prod(axis=1).sum())"
   ]
  },
  {
   "cell_type": "code",
   "execution_count": null,
   "id": "0f6092ad-692e-4cd1-bd6b-c19267c72b3a",
   "metadata": {},
   "outputs": [],
   "source": []
  }
 ],
 "metadata": {
  "kernelspec": {
   "display_name": "Python 3",
   "language": "python",
   "name": "python3"
  },
  "language_info": {
   "codemirror_mode": {
    "name": "ipython",
    "version": 3
   },
   "file_extension": ".py",
   "mimetype": "text/x-python",
   "name": "python",
   "nbconvert_exporter": "python",
   "pygments_lexer": "ipython3",
   "version": "3.8.2"
  }
 },
 "nbformat": 4,
 "nbformat_minor": 5
}
