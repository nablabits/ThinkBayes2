{
 "cells": [
  {
   "cell_type": "markdown",
   "metadata": {},
   "source": [
    "# MCMC"
   ]
  },
  {
   "cell_type": "markdown",
   "metadata": {
    "tags": [
     "remove-cell"
    ]
   },
   "source": [
    "Think Bayes, Second Edition\n",
    "\n",
    "Copyright 2020 Allen B. Downey\n",
    "\n",
    "License: [Attribution-NonCommercial-ShareAlike 4.0 International (CC BY-NC-SA 4.0)](https://creativecommons.org/licenses/by-nc-sa/4.0/)"
   ]
  },
  {
   "cell_type": "code",
   "execution_count": null,
   "metadata": {
    "tags": [
     "remove-cell"
    ]
   },
   "outputs": [],
   "source": [
    "# If we're running on Colab, install libraries\n",
    "\n",
    "import sys\n",
    "IN_COLAB = 'google.colab' in sys.modules\n",
    "\n",
    "if IN_COLAB:\n",
    "    !pip install empiricaldist\n",
    "    !pip install pymc3==3.10\n",
    "    !pip install arviz==0.11.0"
   ]
  },
  {
   "cell_type": "code",
   "execution_count": null,
   "metadata": {
    "tags": [
     "remove-cell"
    ]
   },
   "outputs": [],
   "source": [
    "# Get utils.py\n",
    "\n",
    "import os\n",
    "\n",
    "if not os.path.exists('utils.py'):\n",
    "    !wget https://github.com/AllenDowney/ThinkBayes2/raw/master/soln/utils.py"
   ]
  },
  {
   "cell_type": "code",
   "execution_count": null,
   "metadata": {
    "tags": [
     "remove-cell"
    ]
   },
   "outputs": [],
   "source": [
    "from utils import set_pyplot_params\n",
    "set_pyplot_params()"
   ]
  },
  {
   "cell_type": "markdown",
   "metadata": {},
   "source": [
    "For most of this book we've been using grid methods to approximate posterior distributions.\n",
    "For models with one or two parameters, grid algorithms are fast and the results are precise enough for most practical purposes.\n",
    "With three parameters, they start to be slow, and with more than three they are usually not practical.\n",
    "\n",
    "In the previous chapter we saw that we can solve some problems using conjugate priors.\n",
    "But the problems we can solve this way tend to be the same ones we can solve with grid algorithms.\n",
    "\n",
    "For problems with more than a few parameters, the most powerful tool we have is MCMC, which stands for \"Markov chain Monte Carlo\".\n",
    "In this context, \"Monte Carlo\" refers to to methods that generate random samples from a distribution.\n",
    "Unlike grid methods, MCMC methods don't try to compute the posterior distribution; they sample from it instead.\n",
    "\n",
    "It might seem strange that you can generate a sample without ever computing the distribution, but that's the magic of MCMC.\n",
    "\n",
    "To demonstrate, we'll start by solving the World Cup problem.\n",
    "Yes, again.\n"
   ]
  },
  {
   "cell_type": "markdown",
   "metadata": {},
   "source": [
    "## The World Cup Problem\n",
    "\n",
    "In <<_PoissonProcesses>> we modeled goal scoring in football (soccer) as a Poisson process characterized by a goal-scoring rate, denoted $\\lambda$.\n",
    "\n",
    "We used a gamma distribution to represent the prior distribution of $\\lambda$, then we used to outcome of the game to compute the posterior distribution for both teams.\n",
    "\n",
    "To answer the first question, we used the posterior distributions to compute the \"probability of superiority\" for France.\n",
    "\n",
    "To answer the second question, we computed the posterior predictive distributions for each team, that is, the distribution of goals we expect in a rematch.\n",
    "\n",
    "In this chapter we'll solve this problem again using PyMC3, which is a library that provide implementations of several MCMC methods.\n",
    "But we'll start by reviewing the grid approximation of the prior and the prior predictive distribution."
   ]
  },
  {
   "cell_type": "markdown",
   "metadata": {},
   "source": [
    "## Grid Approximation\n",
    "\n",
    "As we did in <<_TheGammaDistribution>> we'll use a gamma distribution with parameter $\\alpha=1.4$ to represent the prior."
   ]
  },
  {
   "cell_type": "code",
   "execution_count": null,
   "metadata": {},
   "outputs": [],
   "source": [
    "from scipy.stats import gamma\n",
    "\n",
    "alpha = 1.4\n",
    "prior_dist = gamma(alpha)"
   ]
  },
  {
   "cell_type": "markdown",
   "metadata": {},
   "source": [
    "I'll use `linspace` to generate possible values for $\\lambda$, and `pmf_from_dist` to compute a discrete approximation of the prior."
   ]
  },
  {
   "cell_type": "code",
   "execution_count": null,
   "metadata": {},
   "outputs": [],
   "source": [
    "import numpy as np\n",
    "from utils import pmf_from_dist\n",
    "\n",
    "lams = np.linspace(0, 10, 101)\n",
    "prior_pmf = pmf_from_dist(prior_dist, lams)"
   ]
  },
  {
   "cell_type": "markdown",
   "metadata": {},
   "source": [
    "We can use the Poisson distribution to compute the likelihood of the data; as an example, we'll use 4 goals."
   ]
  },
  {
   "cell_type": "code",
   "execution_count": null,
   "metadata": {},
   "outputs": [],
   "source": [
    "from scipy.stats import poisson\n",
    "\n",
    "data = 4\n",
    "likelihood = poisson.pmf(data, lams)"
   ]
  },
  {
   "cell_type": "markdown",
   "metadata": {},
   "source": [
    "Now we can do the update in the usual way."
   ]
  },
  {
   "cell_type": "code",
   "execution_count": null,
   "metadata": {},
   "outputs": [],
   "source": [
    "posterior = prior_pmf * likelihood\n",
    "posterior.normalize()"
   ]
  },
  {
   "cell_type": "markdown",
   "metadata": {},
   "source": [
    "Soon we will solve the same problem with PyMC3, but first it will be useful to introduce something new: the prior predictive distribution."
   ]
  },
  {
   "cell_type": "markdown",
   "metadata": {},
   "source": [
    "## Prior Predictive Distribution\n",
    "\n",
    "We have seen the posterior predictive distribution in previous chapters; the prior predictive distribution is similar except that (as you might have guessed) it is based on the prior.\n",
    "\n",
    "To estimate the prior predictive distribution, we'll start by drawing a sample from the prior."
   ]
  },
  {
   "cell_type": "code",
   "execution_count": null,
   "metadata": {},
   "outputs": [],
   "source": [
    "sample_prior = prior_dist.rvs(1000)"
   ]
  },
  {
   "cell_type": "markdown",
   "metadata": {},
   "source": [
    "The result is an array of possible values for the goal-scoring rate, $\\lambda$.\n",
    "For each value in `sample_prior`, I'll generate one value from a Poisson distribution."
   ]
  },
  {
   "cell_type": "code",
   "execution_count": null,
   "metadata": {},
   "outputs": [],
   "source": [
    "from scipy.stats import poisson\n",
    "\n",
    "sample_prior_pred = poisson.rvs(sample_prior)"
   ]
  },
  {
   "cell_type": "markdown",
   "metadata": {},
   "source": [
    "`sample_prior_pred` is a sample from the prior predictive distribution.\n",
    "To see what it looks like, we'll compute the PMF of the sample."
   ]
  },
  {
   "cell_type": "code",
   "execution_count": null,
   "metadata": {},
   "outputs": [],
   "source": [
    "from empiricaldist import Pmf\n",
    "\n",
    "pmf_prior_pred = Pmf.from_seq(sample_prior_pred)"
   ]
  },
  {
   "cell_type": "markdown",
   "metadata": {},
   "source": [
    "And here's what it looks like:"
   ]
  },
  {
   "cell_type": "code",
   "execution_count": null,
   "metadata": {
    "tags": [
     "hide-input"
    ]
   },
   "outputs": [],
   "source": [
    "from utils import decorate\n",
    "\n",
    "pmf_prior_pred.bar()\n",
    "decorate(xlabel='Number of goals',\n",
    "         ylabel='PMF',\n",
    "         title='Prior Predictive Distribution')"
   ]
  },
  {
   "cell_type": "markdown",
   "metadata": {},
   "source": [
    "One reason to compute the prior predictive distribution is to check whether our model of the system seems reasonable.\n",
    "In this case, the distribution of goals seems consistent with what we know about World Cup football.\n",
    "\n",
    "But in this chapter we have another reason: computing the prior predictive distribution is a first step toward using MCMC."
   ]
  },
  {
   "cell_type": "markdown",
   "metadata": {},
   "source": [
    "## Introducing PyMC3\n",
    "\n",
    "PyMC3 is a Python library that provides several MCMC methods.\n",
    "To use PyMC3, we have to specify a model of the process that generates the data.\n",
    "In this example, the model has two steps:\n",
    "\n",
    "* First we draw a goal-scoring rate from the prior distribution,\n",
    "\n",
    "* Then we draw a number of goals from a Poisson distribution.\n",
    "\n",
    "Here's how we specify this model in PyMC3:"
   ]
  },
  {
   "cell_type": "code",
   "execution_count": null,
   "metadata": {},
   "outputs": [],
   "source": [
    "import pymc3 as pm\n",
    "\n",
    "with pm.Model() as model:\n",
    "    lam = pm.Gamma('lam', alpha=1.4, beta=1.0)\n",
    "    goals = pm.Poisson('goals', lam)"
   ]
  },
  {
   "cell_type": "markdown",
   "metadata": {},
   "source": [
    "After importing `pymc3`, we create a `Model` object named `model`.\n",
    "\n",
    "If you are not familiar with the `with` statement in Python, it is a way to associate a block of statements with an object.\n",
    "In this example, the two indented statements are associated with the new `Model` object.  As a result, when we create the distribution objects, `Gamma` and `Poisson`, they are added to the `Model`.\n",
    "\n",
    "Inside the `with` statement:\n",
    "\n",
    "* The first line creates the prior, which is a gamma distribution with the given parameters.\n",
    "\n",
    "* The second line creates the prior predictive, which is a Poisson distribution with the parameter `lam`.\n",
    "\n",
    "The first parameter of `Gamma` and `Poisson` is a string variable name."
   ]
  },
  {
   "cell_type": "markdown",
   "metadata": {
    "tags": [
     "hide-cell"
    ]
   },
   "source": [
    "PyMC3 provides a function that generates a visual representation of the model."
   ]
  },
  {
   "cell_type": "code",
   "execution_count": null,
   "metadata": {
    "tags": [
     "hide-cell"
    ]
   },
   "outputs": [],
   "source": [
    "pm.model_to_graphviz(model)"
   ]
  },
  {
   "cell_type": "markdown",
   "metadata": {
    "tags": [
     "hide-cell"
    ]
   },
   "source": [
    "In this visualization, the ovals show that `lam` is drawn from a gamma distribution and `goals` is drawn from a Poisson distribution.\n",
    "The arrow shows that the values of `lam` are used as parameters for the distribution of `goals`."
   ]
  },
  {
   "cell_type": "markdown",
   "metadata": {},
   "source": [
    "## Sampling the Prior\n",
    "\n",
    "PyMC3 provides a function that generates samples from the prior and prior predictive distributions.\n",
    "We can use a `with` statement to run this function in the context of the model."
   ]
  },
  {
   "cell_type": "code",
   "execution_count": null,
   "metadata": {},
   "outputs": [],
   "source": [
    "with model:\n",
    "    trace = pm.sample_prior_predictive(1000)"
   ]
  },
  {
   "cell_type": "markdown",
   "metadata": {},
   "source": [
    "The result is a dictionary-like object that maps from the variables, `lam` and `goals`, to the samples.\n",
    "We can extract the sample of `lam` like this:"
   ]
  },
  {
   "cell_type": "code",
   "execution_count": null,
   "metadata": {},
   "outputs": [],
   "source": [
    "sample_prior_pymc = trace['lam']\n",
    "sample_prior_pymc.shape"
   ]
  },
  {
   "cell_type": "markdown",
   "metadata": {},
   "source": [
    "The following figure compares the CDF of this sample to the CDF of the sample we generated using the `gamma` object from SciPy."
   ]
  },
  {
   "cell_type": "code",
   "execution_count": null,
   "metadata": {
    "tags": [
     "hide-cell"
    ]
   },
   "outputs": [],
   "source": [
    "from empiricaldist import Cdf\n",
    "\n",
    "def plot_cdf(sample, **options):\n",
    "    \"\"\"Plot the CDF of a sample.\n",
    "    \n",
    "    sample: sequence of quantities\n",
    "    \"\"\"\n",
    "    Cdf.from_seq(sample).plot(**options)"
   ]
  },
  {
   "cell_type": "code",
   "execution_count": null,
   "metadata": {
    "tags": [
     "hide-input"
    ]
   },
   "outputs": [],
   "source": [
    "plot_cdf(sample_prior, \n",
    "         label='SciPy sample',\n",
    "         color='C5')\n",
    "plot_cdf(sample_prior_pymc, \n",
    "         label='PyMC3 sample',\n",
    "         color='C0')\n",
    "decorate(xlabel=r'Goals per game ($\\lambda$)',\n",
    "         ylabel='CDF',\n",
    "         title='Prior distribution')"
   ]
  },
  {
   "cell_type": "markdown",
   "metadata": {},
   "source": [
    "The results are similar, which confirms that the specification of the model is correct and the sampler works as advertised.\n",
    "\n",
    "From the trace we can also extract `goals`, which is a sample from the prior predictive distribution."
   ]
  },
  {
   "cell_type": "code",
   "execution_count": null,
   "metadata": {},
   "outputs": [],
   "source": [
    "sample_prior_pred_pymc = trace['goals']\n",
    "sample_prior_pred_pymc.shape"
   ]
  },
  {
   "cell_type": "markdown",
   "metadata": {},
   "source": [
    "And we can compare it to the sample we generating using the `poisson` object from SciPy.\n",
    "\n",
    "Because the quantities in the posterior predictive distribution are discrete (number of goals) I'll plot the CDFs as step functions."
   ]
  },
  {
   "cell_type": "code",
   "execution_count": null,
   "metadata": {
    "tags": [
     "hide-cell"
    ]
   },
   "outputs": [],
   "source": [
    "def plot_pred(sample, **options):\n",
    "    Cdf.from_seq(sample).step(**options)"
   ]
  },
  {
   "cell_type": "code",
   "execution_count": null,
   "metadata": {
    "tags": [
     "hide-input"
    ]
   },
   "outputs": [],
   "source": [
    "plot_pred(sample_prior_pred, \n",
    "          label='SciPy sample', \n",
    "          color='C5')\n",
    "plot_pred(sample_prior_pred_pymc, \n",
    "          label='PyMC3 sample', \n",
    "          color='C13')\n",
    "decorate(xlabel='Number of goals',\n",
    "         ylabel='PMF',\n",
    "         title='Prior Predictive Distribution')"
   ]
  },
  {
   "cell_type": "markdown",
   "metadata": {},
   "source": [
    "Again, the results are similar, so we have some confidence we are using PyMC3 right."
   ]
  },
  {
   "cell_type": "markdown",
   "metadata": {},
   "source": [
    "## When Do We Get To Inference?\n",
    "\n",
    "Finally, we are ready for actual inference.  We just have to make one small change.\n",
    "Here is the model we used to generate the prior predictive distribution:"
   ]
  },
  {
   "cell_type": "code",
   "execution_count": null,
   "metadata": {},
   "outputs": [],
   "source": [
    "with pm.Model() as model:\n",
    "    lam = pm.Gamma('lam', alpha=1.4, beta=1.0)\n",
    "    goals = pm.Poisson('goals', lam)"
   ]
  },
  {
   "cell_type": "markdown",
   "metadata": {},
   "source": [
    "And here is the model we'll use to compute the posterior distribution."
   ]
  },
  {
   "cell_type": "code",
   "execution_count": null,
   "metadata": {},
   "outputs": [],
   "source": [
    "with pm.Model() as model2:\n",
    "    lam = pm.Gamma('lam', alpha=1.4, beta=1.0)\n",
    "    goals = pm.Poisson('goals', lam, observed=4)"
   ]
  },
  {
   "cell_type": "markdown",
   "metadata": {},
   "source": [
    "The difference is that we mark goals as `observed` and provide the observed data, `4`.\n",
    "\n",
    "And instead of calling `sample_prior_predictive`, we'll call `sample`, which is understood to sample from the posterior distribution of `lam`."
   ]
  },
  {
   "cell_type": "code",
   "execution_count": null,
   "metadata": {
    "tags": [
     "hide-output"
    ]
   },
   "outputs": [],
   "source": [
    "options = dict(return_inferencedata=False)\n",
    "\n",
    "with model2:\n",
    "    trace2 = pm.sample(500, **options)"
   ]
  },
  {
   "cell_type": "markdown",
   "metadata": {},
   "source": [
    "Although the specification of these models is similar, the sampling process is very different.\n",
    "I won't go into the details of how PyMC3 works, but here are a few things you should be aware of:\n",
    "\n",
    "* Depending on the model, PyMC3 uses one of several MCMC methods; in this example, it uses the [No U-Turn Sampler](https://en.wikipedia.org/wiki/Hamiltonian_Monte_Carlo#No_U-Turn_Sampler) (NUTS), which is one of the most efficient and reliable methods we have.\n",
    "\n",
    "* When the sampler starts, the first values it generates are usually not a representative sample from the posterior distribution, so these values are discarded.  This process is called \"tuning\".\n",
    "\n",
    "* Instead of using a single Markov chain, PyMC3 uses multiple chains.  Then we can compare results from multiple chains to make sure they are consistent.\n",
    "\n",
    "Although we asked for a sample of 500, PyMC3 generated two samples of 1000, discarded half of each, and returned the remaining 1000.\n",
    "From `trace2` we can extract a sample from the posterior distribution, like this:"
   ]
  },
  {
   "cell_type": "code",
   "execution_count": null,
   "metadata": {},
   "outputs": [],
   "source": [
    "sample_post_pymc = trace2['lam']"
   ]
  },
  {
   "cell_type": "code",
   "execution_count": null,
   "metadata": {
    "tags": [
     "hide-cell"
    ]
   },
   "outputs": [],
   "source": [
    "sample_post_pymc.shape"
   ]
  },
  {
   "cell_type": "markdown",
   "metadata": {},
   "source": [
    "And we can compare the CDF of this sample to the posterior we computed by grid approximation:"
   ]
  },
  {
   "cell_type": "code",
   "execution_count": null,
   "metadata": {
    "tags": [
     "hide-input"
    ]
   },
   "outputs": [],
   "source": [
    "posterior.make_cdf().plot(label='posterior grid', \n",
    "                          color='C5')\n",
    "plot_cdf(sample_post_pymc, \n",
    "         label='PyMC3 sample',\n",
    "         color='C4')\n",
    "\n",
    "decorate(xlabel=r'Goals per game ($\\lambda$)',\n",
    "         ylabel='CDF',\n",
    "         title='Posterior distribution')"
   ]
  },
  {
   "cell_type": "markdown",
   "metadata": {},
   "source": [
    "The results from PyMC3 are consistent with the results from the grid approximation."
   ]
  },
  {
   "cell_type": "markdown",
   "metadata": {},
   "source": [
    "## Posterior Predictive Distribution\n",
    "\n",
    "Finally, to sample from the posterior predictive distribution, we can use `sample_posterior_predictive`:"
   ]
  },
  {
   "cell_type": "code",
   "execution_count": null,
   "metadata": {
    "tags": [
     "hide-output"
    ]
   },
   "outputs": [],
   "source": [
    "with model2:\n",
    "    post_pred = pm.sample_posterior_predictive(trace2)"
   ]
  },
  {
   "cell_type": "markdown",
   "metadata": {},
   "source": [
    "The result is a dictionary that contains a sample of `goals`."
   ]
  },
  {
   "cell_type": "code",
   "execution_count": null,
   "metadata": {},
   "outputs": [],
   "source": [
    "sample_post_pred_pymc = post_pred['goals']"
   ]
  },
  {
   "cell_type": "code",
   "execution_count": null,
   "metadata": {
    "tags": [
     "hide-cell"
    ]
   },
   "outputs": [],
   "source": [
    "sample_post_pred_pymc.shape"
   ]
  },
  {
   "cell_type": "markdown",
   "metadata": {},
   "source": [
    "I'll also generate a sample from the posterior distribution we computed by grid approximation."
   ]
  },
  {
   "cell_type": "code",
   "execution_count": null,
   "metadata": {},
   "outputs": [],
   "source": [
    "sample_post = posterior.sample(1000)\n",
    "sample_post_pred = poisson(sample_post).rvs()"
   ]
  },
  {
   "cell_type": "markdown",
   "metadata": {},
   "source": [
    "And we can compare the two samples."
   ]
  },
  {
   "cell_type": "code",
   "execution_count": null,
   "metadata": {
    "tags": [
     "hide-input"
    ]
   },
   "outputs": [],
   "source": [
    "plot_pred(sample_post_pred, \n",
    "          label='grid sample',\n",
    "          color='C5')\n",
    "plot_pred(sample_post_pred_pymc, \n",
    "          label='PyMC3 sample',\n",
    "          color='C12')\n",
    "\n",
    "decorate(xlabel='Number of goals',\n",
    "         ylabel='PMF',\n",
    "         title='Posterior Predictive Distribution')"
   ]
  },
  {
   "cell_type": "markdown",
   "metadata": {},
   "source": [
    "Again, the results are consistent.\n",
    "So we've established that we can compute the same results using a grid approximation or PyMC3.\n",
    "\n",
    "But it might not be clear why.\n",
    "In this example, the grid algorithm requires less computation than MCMC, and the result is a pretty good approximation of the posterior distribution, rather than a sample.\n",
    "\n",
    "However, this is a simple model with just one parameter.\n",
    "In fact, we could have solved it with even less computation, using a conjugate prior.\n",
    "The power of PyMC3 will be clearer with a more complex model."
   ]
  },
  {
   "cell_type": "markdown",
   "metadata": {},
   "source": [
    "## Happiness\n",
    "\n",
    "Recently I read [\"Happiness and Life Satisfaction\"](https://ourworldindata.org/happiness-and-life-satisfaction)\n",
    "by Esteban Ortiz-Ospina and Max Roser, which discusses (among many other things) the relationship between income and happiness, both between countries, within countries, and over time.\n",
    "\n",
    "It cites the [\"World Happiness Report\"](https://worldhappiness.report/), which includes [results of a multiple regression analysis](https://worldhappiness.report/ed/2020/social-environments-for-world-happiness/) that explores the relationship between happiness and six potentially predictive factors:\n",
    "\n",
    "* Income as represented by per capita GDP.\n",
    "\n",
    "* Social support\n",
    "\n",
    "* Healthy life expectancy at birth\n",
    "\n",
    "* Freedom to make life choices\n",
    "\n",
    "* Generosity\n",
    "\n",
    "* Perceptions of corruption\n"
   ]
  },
  {
   "cell_type": "markdown",
   "metadata": {},
   "source": [
    "The dependent variable is the national average of responses to the \"Cantril ladder question\" used by the [Gallup World Poll](https://news.gallup.com/poll/122453/understanding-gallup-uses-cantril-scale.aspx):\n",
    "\n",
    "> Please imagine a ladder with steps numbered from zero at the bottom to 10 at the top. The top of the ladder represents the best possible life for you and the bottom of the ladder represents the worst possible life for you. On which step of the ladder would you say you personally feel you stand at this time?\n",
    "\n",
    "I'll refer to the responses as \"happiness\", but it might be more precise to think of them as a measure of satisfaction with quality of life.\n",
    "\n",
    "In the next few sections we'll replicate the analysis in this report using Bayesian regression."
   ]
  },
  {
   "cell_type": "markdown",
   "metadata": {
    "tags": [
     "remove-cell"
    ]
   },
   "source": [
    "The data from this report can be [downloaded from here](https://happiness-report.s3.amazonaws.com/2020/WHR20_DataForFigure2.1.xls)."
   ]
  },
  {
   "cell_type": "code",
   "execution_count": null,
   "metadata": {
    "tags": [
     "remove-cell"
    ]
   },
   "outputs": [],
   "source": [
    "# Get the data file\n",
    "\n",
    "import os\n",
    "\n",
    "filename = 'WHR20_DataForFigure2.1.xls'\n",
    "if not os.path.exists(filename):\n",
    "    !wget https://happiness-report.s3.amazonaws.com/2020/WHR20_DataForFigure2.1.xls"
   ]
  },
  {
   "cell_type": "markdown",
   "metadata": {},
   "source": [
    "We can use Pandas to read the data into a `DataFrame`."
   ]
  },
  {
   "cell_type": "code",
   "execution_count": null,
   "metadata": {},
   "outputs": [],
   "source": [
    "import pandas as pd\n",
    "\n",
    "filename = 'WHR20_DataForFigure2.1.xls'\n",
    "df = pd.read_excel(filename)"
   ]
  },
  {
   "cell_type": "code",
   "execution_count": null,
   "metadata": {
    "tags": [
     "hide-cell"
    ]
   },
   "outputs": [],
   "source": [
    "df.head(3)"
   ]
  },
  {
   "cell_type": "code",
   "execution_count": null,
   "metadata": {
    "tags": [
     "hide-cell"
    ]
   },
   "outputs": [],
   "source": [
    "df.shape"
   ]
  },
  {
   "cell_type": "markdown",
   "metadata": {},
   "source": [
    "The `DataFrame` has one row for each of 153 countries and one column for each of 20 variables.\n",
    "\n",
    "The column called `'Ladder score'` contains the measurements of happiness we will try to predict."
   ]
  },
  {
   "cell_type": "code",
   "execution_count": null,
   "metadata": {},
   "outputs": [],
   "source": [
    "score = df['Ladder score']"
   ]
  },
  {
   "cell_type": "markdown",
   "metadata": {},
   "source": [
    "## Simple Regression\n",
    "\n",
    "To get started, let's look at the relationship between happiness and income as represented by gross domestic product (GDP) per person.\n",
    "\n",
    "The column named `'Logged GDP per capita'` represents the natural logarithm of GDP for each country, divided by population, corrected for [purchasing power parity](https://en.wikipedia.org/wiki/Purchasing_power_parity) (PPP)."
   ]
  },
  {
   "cell_type": "code",
   "execution_count": null,
   "metadata": {},
   "outputs": [],
   "source": [
    "log_gdp = df['Logged GDP per capita']"
   ]
  },
  {
   "cell_type": "markdown",
   "metadata": {},
   "source": [
    "The following figure is a scatter plot of `score` versus `log_gdp`, with one marker for each country."
   ]
  },
  {
   "cell_type": "code",
   "execution_count": null,
   "metadata": {
    "tags": [
     "hide-input"
    ]
   },
   "outputs": [],
   "source": [
    "import matplotlib.pyplot as plt\n",
    "\n",
    "plt.plot(log_gdp, score, '.')\n",
    "\n",
    "decorate(xlabel='Log GDP per capita at PPP',\n",
    "         ylabel='Happiness ladder score')"
   ]
  },
  {
   "cell_type": "markdown",
   "metadata": {},
   "source": [
    "It's clear that there is a relationship between these variables: people in countries with higher GDP generally report higher levels of happiness.\n",
    "\n",
    "We can use `linregress` from SciPy to compute a simple regression of these variables."
   ]
  },
  {
   "cell_type": "code",
   "execution_count": null,
   "metadata": {},
   "outputs": [],
   "source": [
    "from scipy.stats import linregress\n",
    "\n",
    "result = linregress(log_gdp, score)"
   ]
  },
  {
   "cell_type": "markdown",
   "metadata": {},
   "source": [
    "And here are the results."
   ]
  },
  {
   "cell_type": "code",
   "execution_count": null,
   "metadata": {
    "tags": [
     "hide-input"
    ]
   },
   "outputs": [],
   "source": [
    "pd.DataFrame([result.slope, result.intercept],\n",
    "             index=['Slope', 'Intercept'],\n",
    "             columns=[''])"
   ]
  },
  {
   "cell_type": "markdown",
   "metadata": {},
   "source": [
    "The estimated slope is about 0.72, which suggests that an increase of one unit in log-GDP, which is a factor of $e \\approx 2.7$ in GDP, is associated with an increase of 0.72 units on the happiness ladder.\n",
    "\n",
    "Now let's estimate the same parameters using PyMC3.\n",
    "We'll use the same regression model as in Section xxx:\n",
    "\n",
    "$$y = a x + b + \\epsilon$$\n",
    "\n",
    "where $y$ is the dependent variable (ladder score), $x$ is the predictive variable (log GDP) and $\\epsilon$ is a series of values from a normal distribution with standard deviation $\\sigma$.\n",
    "\n",
    "$a$ and $b$ are the slope and intercept of the regression line.\n",
    "They are unknown parameters, so we will use the data to estimate them.\n",
    "\n",
    "The following is the PyMC3 specification of this model."
   ]
  },
  {
   "cell_type": "code",
   "execution_count": null,
   "metadata": {},
   "outputs": [],
   "source": [
    "x_data = log_gdp\n",
    "y_data = score\n",
    "\n",
    "with pm.Model() as model3:\n",
    "    a = pm.Uniform('a', 0, 4)\n",
    "    b = pm.Uniform('b', -4, 4)\n",
    "    sigma = pm.Uniform('sigma', 0, 2)\n",
    "\n",
    "    y_est = a * x_data + b\n",
    "    y = pm.Normal('y', \n",
    "                  mu=y_est, sd=sigma, \n",
    "                  observed=y_data)"
   ]
  },
  {
   "cell_type": "markdown",
   "metadata": {},
   "source": [
    "The prior distributions for the parameters, `a`, `b`, and `sigma` are uniform with ranges that are wide enough to cover the posterior distributions.\n",
    "\n",
    "`y_est` is the estimated value of the dependent variable, based on the regression equation.\n",
    "And `y` is a normal distribution with mean `y_est` and standard deviation `sigma`."
   ]
  },
  {
   "cell_type": "markdown",
   "metadata": {},
   "source": [
    "Notice how the data are included in the model:\n",
    "\n",
    "* The values of the predictive variable, `x_data`, are used to compute `y_est`.\n",
    "\n",
    "* The values of the dependent variable, `y_data` are provided as the observed values of `y`.\n",
    "\n",
    "Now we can use this model to generate a sample from the posterior distribution."
   ]
  },
  {
   "cell_type": "code",
   "execution_count": null,
   "metadata": {
    "tags": [
     "hide-output"
    ]
   },
   "outputs": [],
   "source": [
    "with model3:\n",
    "    trace3 = pm.sample(500, **options)"
   ]
  },
  {
   "cell_type": "markdown",
   "metadata": {},
   "source": [
    "When you run the sampler, you might get warning messages about \"divergences\" and the \"acceptance probability\".\n",
    "You can ignore them for now.\n",
    "\n",
    "The result is an object that contains samples from the joint posterior distribution of `a`, `b`, and `sigma`."
   ]
  },
  {
   "cell_type": "code",
   "execution_count": null,
   "metadata": {
    "tags": [
     "hide-cell"
    ]
   },
   "outputs": [],
   "source": [
    "trace3"
   ]
  },
  {
   "cell_type": "markdown",
   "metadata": {},
   "source": [
    "ArviZ provides `plot_posterior`, which we can use to plot the posterior distributions of the parameters.\n",
    "Here are the posterior distributions of slope, `a`, and intercept, `b`."
   ]
  },
  {
   "cell_type": "code",
   "execution_count": null,
   "metadata": {},
   "outputs": [],
   "source": [
    "import arviz as az\n",
    "\n",
    "with model3:\n",
    "    az.plot_posterior(trace3, var_names=['a', 'b']);"
   ]
  },
  {
   "cell_type": "markdown",
   "metadata": {},
   "source": [
    "The graphs show the distributions of the samples, estimated by KDE, and 94% credible intervals.  In the figure, \"HDI\" stands for [\"highest-density interval\"](https://www.sciencedirect.com/topics/mathematics/highest-density-interval).\n",
    "\n",
    "The means of these samples are consistent with the parameters we estimated with `linregress`."
   ]
  },
  {
   "cell_type": "code",
   "execution_count": null,
   "metadata": {
    "tags": [
     "hide-cell"
    ]
   },
   "outputs": [],
   "source": [
    "print('Sample mean:', trace3['a'].mean())\n",
    "print('Regression slope:', result.slope)"
   ]
  },
  {
   "cell_type": "code",
   "execution_count": null,
   "metadata": {
    "tags": [
     "hide-cell"
    ]
   },
   "outputs": [],
   "source": [
    "print('Sample mean:', trace3['b'].mean())\n",
    "print('Regression intercept:', result.intercept)"
   ]
  },
  {
   "cell_type": "markdown",
   "metadata": {
    "tags": [
     "hide-cell"
    ]
   },
   "source": [
    "Finally, we can check the marginal posterior distribution of `sigma`"
   ]
  },
  {
   "cell_type": "code",
   "execution_count": null,
   "metadata": {
    "tags": [
     "hide-cell"
    ]
   },
   "outputs": [],
   "source": [
    "az.plot_posterior(trace3['sigma']);"
   ]
  },
  {
   "cell_type": "markdown",
   "metadata": {
    "tags": [
     "hide-cell"
    ]
   },
   "source": [
    "The values in the posterior distribution of `sigma` seem plausible."
   ]
  },
  {
   "cell_type": "markdown",
   "metadata": {},
   "source": [
    "The simple regression model has only three parameters, so we could have used a grid algorithm.\n",
    "But the regression model in the happiness report has six predictive variables, so it has eight parameters in total, including the intercept and `sigma`.\n",
    "\n",
    "It is not practical to compute a grid approximation for a model with eight parameters.\n",
    "Even a coarse grid, with 20 points along each dimension, would have more than 25 billion points.\n",
    "And with 153 countries, we would have to compute almost 4 trillion likelihoods.\n",
    "\n",
    "But PyMC3 can handle a model with eight parameters comfortably, as we'll see in the next section."
   ]
  },
  {
   "cell_type": "code",
   "execution_count": null,
   "metadata": {
    "tags": [
     "hide-cell"
    ]
   },
   "outputs": [],
   "source": [
    "20 ** 8 / 1e9"
   ]
  },
  {
   "cell_type": "code",
   "execution_count": null,
   "metadata": {
    "tags": [
     "hide-cell"
    ]
   },
   "outputs": [],
   "source": [
    "153 * 20 ** 8 / 1e12"
   ]
  },
  {
   "cell_type": "markdown",
   "metadata": {},
   "source": [
    "## Multiple Regression\n",
    "\n",
    "Before we implement the multiple regression model, I'll select the columns we need from the `DataFrame`."
   ]
  },
  {
   "cell_type": "code",
   "execution_count": null,
   "metadata": {},
   "outputs": [],
   "source": [
    "columns = ['Ladder score',\n",
    "           'Logged GDP per capita',\n",
    "           'Social support',\n",
    "           'Healthy life expectancy',\n",
    "           'Freedom to make life choices',\n",
    "           'Generosity',\n",
    "           'Perceptions of corruption']\n",
    "\n",
    "subset = df[columns]"
   ]
  },
  {
   "cell_type": "code",
   "execution_count": null,
   "metadata": {
    "tags": [
     "hide-cell"
    ]
   },
   "outputs": [],
   "source": [
    "subset.head(3)"
   ]
  },
  {
   "cell_type": "markdown",
   "metadata": {},
   "source": [
    "The predictive variables have different units: log-GDP is in log-dollars, life expectancy is in years, and the other variables are on arbitrary scales.\n",
    "To make these factors comparable, I'll standardize the data so that each variable has mean 0 and standard deviation 1."
   ]
  },
  {
   "cell_type": "code",
   "execution_count": null,
   "metadata": {},
   "outputs": [],
   "source": [
    "standardized = (subset - subset.mean()) / subset.std()"
   ]
  },
  {
   "cell_type": "markdown",
   "metadata": {},
   "source": [
    "Now let's build the model.\n",
    "I'll extract the dependent variable."
   ]
  },
  {
   "cell_type": "code",
   "execution_count": null,
   "metadata": {},
   "outputs": [],
   "source": [
    "y_data = standardized['Ladder score']"
   ]
  },
  {
   "cell_type": "markdown",
   "metadata": {},
   "source": [
    "And the dependent variables."
   ]
  },
  {
   "cell_type": "code",
   "execution_count": null,
   "metadata": {},
   "outputs": [],
   "source": [
    "x1 = standardized[columns[1]]\n",
    "x2 = standardized[columns[2]]\n",
    "x3 = standardized[columns[3]]\n",
    "x4 = standardized[columns[4]]\n",
    "x5 = standardized[columns[5]]\n",
    "x6 = standardized[columns[6]]"
   ]
  },
  {
   "cell_type": "markdown",
   "metadata": {},
   "source": [
    "And here's the model.  `b0` is the intercept; `b1` through `b6` are the parameters associated with the predictive variables."
   ]
  },
  {
   "cell_type": "code",
   "execution_count": null,
   "metadata": {},
   "outputs": [],
   "source": [
    "with pm.Model() as model4:\n",
    "    b0 = pm.Uniform('b0', -4, 4)\n",
    "    b1 = pm.Uniform('b1', -4, 4)\n",
    "    b2 = pm.Uniform('b2', -4, 4)\n",
    "    b3 = pm.Uniform('b3', -4, 4)\n",
    "    b4 = pm.Uniform('b4', -4, 4)\n",
    "    b5 = pm.Uniform('b5', -4, 4)\n",
    "    b6 = pm.Uniform('b6', -4, 4)\n",
    "    sigma = pm.Uniform('sigma', 0, 2)\n",
    "\n",
    "    y_est = b0 + b1*x1 + b2*x2 + b3*x3 + b4*x4 + b5*x5 + b6*x6\n",
    "    y = pm.Normal('y', \n",
    "                  mu=y_est, sd=sigma, \n",
    "                  observed=y_data)"
   ]
  },
  {
   "cell_type": "markdown",
   "metadata": {},
   "source": [
    "We could express this model more concisely using a vector of predictive variables and a vector of parameters, but I decided to keep it simple.\n",
    "\n",
    "Now we can sample from the joint posterior distribution."
   ]
  },
  {
   "cell_type": "code",
   "execution_count": null,
   "metadata": {
    "tags": [
     "hide-output"
    ]
   },
   "outputs": [],
   "source": [
    "with model4:\n",
    "    trace4 = pm.sample(500, **options)"
   ]
  },
  {
   "cell_type": "markdown",
   "metadata": {
    "tags": [
     "hide-cell"
    ]
   },
   "source": [
    "Because we standardized the data, we expect the intercept to be 0, and in fact the posterior mean of `b0` is close to 0."
   ]
  },
  {
   "cell_type": "code",
   "execution_count": null,
   "metadata": {
    "tags": [
     "hide-cell"
    ]
   },
   "outputs": [],
   "source": [
    "trace4['b0'].mean()"
   ]
  },
  {
   "cell_type": "markdown",
   "metadata": {
    "tags": [
     "hide-cell"
    ]
   },
   "source": [
    "We can also check the posterior mean of `sigma`:"
   ]
  },
  {
   "cell_type": "code",
   "execution_count": null,
   "metadata": {
    "tags": [
     "hide-cell"
    ]
   },
   "outputs": [],
   "source": [
    "trace4['sigma'].mean()"
   ]
  },
  {
   "cell_type": "markdown",
   "metadata": {},
   "source": [
    "From `trace4` we can extract samples from the posterior distributions of the parameters and compute their means."
   ]
  },
  {
   "cell_type": "code",
   "execution_count": null,
   "metadata": {},
   "outputs": [],
   "source": [
    "param_names = ['b1', 'b3', 'b3', 'b4', 'b5', 'b6']\n",
    "\n",
    "means = [trace4[name].mean() \n",
    "         for name in param_names]"
   ]
  },
  {
   "cell_type": "markdown",
   "metadata": {},
   "source": [
    "We can also compute 94% credible intervals (between the 3rd and 97th percentiles)."
   ]
  },
  {
   "cell_type": "code",
   "execution_count": null,
   "metadata": {},
   "outputs": [],
   "source": [
    "def credible_interval(sample):\n",
    "    \"\"\"Compute 94% credible interval.\"\"\"\n",
    "    ci = np.percentile(sample, [3, 97])\n",
    "    return np.round(ci, 3)\n",
    "\n",
    "cis = [credible_interval(trace4[name])\n",
    "       for name in param_names]"
   ]
  },
  {
   "cell_type": "markdown",
   "metadata": {},
   "source": [
    "The following table summarizes the results."
   ]
  },
  {
   "cell_type": "code",
   "execution_count": null,
   "metadata": {
    "tags": [
     "hide-input"
    ]
   },
   "outputs": [],
   "source": [
    "index = columns[1:]\n",
    "table = pd.DataFrame(index=index)\n",
    "table['Posterior mean'] = np.round(means, 3)\n",
    "table['94% CI'] = cis\n",
    "table"
   ]
  },
  {
   "cell_type": "markdown",
   "metadata": {},
   "source": [
    "It looks like GDP has the strongest association with happiness (or satisfaction), followed by social support, life expectancy, and freedom.\n",
    "\n",
    "After controlling for those other factors, the parameters of the other factors are substantially smaller, and since the CI for generosity includes 0, it is plausible that generosity is not substantially related to happiness, at least as they were measured in this study.\n",
    "\n",
    "This example demonstrates the power of MCMC to handle models with more than a few parameters.\n",
    "But it does not really demonstrate the power of Bayesian regression.\n",
    "\n",
    "If the goal of a regression model is to estimate parameters, there is no great advantage to Bayesian regression compared to conventional least squares regression.\n",
    "\n",
    "Bayesian methods are more useful if we plan to use the posterior distribution of the parameters as part of a decision analysis process."
   ]
  },
  {
   "cell_type": "markdown",
   "metadata": {},
   "source": [
    "## Summary\n",
    "\n",
    "In this chapter we used PyMC3 to implement two models we've seen before: a Poisson model of goal-scoring in soccer and a simple regression model.\n",
    "Then we implemented a multiple regression model that would not have been possible to compute with a grid approximation.\n",
    "\n",
    "MCMC is more powerful than grid methods, but that power comes with some disadvantages:\n",
    "\n",
    "* MCMC algorithms are fiddly.  The same model might behave well with some priors and less well with others.  And the sampling process often produces warnings about tuning steps, divergences, \"r-hat statistics\", acceptance rates, and effective samples.  It takes some expertise to diagnose and correct these issues.\n",
    "\n",
    "* I find it easier to develop models incrementally using grid algorithms, checking intermediate results along the way.  With PyMC3, it is not as easy to be confident that you have specified a model correctly.\n",
    "\n",
    "For these reasons, I recommend a model development process that starts with grid algorithms and resorts to MCMC if necessary.\n",
    "As we saw in the previous chapters, you can solve a lot of real-world problems with grid methods.\n",
    "But when you need MCMC, it is useful to have a grid algorithm to compare to (even if it is based on a simpler model).\n",
    "\n",
    "All of the models in this book can be implemented in PyMC3, but some of them are easier to translate than others.\n",
    "In the exercises, you will have a chance to practice."
   ]
  },
  {
   "cell_type": "markdown",
   "metadata": {},
   "source": [
    "## Exercises"
   ]
  },
  {
   "cell_type": "markdown",
   "metadata": {},
   "source": [
    "**Exercise:** As a warmup, let's use PyMC3 to solve the Euro problem.\n",
    "Suppose we spin a coin 250 times and it comes up heads 140 times.\n",
    "What is the posterior distribution of $x$, the probability of heads?\n",
    "\n",
    "For the prior, use a beta distribution with parameters $\\alpha=1$ and $\\beta=1$.\n",
    "\n",
    "See [the PyMC3 documentation](https://docs.pymc.io/api/distributions/continuous.html) for the list of continuous distributions."
   ]
  },
  {
   "cell_type": "code",
   "execution_count": null,
   "metadata": {},
   "outputs": [],
   "source": [
    "# Solution\n",
    "\n",
    "n = 250\n",
    "k_obs = 140\n",
    "\n",
    "with pm.Model() as model5:\n",
    "    x = pm.Beta('x', alpha=1, beta=1)\n",
    "    k = pm.Binomial('k', n=n, p=x, observed=k_obs)\n",
    "    trace5 = pm.sample(500, **options)\n",
    "    az.plot_posterior(trace5)"
   ]
  },
  {
   "cell_type": "markdown",
   "metadata": {},
   "source": [
    "**Exercise:** Now let's use PyMC3 to replicate the solution to the Grizzly Bear problem in <<_TheGrizzlyBearProblem>>, which is based on the hypergeometric distribution.\n",
    "\n",
    "I'll present the problem with slightly different notation, to make it consistent with PyMC3.\n",
    "\n",
    "Suppose that during the first session, `k=23` bears are tagged.  During the second session, `n=19` bears are identified, of which `x=4` had been tagged.\n",
    "\n",
    "Estimate the posterior distribution of `N`, the number of bears in the environment.\n",
    "\n",
    "For the prior, use a discrete uniform distribution from 50 to 500.\n",
    "\n",
    "See [the PyMC3 documentation](https://docs.pymc.io/api/distributions/discrete.html) for the list of discrete distributions.\n",
    "\n",
    "Note: `HyperGeometric` was added to PyMC3 after version 3.8, so you might need to update your installation to do this exercise."
   ]
  },
  {
   "cell_type": "code",
   "execution_count": null,
   "metadata": {},
   "outputs": [],
   "source": [
    "# Solution\n",
    "\n",
    "k = 23\n",
    "n = 19\n",
    "x = 4\n",
    "\n",
    "with pm.Model() as model6:\n",
    "    N = pm.DiscreteUniform('N', 50, 500)\n",
    "    y = pm.HyperGeometric('y', N=N, k=k, n=n, observed=x)\n",
    "    trace6 = pm.sample(1000, **options)\n",
    "    az.plot_posterior(trace6)"
   ]
  },
  {
   "cell_type": "markdown",
   "metadata": {},
   "source": [
    "**Exercise:** In <<_TheWeibullDistribution>> we generated a sample from a Weibull distribution with $\\lambda=3$ and $k=0.8$.\n",
    "Then we used the data to compute a grid approximation of the posterior distribution of those parameters.\n",
    "\n",
    "Now let's do the same with PyMC3.\n",
    "\n",
    "For the priors, you can use uniform distributions as we did in <<_SurvivalAnalysis>>, or you could use `HalfNormal` distributions provided by PyMC3.\n",
    "\n",
    "Note: The `Weibull` class in PyMC3 uses different parameters than SciPy.  The parameter `alpha` in PyMC3 corresponds to $k$, and `beta` corresponds to $\\lambda$."
   ]
  },
  {
   "cell_type": "markdown",
   "metadata": {
    "tags": [
     "hide-cell"
    ]
   },
   "source": [
    "Here's the data again:"
   ]
  },
  {
   "cell_type": "code",
   "execution_count": null,
   "metadata": {
    "tags": [
     "hide-celll"
    ]
   },
   "outputs": [],
   "source": [
    "data = [0.80497283, 2.11577082, 0.43308797, 0.10862644, 5.17334866,\n",
    "       3.25745053, 3.05555883, 2.47401062, 0.05340806, 1.08386395]"
   ]
  },
  {
   "cell_type": "code",
   "execution_count": null,
   "metadata": {},
   "outputs": [],
   "source": [
    "# Solution\n",
    "\n",
    "with pm.Model() as model7:\n",
    "    lam = pm.Uniform('lam', 0.1, 10.1)\n",
    "    k = pm.Uniform('k', 0.1, 5.1)\n",
    "    y = pm.Weibull('y', alpha=k, beta=lam, observed=data)\n",
    "    trace7 = pm.sample(1000, **options)\n",
    "    az.plot_posterior(trace7)"
   ]
  },
  {
   "cell_type": "markdown",
   "metadata": {},
   "source": [
    "**Exercise:** In <<_ImprovingReadingAbility>> we used data from a reading test to estimate the parameters of a normal distribution.\n",
    "\n",
    "Make a model that defines uniform prior distributions for `mu` and `sigma` and uses the data to estimate their posterior distributions."
   ]
  },
  {
   "cell_type": "markdown",
   "metadata": {
    "tags": [
     "remove-cell"
    ]
   },
   "source": [
    "Here's the data again."
   ]
  },
  {
   "cell_type": "code",
   "execution_count": null,
   "metadata": {
    "tags": [
     "remove-cell"
    ]
   },
   "outputs": [],
   "source": [
    "import os\n",
    "\n",
    "if not os.path.exists('drp_scores.csv'):\n",
    "    !wget https://github.com/AllenDowney/ThinkBayes2/raw/master/data/drp_scores.csv"
   ]
  },
  {
   "cell_type": "code",
   "execution_count": null,
   "metadata": {
    "tags": [
     "remove-cell"
    ]
   },
   "outputs": [],
   "source": [
    "import pandas as pd\n",
    "\n",
    "df = pd.read_csv('drp_scores.csv', skiprows=21, delimiter='\\t')\n",
    "df.head()"
   ]
  },
  {
   "cell_type": "markdown",
   "metadata": {
    "tags": [
     "remove-cell"
    ]
   },
   "source": [
    "I'll use `groupby` to separate the treated group from the control group."
   ]
  },
  {
   "cell_type": "code",
   "execution_count": null,
   "metadata": {
    "tags": [
     "remove-cell"
    ]
   },
   "outputs": [],
   "source": [
    "grouped = df.groupby('Treatment')\n",
    "responses = {}\n",
    "\n",
    "for name, group in grouped:\n",
    "    responses[name] = group['Response']"
   ]
  },
  {
   "cell_type": "markdown",
   "metadata": {
    "tags": [
     "hide-cell"
    ]
   },
   "source": [
    "Now estimate the parameters for the treated group."
   ]
  },
  {
   "cell_type": "code",
   "execution_count": null,
   "metadata": {
    "tags": [
     "hide-cell"
    ]
   },
   "outputs": [],
   "source": [
    "data = responses['Treated']"
   ]
  },
  {
   "cell_type": "code",
   "execution_count": null,
   "metadata": {
    "tags": [
     "hide-cell"
    ]
   },
   "outputs": [],
   "source": [
    "# Solution\n",
    "\n",
    "with pm.Model() as model8:\n",
    "    mu = pm.Uniform('mu', 20, 80)\n",
    "    sigma = pm.Uniform('sigma', 5, 30)\n",
    "    y = pm.Normal('y', mu, sigma, observed=data)\n",
    "    trace8 = pm.sample(500, **options)"
   ]
  },
  {
   "cell_type": "code",
   "execution_count": null,
   "metadata": {
    "tags": [
     "hide-cell"
    ]
   },
   "outputs": [],
   "source": [
    "# Solution\n",
    "\n",
    "with model8:\n",
    "    az.plot_posterior(trace8)"
   ]
  },
  {
   "cell_type": "markdown",
   "metadata": {},
   "source": [
    "**Exercise:** In <<_TheLincolnIndexProblem>> we used a grid algorithm to solve the Lincoln Index problem as presented by John D. Cook:\n",
    "\n",
    ">\"Suppose you have a tester who finds 20 bugs in your program. You\n",
    "want to estimate how many bugs are really in the program. You know\n",
    "there are at least 20 bugs, and if you have supreme confidence in your\n",
    "tester, you may suppose there are around 20 bugs. But maybe your\n",
    "tester isn't very good. Maybe there are hundreds of bugs. How can you\n",
    "have any idea how many bugs there are? There's no way to know with one\n",
    "tester. But if you have two testers, you can get a good idea, even if\n",
    "you don't know how skilled the testers are.\"\n",
    "\n",
    "Suppose the first tester finds 20 bugs, the second finds 15, and they\n",
    "find 3 in common; use PyMC3 to estimate the number of bugs."
   ]
  },
  {
   "cell_type": "markdown",
   "metadata": {},
   "source": [
    "Note: This exercise is more difficult that some of the previous ones.  One of the challenges is that the data includes `k00`, which depends on `N`:\n",
    "\n",
    "```\n",
    "k00 = N - num_seen\n",
    "```\n",
    "\n",
    "So we have to construct the data as part of the model.\n",
    "To do that, we can use `pm.math.stack`, which makes an array:\n",
    "\n",
    "```\n",
    "data = pm.math.stack((k00, k01, k10, k11))\n",
    "```\n",
    "\n",
    "Finally, you might find it helpful to use `pm.Multinomial`."
   ]
  },
  {
   "cell_type": "markdown",
   "metadata": {
    "tags": [
     "hide-cell"
    ]
   },
   "source": [
    "I'll use the following notation for the data:\n",
    "\n",
    "* k11 is the number of bugs found by both testers,\n",
    "\n",
    "* k10 is the number of bugs found by the first tester but not the second,\n",
    "\n",
    "* k01 is the number of bugs found by the second tester but not the first, and\n",
    "\n",
    "* k00 is the unknown number of undiscovered bugs.\n",
    "\n",
    "Here are the values for all but `k00`:"
   ]
  },
  {
   "cell_type": "code",
   "execution_count": null,
   "metadata": {
    "tags": [
     "hide-cell"
    ]
   },
   "outputs": [],
   "source": [
    "k10 = 20 - 3\n",
    "k01 = 15 - 3\n",
    "k11 = 3"
   ]
  },
  {
   "cell_type": "markdown",
   "metadata": {
    "tags": [
     "hide-cell"
    ]
   },
   "source": [
    "In total, 32 bugs have been discovered:"
   ]
  },
  {
   "cell_type": "code",
   "execution_count": null,
   "metadata": {
    "tags": [
     "hide-cell"
    ]
   },
   "outputs": [],
   "source": [
    "num_seen = k01 + k10 + k11\n",
    "num_seen"
   ]
  },
  {
   "cell_type": "code",
   "execution_count": null,
   "metadata": {},
   "outputs": [],
   "source": [
    "# Solution\n",
    "\n",
    "with pm.Model() as model9:\n",
    "    p0 = pm.Beta('p0', alpha=1, beta=1)\n",
    "    p1 = pm.Beta('p1', alpha=1, beta=1)\n",
    "    N = pm.DiscreteUniform('N', num_seen, 350)\n",
    "    \n",
    "    q0 = 1-p0\n",
    "    q1 = 1-p1\n",
    "    ps = [q0*q1, q0*p1, p0*q1, p0*p1]\n",
    "    \n",
    "    k00 = N - num_seen\n",
    "    data = pm.math.stack((k00, k01, k10, k11))\n",
    "    y = pm.Multinomial('y', n=N, p=ps, observed=data)"
   ]
  },
  {
   "cell_type": "code",
   "execution_count": null,
   "metadata": {},
   "outputs": [],
   "source": [
    "# Solution\n",
    "\n",
    "with model9:\n",
    "    trace9 = pm.sample(1000, **options)"
   ]
  },
  {
   "cell_type": "code",
   "execution_count": null,
   "metadata": {},
   "outputs": [],
   "source": [
    "# Solution\n",
    "\n",
    "with model9:\n",
    "    az.plot_posterior(trace9)"
   ]
  },
  {
   "cell_type": "code",
   "execution_count": null,
   "metadata": {},
   "outputs": [],
   "source": []
  }
 ],
 "metadata": {
  "celltoolbar": "Tags",
  "kernelspec": {
   "display_name": "Python 3",
   "language": "python",
   "name": "python3"
  },
  "language_info": {
   "codemirror_mode": {
    "name": "ipython",
    "version": 3
   },
   "file_extension": ".py",
   "mimetype": "text/x-python",
   "name": "python",
   "nbconvert_exporter": "python",
   "pygments_lexer": "ipython3",
   "version": "3.8.8"
  }
 },
 "nbformat": 4,
 "nbformat_minor": 4
}
