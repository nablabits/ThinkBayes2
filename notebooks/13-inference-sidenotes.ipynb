{
 "cells": [
  {
   "cell_type": "markdown",
   "id": "8deb6ad6-ebdc-4d38-b31e-507b359dbbb9",
   "metadata": {},
   "source": [
    "Functions in the chapter"
   ]
  },
  {
   "cell_type": "code",
   "execution_count": null,
   "id": "3ae95682-e693-4f70-8fb9-362d5c7e808b",
   "metadata": {},
   "outputs": [],
   "source": []
  }
 ],
 "metadata": {
  "kernelspec": {
   "display_name": "Python 3",
   "language": "python",
   "name": "python3"
  },
  "language_info": {
   "codemirror_mode": {
    "name": "ipython",
    "version": 3
   },
   "file_extension": ".py",
   "mimetype": "text/x-python",
   "name": "python",
   "nbconvert_exporter": "python",
   "pygments_lexer": "ipython3",
   "version": "3.8.2"
  }
 },
 "nbformat": 4,
 "nbformat_minor": 5
}
