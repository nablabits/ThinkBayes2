{
 "cells": [
  {
   "cell_type": "code",
   "execution_count": null,
   "id": "24d2883b-1895-43e9-b3be-6dfed720079d",
   "metadata": {},
   "outputs": [],
   "source": [
    "import pandas as pd\n",
    "import numpy as np"
   ]
  },
  {
   "cell_type": "markdown",
   "id": "9d8de869-afec-428f-b166-9e44bf6b8a50",
   "metadata": {},
   "source": [
    "**Exercise:** Suppose I have a box with a 6-sided die, an 8-sided die, and a 12-sided die.\n",
    "I choose one of the dice at random, roll it four times, and get 1, 3, 5, and 7.\n",
    "What is the probability that I chose the 8-sided die?\n",
    "\n",
    "You can use the `update_dice` function or do the update yourself."
   ]
  },
  {
   "cell_type": "code",
   "execution_count": null,
   "id": "a0764407-09ac-438c-93a9-23e771e78c73",
   "metadata": {},
   "outputs": [],
   "source": [
    "bt = pd.DataFrame({\n",
    "    'prior': [1/3, 1/3, 1/3]\n",
    "})\n",
    "bt[\"like_1\"] = [1/6, 1/8, 1/12]\n",
    "bt['post_1'] = bt.prior * bt.like_1 / (bt.prior * bt.like_1).sum()\n",
    "\n",
    "bt[\"like_3\"] = [1/6, 1/8, 1/12]\n",
    "bt['post_3'] = bt.post_1 * bt.like_3 / (bt.post_1 * bt.like_3).sum()\n",
    "\n",
    "bt[\"like_5\"] = [1/6, 1/8, 1/12]\n",
    "bt['post_5'] = bt.post_3 * bt.like_5 / (bt.post_3 * bt.like_5).sum()\n",
    "\n",
    "bt[\"like_7\"] = [0, 1/8, 1/12]\n",
    "bt['post_7'] = bt.post_5 * bt.like_7 / (bt.post_5 * bt.like_7).sum()\n",
    "\n",
    "\n",
    "bt"
   ]
  },
  {
   "cell_type": "code",
   "execution_count": null,
   "id": "64be239b-80c1-4d73-a385-602ad71f52cf",
   "metadata": {},
   "outputs": [],
   "source": []
  }
 ],
 "metadata": {
  "kernelspec": {
   "display_name": "Python 3",
   "language": "python",
   "name": "python3"
  },
  "language_info": {
   "codemirror_mode": {
    "name": "ipython",
    "version": 3
   },
   "file_extension": ".py",
   "mimetype": "text/x-python",
   "name": "python",
   "nbconvert_exporter": "python",
   "pygments_lexer": "ipython3",
   "version": "3.8.2"
  }
 },
 "nbformat": 4,
 "nbformat_minor": 5
}
