{
 "cells": [
  {
   "cell_type": "code",
   "execution_count": 1,
   "id": "df9e56c4-c16d-4c01-b9a3-497861d7348f",
   "metadata": {},
   "outputs": [
    {
     "data": {
      "text/html": [
       "<div class=\"bk-root\">\n",
       "        <a href=\"https://bokeh.org\" target=\"_blank\" class=\"bk-logo bk-logo-small bk-logo-notebook\"></a>\n",
       "        <span id=\"1002\">Loading BokehJS ...</span>\n",
       "    </div>\n"
      ]
     },
     "metadata": {},
     "output_type": "display_data"
    },
    {
     "data": {
      "application/javascript": [
       "(function(root) {\n",
       "  function now() {\n",
       "    return new Date();\n",
       "  }\n",
       "\n",
       "  const force = true;\n",
       "\n",
       "  if (typeof root._bokeh_onload_callbacks === \"undefined\" || force === true) {\n",
       "    root._bokeh_onload_callbacks = [];\n",
       "    root._bokeh_is_loading = undefined;\n",
       "  }\n",
       "\n",
       "const JS_MIME_TYPE = 'application/javascript';\n",
       "  const HTML_MIME_TYPE = 'text/html';\n",
       "  const EXEC_MIME_TYPE = 'application/vnd.bokehjs_exec.v0+json';\n",
       "  const CLASS_NAME = 'output_bokeh rendered_html';\n",
       "\n",
       "  /**\n",
       "   * Render data to the DOM node\n",
       "   */\n",
       "  function render(props, node) {\n",
       "    const script = document.createElement(\"script\");\n",
       "    node.appendChild(script);\n",
       "  }\n",
       "\n",
       "  /**\n",
       "   * Handle when an output is cleared or removed\n",
       "   */\n",
       "  function handleClearOutput(event, handle) {\n",
       "    const cell = handle.cell;\n",
       "\n",
       "    const id = cell.output_area._bokeh_element_id;\n",
       "    const server_id = cell.output_area._bokeh_server_id;\n",
       "    // Clean up Bokeh references\n",
       "    if (id != null && id in Bokeh.index) {\n",
       "      Bokeh.index[id].model.document.clear();\n",
       "      delete Bokeh.index[id];\n",
       "    }\n",
       "\n",
       "    if (server_id !== undefined) {\n",
       "      // Clean up Bokeh references\n",
       "      const cmd_clean = \"from bokeh.io.state import curstate; print(curstate().uuid_to_server['\" + server_id + \"'].get_sessions()[0].document.roots[0]._id)\";\n",
       "      cell.notebook.kernel.execute(cmd_clean, {\n",
       "        iopub: {\n",
       "          output: function(msg) {\n",
       "            const id = msg.content.text.trim();\n",
       "            if (id in Bokeh.index) {\n",
       "              Bokeh.index[id].model.document.clear();\n",
       "              delete Bokeh.index[id];\n",
       "            }\n",
       "          }\n",
       "        }\n",
       "      });\n",
       "      // Destroy server and session\n",
       "      const cmd_destroy = \"import bokeh.io.notebook as ion; ion.destroy_server('\" + server_id + \"')\";\n",
       "      cell.notebook.kernel.execute(cmd_destroy);\n",
       "    }\n",
       "  }\n",
       "\n",
       "  /**\n",
       "   * Handle when a new output is added\n",
       "   */\n",
       "  function handleAddOutput(event, handle) {\n",
       "    const output_area = handle.output_area;\n",
       "    const output = handle.output;\n",
       "\n",
       "    // limit handleAddOutput to display_data with EXEC_MIME_TYPE content only\n",
       "    if ((output.output_type != \"display_data\") || (!Object.prototype.hasOwnProperty.call(output.data, EXEC_MIME_TYPE))) {\n",
       "      return\n",
       "    }\n",
       "\n",
       "    const toinsert = output_area.element.find(\".\" + CLASS_NAME.split(' ')[0]);\n",
       "\n",
       "    if (output.metadata[EXEC_MIME_TYPE][\"id\"] !== undefined) {\n",
       "      toinsert[toinsert.length - 1].firstChild.textContent = output.data[JS_MIME_TYPE];\n",
       "      // store reference to embed id on output_area\n",
       "      output_area._bokeh_element_id = output.metadata[EXEC_MIME_TYPE][\"id\"];\n",
       "    }\n",
       "    if (output.metadata[EXEC_MIME_TYPE][\"server_id\"] !== undefined) {\n",
       "      const bk_div = document.createElement(\"div\");\n",
       "      bk_div.innerHTML = output.data[HTML_MIME_TYPE];\n",
       "      const script_attrs = bk_div.children[0].attributes;\n",
       "      for (let i = 0; i < script_attrs.length; i++) {\n",
       "        toinsert[toinsert.length - 1].firstChild.setAttribute(script_attrs[i].name, script_attrs[i].value);\n",
       "        toinsert[toinsert.length - 1].firstChild.textContent = bk_div.children[0].textContent\n",
       "      }\n",
       "      // store reference to server id on output_area\n",
       "      output_area._bokeh_server_id = output.metadata[EXEC_MIME_TYPE][\"server_id\"];\n",
       "    }\n",
       "  }\n",
       "\n",
       "  function register_renderer(events, OutputArea) {\n",
       "\n",
       "    function append_mime(data, metadata, element) {\n",
       "      // create a DOM node to render to\n",
       "      const toinsert = this.create_output_subarea(\n",
       "        metadata,\n",
       "        CLASS_NAME,\n",
       "        EXEC_MIME_TYPE\n",
       "      );\n",
       "      this.keyboard_manager.register_events(toinsert);\n",
       "      // Render to node\n",
       "      const props = {data: data, metadata: metadata[EXEC_MIME_TYPE]};\n",
       "      render(props, toinsert[toinsert.length - 1]);\n",
       "      element.append(toinsert);\n",
       "      return toinsert\n",
       "    }\n",
       "\n",
       "    /* Handle when an output is cleared or removed */\n",
       "    events.on('clear_output.CodeCell', handleClearOutput);\n",
       "    events.on('delete.Cell', handleClearOutput);\n",
       "\n",
       "    /* Handle when a new output is added */\n",
       "    events.on('output_added.OutputArea', handleAddOutput);\n",
       "\n",
       "    /**\n",
       "     * Register the mime type and append_mime function with output_area\n",
       "     */\n",
       "    OutputArea.prototype.register_mime_type(EXEC_MIME_TYPE, append_mime, {\n",
       "      /* Is output safe? */\n",
       "      safe: true,\n",
       "      /* Index of renderer in `output_area.display_order` */\n",
       "      index: 0\n",
       "    });\n",
       "  }\n",
       "\n",
       "  // register the mime type if in Jupyter Notebook environment and previously unregistered\n",
       "  if (root.Jupyter !== undefined) {\n",
       "    const events = require('base/js/events');\n",
       "    const OutputArea = require('notebook/js/outputarea').OutputArea;\n",
       "\n",
       "    if (OutputArea.prototype.mime_types().indexOf(EXEC_MIME_TYPE) == -1) {\n",
       "      register_renderer(events, OutputArea);\n",
       "    }\n",
       "  }\n",
       "  if (typeof (root._bokeh_timeout) === \"undefined\" || force === true) {\n",
       "    root._bokeh_timeout = Date.now() + 5000;\n",
       "    root._bokeh_failed_load = false;\n",
       "  }\n",
       "\n",
       "  const NB_LOAD_WARNING = {'data': {'text/html':\n",
       "     \"<div style='background-color: #fdd'>\\n\"+\n",
       "     \"<p>\\n\"+\n",
       "     \"BokehJS does not appear to have successfully loaded. If loading BokehJS from CDN, this \\n\"+\n",
       "     \"may be due to a slow or bad network connection. Possible fixes:\\n\"+\n",
       "     \"</p>\\n\"+\n",
       "     \"<ul>\\n\"+\n",
       "     \"<li>re-rerun `output_notebook()` to attempt to load from CDN again, or</li>\\n\"+\n",
       "     \"<li>use INLINE resources instead, as so:</li>\\n\"+\n",
       "     \"</ul>\\n\"+\n",
       "     \"<code>\\n\"+\n",
       "     \"from bokeh.resources import INLINE\\n\"+\n",
       "     \"output_notebook(resources=INLINE)\\n\"+\n",
       "     \"</code>\\n\"+\n",
       "     \"</div>\"}};\n",
       "\n",
       "  function display_loaded() {\n",
       "    const el = document.getElementById(\"1002\");\n",
       "    if (el != null) {\n",
       "      el.textContent = \"BokehJS is loading...\";\n",
       "    }\n",
       "    if (root.Bokeh !== undefined) {\n",
       "      if (el != null) {\n",
       "        el.textContent = \"BokehJS \" + root.Bokeh.version + \" successfully loaded.\";\n",
       "      }\n",
       "    } else if (Date.now() < root._bokeh_timeout) {\n",
       "      setTimeout(display_loaded, 100)\n",
       "    }\n",
       "  }\n",
       "\n",
       "  function run_callbacks() {\n",
       "    try {\n",
       "      root._bokeh_onload_callbacks.forEach(function(callback) {\n",
       "        if (callback != null)\n",
       "          callback();\n",
       "      });\n",
       "    } finally {\n",
       "      delete root._bokeh_onload_callbacks\n",
       "    }\n",
       "    console.debug(\"Bokeh: all callbacks have finished\");\n",
       "  }\n",
       "\n",
       "  function load_libs(css_urls, js_urls, callback) {\n",
       "    if (css_urls == null) css_urls = [];\n",
       "    if (js_urls == null) js_urls = [];\n",
       "\n",
       "    root._bokeh_onload_callbacks.push(callback);\n",
       "    if (root._bokeh_is_loading > 0) {\n",
       "      console.debug(\"Bokeh: BokehJS is being loaded, scheduling callback at\", now());\n",
       "      return null;\n",
       "    }\n",
       "    if (js_urls == null || js_urls.length === 0) {\n",
       "      run_callbacks();\n",
       "      return null;\n",
       "    }\n",
       "    console.debug(\"Bokeh: BokehJS not loaded, scheduling load and callback at\", now());\n",
       "    root._bokeh_is_loading = css_urls.length + js_urls.length;\n",
       "\n",
       "    function on_load() {\n",
       "      root._bokeh_is_loading--;\n",
       "      if (root._bokeh_is_loading === 0) {\n",
       "        console.debug(\"Bokeh: all BokehJS libraries/stylesheets loaded\");\n",
       "        run_callbacks()\n",
       "      }\n",
       "    }\n",
       "\n",
       "    function on_error(url) {\n",
       "      console.error(\"failed to load \" + url);\n",
       "    }\n",
       "\n",
       "    for (let i = 0; i < css_urls.length; i++) {\n",
       "      const url = css_urls[i];\n",
       "      const element = document.createElement(\"link\");\n",
       "      element.onload = on_load;\n",
       "      element.onerror = on_error.bind(null, url);\n",
       "      element.rel = \"stylesheet\";\n",
       "      element.type = \"text/css\";\n",
       "      element.href = url;\n",
       "      console.debug(\"Bokeh: injecting link tag for BokehJS stylesheet: \", url);\n",
       "      document.body.appendChild(element);\n",
       "    }\n",
       "\n",
       "    for (let i = 0; i < js_urls.length; i++) {\n",
       "      const url = js_urls[i];\n",
       "      const element = document.createElement('script');\n",
       "      element.onload = on_load;\n",
       "      element.onerror = on_error.bind(null, url);\n",
       "      element.async = false;\n",
       "      element.src = url;\n",
       "      console.debug(\"Bokeh: injecting script tag for BokehJS library: \", url);\n",
       "      document.head.appendChild(element);\n",
       "    }\n",
       "  };\n",
       "\n",
       "  function inject_raw_css(css) {\n",
       "    const element = document.createElement(\"style\");\n",
       "    element.appendChild(document.createTextNode(css));\n",
       "    document.body.appendChild(element);\n",
       "  }\n",
       "\n",
       "  const js_urls = [\"https://cdn.bokeh.org/bokeh/release/bokeh-2.4.3.min.js\", \"https://cdn.bokeh.org/bokeh/release/bokeh-gl-2.4.3.min.js\", \"https://cdn.bokeh.org/bokeh/release/bokeh-widgets-2.4.3.min.js\", \"https://cdn.bokeh.org/bokeh/release/bokeh-tables-2.4.3.min.js\", \"https://cdn.bokeh.org/bokeh/release/bokeh-mathjax-2.4.3.min.js\"];\n",
       "  const css_urls = [];\n",
       "\n",
       "  const inline_js = [    function(Bokeh) {\n",
       "      Bokeh.set_log_level(\"info\");\n",
       "    },\n",
       "function(Bokeh) {\n",
       "    }\n",
       "  ];\n",
       "\n",
       "  function run_inline_js() {\n",
       "    if (root.Bokeh !== undefined || force === true) {\n",
       "          for (let i = 0; i < inline_js.length; i++) {\n",
       "      inline_js[i].call(root, root.Bokeh);\n",
       "    }\n",
       "if (force === true) {\n",
       "        display_loaded();\n",
       "      }} else if (Date.now() < root._bokeh_timeout) {\n",
       "      setTimeout(run_inline_js, 100);\n",
       "    } else if (!root._bokeh_failed_load) {\n",
       "      console.log(\"Bokeh: BokehJS failed to load within specified timeout.\");\n",
       "      root._bokeh_failed_load = true;\n",
       "    } else if (force !== true) {\n",
       "      const cell = $(document.getElementById(\"1002\")).parents('.cell').data().cell;\n",
       "      cell.output_area.append_execute_result(NB_LOAD_WARNING)\n",
       "    }\n",
       "  }\n",
       "\n",
       "  if (root._bokeh_is_loading === 0) {\n",
       "    console.debug(\"Bokeh: BokehJS loaded, going straight to plotting\");\n",
       "    run_inline_js();\n",
       "  } else {\n",
       "    load_libs(css_urls, js_urls, function() {\n",
       "      console.debug(\"Bokeh: BokehJS plotting callback run at\", now());\n",
       "      run_inline_js();\n",
       "    });\n",
       "  }\n",
       "}(window));"
      ],
      "application/vnd.bokehjs_load.v0+json": "(function(root) {\n  function now() {\n    return new Date();\n  }\n\n  const force = true;\n\n  if (typeof root._bokeh_onload_callbacks === \"undefined\" || force === true) {\n    root._bokeh_onload_callbacks = [];\n    root._bokeh_is_loading = undefined;\n  }\n\n\n  if (typeof (root._bokeh_timeout) === \"undefined\" || force === true) {\n    root._bokeh_timeout = Date.now() + 5000;\n    root._bokeh_failed_load = false;\n  }\n\n  const NB_LOAD_WARNING = {'data': {'text/html':\n     \"<div style='background-color: #fdd'>\\n\"+\n     \"<p>\\n\"+\n     \"BokehJS does not appear to have successfully loaded. If loading BokehJS from CDN, this \\n\"+\n     \"may be due to a slow or bad network connection. Possible fixes:\\n\"+\n     \"</p>\\n\"+\n     \"<ul>\\n\"+\n     \"<li>re-rerun `output_notebook()` to attempt to load from CDN again, or</li>\\n\"+\n     \"<li>use INLINE resources instead, as so:</li>\\n\"+\n     \"</ul>\\n\"+\n     \"<code>\\n\"+\n     \"from bokeh.resources import INLINE\\n\"+\n     \"output_notebook(resources=INLINE)\\n\"+\n     \"</code>\\n\"+\n     \"</div>\"}};\n\n  function display_loaded() {\n    const el = document.getElementById(\"1002\");\n    if (el != null) {\n      el.textContent = \"BokehJS is loading...\";\n    }\n    if (root.Bokeh !== undefined) {\n      if (el != null) {\n        el.textContent = \"BokehJS \" + root.Bokeh.version + \" successfully loaded.\";\n      }\n    } else if (Date.now() < root._bokeh_timeout) {\n      setTimeout(display_loaded, 100)\n    }\n  }\n\n  function run_callbacks() {\n    try {\n      root._bokeh_onload_callbacks.forEach(function(callback) {\n        if (callback != null)\n          callback();\n      });\n    } finally {\n      delete root._bokeh_onload_callbacks\n    }\n    console.debug(\"Bokeh: all callbacks have finished\");\n  }\n\n  function load_libs(css_urls, js_urls, callback) {\n    if (css_urls == null) css_urls = [];\n    if (js_urls == null) js_urls = [];\n\n    root._bokeh_onload_callbacks.push(callback);\n    if (root._bokeh_is_loading > 0) {\n      console.debug(\"Bokeh: BokehJS is being loaded, scheduling callback at\", now());\n      return null;\n    }\n    if (js_urls == null || js_urls.length === 0) {\n      run_callbacks();\n      return null;\n    }\n    console.debug(\"Bokeh: BokehJS not loaded, scheduling load and callback at\", now());\n    root._bokeh_is_loading = css_urls.length + js_urls.length;\n\n    function on_load() {\n      root._bokeh_is_loading--;\n      if (root._bokeh_is_loading === 0) {\n        console.debug(\"Bokeh: all BokehJS libraries/stylesheets loaded\");\n        run_callbacks()\n      }\n    }\n\n    function on_error(url) {\n      console.error(\"failed to load \" + url);\n    }\n\n    for (let i = 0; i < css_urls.length; i++) {\n      const url = css_urls[i];\n      const element = document.createElement(\"link\");\n      element.onload = on_load;\n      element.onerror = on_error.bind(null, url);\n      element.rel = \"stylesheet\";\n      element.type = \"text/css\";\n      element.href = url;\n      console.debug(\"Bokeh: injecting link tag for BokehJS stylesheet: \", url);\n      document.body.appendChild(element);\n    }\n\n    for (let i = 0; i < js_urls.length; i++) {\n      const url = js_urls[i];\n      const element = document.createElement('script');\n      element.onload = on_load;\n      element.onerror = on_error.bind(null, url);\n      element.async = false;\n      element.src = url;\n      console.debug(\"Bokeh: injecting script tag for BokehJS library: \", url);\n      document.head.appendChild(element);\n    }\n  };\n\n  function inject_raw_css(css) {\n    const element = document.createElement(\"style\");\n    element.appendChild(document.createTextNode(css));\n    document.body.appendChild(element);\n  }\n\n  const js_urls = [\"https://cdn.bokeh.org/bokeh/release/bokeh-2.4.3.min.js\", \"https://cdn.bokeh.org/bokeh/release/bokeh-gl-2.4.3.min.js\", \"https://cdn.bokeh.org/bokeh/release/bokeh-widgets-2.4.3.min.js\", \"https://cdn.bokeh.org/bokeh/release/bokeh-tables-2.4.3.min.js\", \"https://cdn.bokeh.org/bokeh/release/bokeh-mathjax-2.4.3.min.js\"];\n  const css_urls = [];\n\n  const inline_js = [    function(Bokeh) {\n      Bokeh.set_log_level(\"info\");\n    },\nfunction(Bokeh) {\n    }\n  ];\n\n  function run_inline_js() {\n    if (root.Bokeh !== undefined || force === true) {\n          for (let i = 0; i < inline_js.length; i++) {\n      inline_js[i].call(root, root.Bokeh);\n    }\nif (force === true) {\n        display_loaded();\n      }} else if (Date.now() < root._bokeh_timeout) {\n      setTimeout(run_inline_js, 100);\n    } else if (!root._bokeh_failed_load) {\n      console.log(\"Bokeh: BokehJS failed to load within specified timeout.\");\n      root._bokeh_failed_load = true;\n    } else if (force !== true) {\n      const cell = $(document.getElementById(\"1002\")).parents('.cell').data().cell;\n      cell.output_area.append_execute_result(NB_LOAD_WARNING)\n    }\n  }\n\n  if (root._bokeh_is_loading === 0) {\n    console.debug(\"Bokeh: BokehJS loaded, going straight to plotting\");\n    run_inline_js();\n  } else {\n    load_libs(css_urls, js_urls, function() {\n      console.debug(\"Bokeh: BokehJS plotting callback run at\", now());\n      run_inline_js();\n    });\n  }\n}(window));"
     },
     "metadata": {},
     "output_type": "display_data"
    }
   ],
   "source": [
    "import numpy as np\n",
    "import pandas as pd\n",
    "import statsmodels.formula.api as smf\n",
    "from scipy.special import expit\n",
    "from scipy.stats import binom\n",
    "from py_scripts.common import QuantitiesOfInterest\n",
    "from py_scripts.plotting import heatmap\n",
    "from bokeh.plotting import figure, output_notebook, show\n",
    "from bokeh.models import ColumnDataSource\n",
    "output_notebook()"
   ]
  },
  {
   "cell_type": "markdown",
   "id": "c1fdc627-ce6d-4394-b095-47330ee2ae53",
   "metadata": {},
   "source": [
    "# Prepare the data"
   ]
  },
  {
   "cell_type": "code",
   "execution_count": 2,
   "id": "e1e09e83-3d84-4337-80f3-516201b70884",
   "metadata": {},
   "outputs": [],
   "source": [
    "data = pd.read_csv('challenger_data.csv')\n",
    "data = data.dropna()\n",
    "data = data.drop(24)\n",
    "df_original = pd.DataFrame({\n",
    "    \"x\": data.Temperature,\n",
    "    \"y\": data[\"Damage Incident\"].astype(int)\n",
    "})\n",
    "offset = df_original.x.mean().round()\n",
    "df = df_original.copy()\n",
    "df[\"x\"] = df.x - offset"
   ]
  },
  {
   "cell_type": "markdown",
   "id": "436f79c0-3436-498b-90e4-710dd3d8c7be",
   "metadata": {},
   "source": [
    "# Conventional Logistic Regression"
   ]
  },
  {
   "cell_type": "code",
   "execution_count": 3,
   "id": "8f02c710-bfa4-4f3a-9a6f-0f9bf8593983",
   "metadata": {},
   "outputs": [
    {
     "data": {
      "text/plain": [
       "Intercept   -1.208490\n",
       "x           -0.232163\n",
       "dtype: float64"
      ]
     },
     "execution_count": 3,
     "metadata": {},
     "output_type": "execute_result"
    }
   ],
   "source": [
    "formula = 'y ~ x'\n",
    "results = smf.logit(formula, data=df).fit(disp=False)\n",
    "results.params"
   ]
  },
  {
   "cell_type": "markdown",
   "id": "52b979c2-8098-483a-8ddc-fc21052b8fe3",
   "metadata": {},
   "source": [
    "# Bayesian Logistic Regression\n",
    "## Estimate the parameters"
   ]
  },
  {
   "cell_type": "code",
   "execution_count": 4,
   "id": "9e7e63a1-7b44-47c2-8419-041995ac47b9",
   "metadata": {},
   "outputs": [],
   "source": [
    "# Hypothesis space of parameters\n",
    "hs_m = np.linspace(-.8, .1, 101)  # slope\n",
    "hs_x0 = np.linspace(-5, 1, 101)  # intercept\n",
    "\n",
    "# Create all possible pairs of parameters in a flat array\n",
    "mesh_m, mesh_x0 = np.meshgrid(hs_m, hs_x0)\n",
    "mesh_m = mesh_m.ravel()\n",
    "mesh_x0 = mesh_x0.ravel()\n",
    "\n",
    "# We will need trials and failures to compute the binomial distribution, therefore we need\n",
    "# to group by x\n",
    "observations = df.groupby('x').y.agg([\"count\", \"sum\"])  # size 16\n",
    "observations.rename(columns={\"count\": \"ns\", \"sum\": \"ks\"}, inplace=True)\n",
    "\n",
    "# We will need three arrays of 101^2 x 16 for ks, ns and ps\n",
    "# For ks and ns is quite straigthforward, just get the relevant mesh from the meshgrid\n",
    "# with one of the parameters mesh\n",
    "ks_mesh, _ = np.meshgrid(observations.ks, mesh_m)  # 10201 x 16\n",
    "ns_mesh, _ = np.meshgrid(observations.ns, mesh_m)\n",
    "\n",
    "# For ps it's a bit more tricky as we need three arrays to compute expit that needs three\n",
    "# parameters\n",
    "vx, v_m = np.meshgrid(observations.index, mesh_m)\n",
    "_, v_x0 = np.meshgrid(observations.index, mesh_x0)\n",
    "p_mesh = expit(v_x0 + v_m * vx)\n",
    "\n",
    "# Finally compute the binomial for all the combinations and take the joint probability\n",
    "dist = binom.pmf(k=ks_mesh, n=ns_mesh, p=p_mesh)\n",
    "likes = dist.prod(axis=1)\n",
    "\n",
    "# build the bayes table\n",
    "k = pd.DataFrame({\n",
    "    \"x0\": mesh_x0.round(2),\n",
    "    \"m\":mesh_m.round(3),\n",
    "    \"likes\": likes,\n",
    "    \"posterior\": likes / likes.sum()\n",
    "})"
   ]
  },
  {
   "cell_type": "markdown",
   "id": "fca5cee0-092e-41d8-b4a0-f6cf91f30e12",
   "metadata": {},
   "source": [
    "## Plot the posterior"
   ]
  },
  {
   "cell_type": "code",
   "execution_count": 5,
   "id": "01242f73-8d3b-4827-bc59-95bfa69f2739",
   "metadata": {},
   "outputs": [
    {
     "data": {
      "image/png": "[encoded data removed]",
      "text/plain": [
       "<Figure size 576x432 with 2 Axes>"
      ]
     },
     "metadata": {
      "needs_background": "light"
     },
     "output_type": "display_data"
    }
   ],
   "source": [
    "# To extract the marginals we need to pivot the table to a 101 x 101 array\n",
    "posterior = k.pivot(index=\"m\", columns=\"x0\", values=\"posterior\")\n",
    "heatmap(posterior, title=\"Posterior of parameters\")"
   ]
  },
  {
   "cell_type": "markdown",
   "id": "058cd995-e927-40b1-880c-0575cdfb58e0",
   "metadata": {},
   "source": [
    "# Transformation & Marginals"
   ]
  },
  {
   "cell_type": "code",
   "execution_count": 6,
   "id": "ec1fbc3b-5ab9-46b4-863b-148189760f16",
   "metadata": {},
   "outputs": [
    {
     "name": "stdout",
     "output_type": "stream",
     "text": [
      "The expected value is: 0.7542914170110268\n",
      "The MAP is: 0.7850561775518295\n",
      "The CI is: [0.5939263245834361, 0.8985256729903055]\n",
      "The expected value is: 0.22019378846479876\n",
      "The MAP is: 0.2175502235768875\n",
      "The CI is: [0.0731011734223782, 0.4061268970658573]\n"
     ]
    },
    {
     "data": {
      "text/plain": [
       "((101,), (101,))"
      ]
     },
     "execution_count": 6,
     "metadata": {},
     "output_type": "execute_result"
    },
    {
     "data": {
      "image/png": "[encoded data removed]",
      "text/plain": [
       "<Figure size 432x288 with 1 Axes>"
      ]
     },
     "metadata": {
      "needs_background": "light"
     },
     "output_type": "display_data"
    }
   ],
   "source": [
    "# Extract the marginals\n",
    "marginal_m = posterior.sum(axis=1)\n",
    "marginal_x0 = posterior.sum()\n",
    "\n",
    "marginal_m /= marginal_m.sum()\n",
    "marginal_x0 /= marginal_x0.sum()\n",
    "\n",
    "# Transform Them\n",
    "marginal_m.index = np.exp(marginal_m.index)\n",
    "marginal_x0.index = expit(marginal_x0.index)\n",
    "\n",
    "q_m = QuantitiesOfInterest(marginal_m)\n",
    "q_x0 = QuantitiesOfInterest(marginal_x0)\n",
    "[klass.run() for klass in (q_m, q_x0)]\n",
    "\n",
    "marginal_x0.plot(\n",
    "    title=\"Probabilty of failure at 0\", \n",
    "    xlabel=\"Probability\", ylabel=\"pmf\", color=\"C1\", lw=\"3\"\n",
    ");\n",
    "marginal_m.shape, marginal_x0.shape"
   ]
  },
  {
   "cell_type": "markdown",
   "id": "09aa38fd-ea2c-4c51-b9bc-3ffc8b9164c0",
   "metadata": {},
   "source": [
    "# Predictive Posterior"
   ]
  },
  {
   "cell_type": "code",
   "execution_count": 7,
   "id": "848d03c1-4ebb-4b01-bc80-2eebc10a105b",
   "metadata": {},
   "outputs": [],
   "source": [
    "# Lets do some sampling\n",
    "s_post = posterior.stack().reset_index()\n",
    "s = s_post.sample(100, weights=s_post[0])\n",
    "\n",
    "t_range = np.arange(observations.index.min() -25, observations.index.max() + 2)\n",
    "\n",
    "# Now we need to compute the probability of each pair of parameters for the range of\n",
    "# temperatures, so we will need meshes of the elements.\n",
    "sm_mesh, t_mesh = np.meshgrid(s.m.values, t_range)\n",
    "sx0_mesh, _ = np.meshgrid(s.x0.values, t_range)\n",
    "model = expit(sx0_mesh + sm_mesh * t_mesh)\n",
    "\n",
    "# Find the percentiles for each temperature\n",
    "percentiles = {\"lo\": 5, \"mid\": 50, \"hi\": 95}\n",
    "data = np.percentile(model, [p for p in percentiles.values()], axis=1)\n",
    "\n",
    "# Finally build the df containing the three percentiles for each temperature.\n",
    "data = pd.DataFrame(\n",
    "    data,\n",
    "    columns=t_range + offset,\n",
    "    index=percentiles.keys(),\n",
    ").T"
   ]
  },
  {
   "cell_type": "code",
   "execution_count": 8,
   "id": "2bec6cfc-94df-4557-9349-27fdf22da075",
   "metadata": {},
   "outputs": [
    {
     "data": {
      "text/html": [
       "\n",
       "  <div class=\"bk-root\" id=\"7083f19b-65fd-4576-b3e5-c0372ff3f1e0\" data-root-id=\"1005\"></div>\n"
      ]
     },
     "metadata": {},
     "output_type": "display_data"
    },
    {
     "data": {
      "application/javascript": [
       "(function(root) {\n",
       "  function embed_document(root) {\n",
       "  const docs_json = {\"19cf67f8-3b7e-4cfe-a68f-0e3796e4da03\":{\"defs\":[],\"roots\":{\"references\":[{\"attributes\":{\"below\":[{\"id\":\"1016\"}],\"center\":[{\"id\":\"1019\"},{\"id\":\"1023\"}],\"height\":350,\"left\":[{\"id\":\"1020\"}],\"renderers\":[{\"id\":\"1044\"},{\"id\":\"1050\"},{\"id\":\"1056\"}],\"title\":{\"id\":\"1006\"},\"toolbar\":{\"id\":\"1032\"},\"x_range\":{\"id\":\"1008\"},\"x_scale\":{\"id\":\"1012\"},\"y_range\":{\"id\":\"1010\"},\"y_scale\":{\"id\":\"1014\"}},\"id\":\"1005\",\"subtype\":\"Figure\",\"type\":\"Plot\"},{\"attributes\":{},\"id\":\"1010\",\"type\":\"DataRange1d\"},{\"attributes\":{},\"id\":\"1029\",\"type\":\"HelpTool\"},{\"attributes\":{},\"id\":\"1064\",\"type\":\"AllLabels\"},{\"attributes\":{\"fill_alpha\":0.2,\"fill_color\":\"orange\",\"hatch_alpha\":{\"value\":0.2},\"hatch_color\":{\"value\":\"orange\"},\"x\":{\"field\":\"index\"},\"y1\":{\"field\":\"lo\"},\"y2\":{\"field\":\"hi\"}},\"id\":\"1049\",\"type\":\"VArea\"},{\"attributes\":{\"data\":{\"hi\":{\"__ndarray__\":\"z2X4/v//7z+zVET+///vPwxCFf3//+8/hyYX+///7z+Yk7z3///vP3l8F/L//+8/zjSX6P//7z+iV5nY///vP07Irr3//+8/CPNgkP//7z8GBiBE///vP6Y7x8P+/+8/3PC/6/3/7z/3VSOA/P/vPyEzHhz6/+8/U637Ffb/7z/GkRZQ7//vPz1Qpenj/+8/WEZsudD/7z+wzmVtsP/vP3JSPRF6/+8/FT8lkx7/7z/WK4aXhP7vP7IXXU6D/e8/eoGjxA/87z9B3Aduw/nvP/ajgRQS9u8/efVa/wzv7z8SubFoZN/vP47twJzTy+8/491enkyv7z92mWb/yofvP6B1D3eEOe8/RWu74JjN7j+lymyVpijuPx/SjOdMQO0/AARlWWjV6z9zhMbd0MDpP0sT5SJiXuc/o1RxYGNJ5D9Dj4sOwYThP12VxEBTSN8/MvBGAiDp2z8gaRT94xPZP20mm/Pck9U/5bemBQqZ0z9AVAFsC6XSP1FICtmKUdA/iHnedNF8zT/fRID1/3bLP3U7uwKyi8k/wso1dd26xz97GcscXIfFP3/iCdjMRcM/IzZals80wT8=\",\"dtype\":\"float64\",\"order\":\"little\",\"shape\":[55]},\"index\":{\"__ndarray__\":\"AAAAAAAAPEAAAAAAAAA9QAAAAAAAAD5AAAAAAAAAP0AAAAAAAABAQAAAAAAAgEBAAAAAAAAAQUAAAAAAAIBBQAAAAAAAAEJAAAAAAACAQkAAAAAAAABDQAAAAAAAgENAAAAAAAAAREAAAAAAAIBEQAAAAAAAAEVAAAAAAACARUAAAAAAAABGQAAAAAAAgEZAAAAAAAAAR0AAAAAAAIBHQAAAAAAAAEhAAAAAAACASEAAAAAAAABJQAAAAAAAgElAAAAAAAAASkAAAAAAAIBKQAAAAAAAAEtAAAAAAACAS0AAAAAAAABMQAAAAAAAgExAAAAAAAAATUAAAAAAAIBNQAAAAAAAAE5AAAAAAACATkAAAAAAAABPQAAAAAAAgE9AAAAAAAAAUEAAAAAAAEBQQAAAAAAAgFBAAAAAAADAUEAAAAAAAABRQAAAAAAAQFFAAAAAAACAUUAAAAAAAMBRQAAAAAAAAFJAAAAAAABAUkAAAAAAAIBSQAAAAAAAwFJAAAAAAAAAU0AAAAAAAEBTQAAAAAAAgFNAAAAAAADAU0AAAAAAAABUQAAAAAAAQFRAAAAAAACAVEA=\",\"dtype\":\"float64\",\"order\":\"little\",\"shape\":[55]},\"lo\":{\"__ndarray__\":\"KvpGdSF27z9wNbXPimXvPx9qYrUbU+8/XMW4LoY+7z+SmsZfjSfvP0FWhYvuDe8/2oT0lTD07j/FjA6PWNnuP0y++8Dqu+4/CnfmOq2b7j8+8kEyYnjuPygmugTIUe4/4eV8f68N7j+jFD/IbrntP445fxqScu0/98wjJ28n7T/IrF01gtTsPzrvswg1eew/f0S/i/QU7D/uXF4PNafrP9KRZ0t3L+s/q+hFYJ2T6j83ozl6+t7pPxWelCZ2Guk/gCdZqWFE6D96fo3h/VznP9aY0lQDZeY/8jTiWa1d5T8btA6zeWfkP0fxURAfXuM/47kUExGo4j8BQ4pd2kriPzsF+tEM4+A/OBS8bHvA3T93sx36ejHaP+X8lcBkydc/5+BBrEEl1T9VlptoNVnSP/gm0YRaBM8/NV4+3M0dxD8KVsSgida9PwCJwp4B8rU/0FrDNLSkrz8ZIAEcnwCoPx7wrHQP+qA/XolD+9MwlD9qk7m9V52IPxrrTVoQxn8/mkK+HFAWdT+2ma/6DfdrP5N5nWVFiGI/ie5ToB9GWD9QJh77Ks9NP9fZxz0dzUM/wtk8B5xROj8=\",\"dtype\":\"float64\",\"order\":\"little\",\"shape\":[55]},\"mid\":{\"__ndarray__\":\"Doa44mn/7z8xu8u6Ov/vP9YrzsH8/u8/OGLGhK7+7z8SO+KXSP7vP7rc98nD/e8/7ISWuRb97z9FO2gqNfzvP4e8Ijki++8/OFyJas357z/kOx9NG/jvPxArC1jy9e8/wDuCCzLz7z81dkwPse/vP/i4mNI66+8/zACjB/rk7z+KlQa+19zvP6Y1WBZE0u8/c6ZEEIXE7z+cv6bdqrLvP4qwjnSBm+8/3DXy4H5+7z8I2fNIzFvvPxgaI4lPLe8/RbgYg/rx7j/2Zcs1gqbuP2b32s1mUe4/hFvxSvHq7T/Cx6HRD1TtP2a4MHX5jew/pIW/MeF/6z9o/Ian9TbqPzgYjTpwreg/tsA5dk0K5z+cTcI286nlP5bRKDJKAeQ/HUaMLI4b4j8sv/bPEIXgP5FkZ6gRFd4/Gobh2kvy2T8CUyIfVFDWP4SfF0HEddI/pvkvTKaMzj9gswny5NnHP6ItyP2Q+ME/jh9Ax3z/uj8Nj5z9gUy0P56bKE3Wsq4/FpQWM+Kypj9cQRDGNa6gP8zatbxFn5o/1DH7Idh0lD8EZ2PBFp2QPyJ2CGOrRYg/RInmYb4igj8=\",\"dtype\":\"float64\",\"order\":\"little\",\"shape\":[55]}},\"selected\":{\"id\":\"1066\"},\"selection_policy\":{\"id\":\"1065\"}},\"id\":\"1003\",\"type\":\"ColumnDataSource\"},{\"attributes\":{\"bottom_units\":\"screen\",\"coordinates\":null,\"fill_alpha\":0.5,\"fill_color\":\"lightgrey\",\"group\":null,\"left_units\":\"screen\",\"level\":\"overlay\",\"line_alpha\":1.0,\"line_color\":\"black\",\"line_dash\":[4,4],\"line_width\":2,\"right_units\":\"screen\",\"syncable\":false,\"top_units\":\"screen\"},\"id\":\"1030\",\"type\":\"BoxAnnotation\"},{\"attributes\":{},\"id\":\"1063\",\"type\":\"BasicTickFormatter\"},{\"attributes\":{\"coordinates\":null,\"data_source\":{\"id\":\"1003\"},\"glyph\":{\"id\":\"1041\"},\"group\":null,\"hover_glyph\":null,\"muted_glyph\":{\"id\":\"1043\"},\"nonselection_glyph\":{\"id\":\"1042\"},\"view\":{\"id\":\"1045\"}},\"id\":\"1044\",\"type\":\"GlyphRenderer\"},{\"attributes\":{\"coordinates\":null,\"group\":null,\"text\":\"Posterior Probability of Failure\"},\"id\":\"1006\",\"type\":\"Title\"},{\"attributes\":{\"axis_label\":\"Probability of Failure\",\"coordinates\":null,\"formatter\":{\"id\":\"1060\"},\"group\":null,\"major_label_policy\":{\"id\":\"1061\"},\"ticker\":{\"id\":\"1021\"}},\"id\":\"1020\",\"type\":\"LinearAxis\"},{\"attributes\":{\"tools\":[{\"id\":\"1024\"},{\"id\":\"1025\"},{\"id\":\"1026\"},{\"id\":\"1027\"},{\"id\":\"1028\"},{\"id\":\"1029\"},{\"id\":\"1031\"}]},\"id\":\"1032\",\"type\":\"Toolbar\"},{\"attributes\":{\"coordinates\":null,\"data_source\":{\"id\":\"1004\"},\"glyph\":{\"id\":\"1053\"},\"group\":null,\"hover_glyph\":null,\"muted_glyph\":{\"id\":\"1055\"},\"nonselection_glyph\":{\"id\":\"1054\"},\"view\":{\"id\":\"1057\"}},\"id\":\"1056\",\"type\":\"GlyphRenderer\"},{\"attributes\":{},\"id\":\"1017\",\"type\":\"BasicTicker\"},{\"attributes\":{\"source\":{\"id\":\"1003\"}},\"id\":\"1045\",\"type\":\"CDSView\"},{\"attributes\":{\"coordinates\":null,\"data_source\":{\"id\":\"1003\"},\"glyph\":{\"id\":\"1047\"},\"group\":null,\"hover_glyph\":null,\"muted_glyph\":{\"id\":\"1049\"},\"nonselection_glyph\":{\"id\":\"1048\"},\"view\":{\"id\":\"1051\"}},\"id\":\"1050\",\"type\":\"GlyphRenderer\"},{\"attributes\":{\"fill_alpha\":{\"value\":0.2},\"fill_color\":{\"value\":\"#1f77b4\"},\"hatch_alpha\":{\"value\":0.2},\"line_alpha\":{\"value\":0.2},\"line_color\":{\"value\":\"#1f77b4\"},\"size\":{\"value\":10},\"x\":{\"field\":\"x\"},\"y\":{\"field\":\"y\"}},\"id\":\"1055\",\"type\":\"Circle\"},{\"attributes\":{},\"id\":\"1067\",\"type\":\"UnionRenderers\"},{\"attributes\":{\"data\":{\"index\":[0,1,2,4,5,6,7,8,9,10,11,12,13,14,15,16,17,18,19,20,21,22,23],\"x\":[66,70,69,68,67,72,73,70,57,63,70,78,67,53,67,75,70,81,76,79,75,76,58],\"y\":[0,1,0,0,0,0,0,0,1,1,1,0,0,1,0,0,0,0,0,0,1,0,1]},\"selected\":{\"id\":\"1068\"},\"selection_policy\":{\"id\":\"1067\"}},\"id\":\"1004\",\"type\":\"ColumnDataSource\"},{\"attributes\":{},\"id\":\"1024\",\"type\":\"PanTool\"},{\"attributes\":{\"overlay\":{\"id\":\"1030\"}},\"id\":\"1026\",\"type\":\"BoxZoomTool\"},{\"attributes\":{\"line_alpha\":0.2,\"line_color\":\"orange\",\"line_width\":3,\"x\":{\"field\":\"index\"},\"y\":{\"field\":\"mid\"}},\"id\":\"1043\",\"type\":\"Line\"},{\"attributes\":{\"fill_alpha\":{\"value\":0.1},\"fill_color\":{\"value\":\"#1f77b4\"},\"hatch_alpha\":{\"value\":0.1},\"line_alpha\":{\"value\":0.1},\"line_color\":{\"value\":\"#1f77b4\"},\"size\":{\"value\":10},\"x\":{\"field\":\"x\"},\"y\":{\"field\":\"y\"}},\"id\":\"1054\",\"type\":\"Circle\"},{\"attributes\":{\"fill_alpha\":{\"value\":0.3},\"fill_color\":{\"value\":\"#1f77b4\"},\"hatch_alpha\":{\"value\":0.3},\"line_alpha\":{\"value\":0.3},\"line_color\":{\"value\":\"#1f77b4\"},\"size\":{\"value\":10},\"x\":{\"field\":\"x\"},\"y\":{\"field\":\"y\"}},\"id\":\"1053\",\"type\":\"Circle\"},{\"attributes\":{\"fill_alpha\":0.1,\"fill_color\":\"orange\",\"hatch_alpha\":{\"value\":0.1},\"hatch_color\":{\"value\":\"orange\"},\"x\":{\"field\":\"index\"},\"y1\":{\"field\":\"lo\"},\"y2\":{\"field\":\"hi\"}},\"id\":\"1048\",\"type\":\"VArea\"},{\"attributes\":{},\"id\":\"1025\",\"type\":\"WheelZoomTool\"},{\"attributes\":{},\"id\":\"1068\",\"type\":\"Selection\"},{\"attributes\":{},\"id\":\"1008\",\"type\":\"DataRange1d\"},{\"attributes\":{\"source\":{\"id\":\"1004\"}},\"id\":\"1057\",\"type\":\"CDSView\"},{\"attributes\":{},\"id\":\"1060\",\"type\":\"BasicTickFormatter\"},{\"attributes\":{},\"id\":\"1027\",\"type\":\"SaveTool\"},{\"attributes\":{},\"id\":\"1014\",\"type\":\"LinearScale\"},{\"attributes\":{\"fill_alpha\":0.5,\"fill_color\":\"orange\",\"hatch_alpha\":{\"value\":0.5},\"hatch_color\":{\"value\":\"orange\"},\"x\":{\"field\":\"index\"},\"y1\":{\"field\":\"lo\"},\"y2\":{\"field\":\"hi\"}},\"id\":\"1047\",\"type\":\"VArea\"},{\"attributes\":{\"axis_label\":\"Temp in \\u00baF\",\"coordinates\":null,\"formatter\":{\"id\":\"1063\"},\"group\":null,\"major_label_policy\":{\"id\":\"1064\"},\"ticker\":{\"id\":\"1017\"}},\"id\":\"1016\",\"type\":\"LinearAxis\"},{\"attributes\":{\"line_alpha\":0.1,\"line_color\":\"orange\",\"line_width\":3,\"x\":{\"field\":\"index\"},\"y\":{\"field\":\"mid\"}},\"id\":\"1042\",\"type\":\"Line\"},{\"attributes\":{},\"id\":\"1061\",\"type\":\"AllLabels\"},{\"attributes\":{},\"id\":\"1066\",\"type\":\"Selection\"},{\"attributes\":{},\"id\":\"1021\",\"type\":\"BasicTicker\"},{\"attributes\":{\"callback\":null,\"tooltips\":\"@index: @lo, @mid, @hi\"},\"id\":\"1031\",\"type\":\"HoverTool\"},{\"attributes\":{\"axis\":{\"id\":\"1016\"},\"coordinates\":null,\"group\":null,\"ticker\":null},\"id\":\"1019\",\"type\":\"Grid\"},{\"attributes\":{\"axis\":{\"id\":\"1020\"},\"coordinates\":null,\"dimension\":1,\"group\":null,\"ticker\":null},\"id\":\"1023\",\"type\":\"Grid\"},{\"attributes\":{\"source\":{\"id\":\"1003\"}},\"id\":\"1051\",\"type\":\"CDSView\"},{\"attributes\":{},\"id\":\"1065\",\"type\":\"UnionRenderers\"},{\"attributes\":{},\"id\":\"1028\",\"type\":\"ResetTool\"},{\"attributes\":{},\"id\":\"1012\",\"type\":\"LinearScale\"},{\"attributes\":{\"line_color\":\"orange\",\"line_width\":3,\"x\":{\"field\":\"index\"},\"y\":{\"field\":\"mid\"}},\"id\":\"1041\",\"type\":\"Line\"}],\"root_ids\":[\"1005\"]},\"title\":\"Bokeh Application\",\"version\":\"2.4.3\"}};\n",
       "  const render_items = [{\"docid\":\"19cf67f8-3b7e-4cfe-a68f-0e3796e4da03\",\"root_ids\":[\"1005\"],\"roots\":{\"1005\":\"7083f19b-65fd-4576-b3e5-c0372ff3f1e0\"}}];\n",
       "  root.Bokeh.embed.embed_items_notebook(docs_json, render_items);\n",
       "  }\n",
       "  if (root.Bokeh !== undefined) {\n",
       "    embed_document(root);\n",
       "  } else {\n",
       "    let attempts = 0;\n",
       "    const timer = setInterval(function(root) {\n",
       "      if (root.Bokeh !== undefined) {\n",
       "        clearInterval(timer);\n",
       "        embed_document(root);\n",
       "      } else {\n",
       "        attempts++;\n",
       "        if (attempts > 100) {\n",
       "          clearInterval(timer);\n",
       "          console.log(\"Bokeh: ERROR: Unable to run BokehJS code because BokehJS library is missing\");\n",
       "        }\n",
       "      }\n",
       "    }, 10, root)\n",
       "  }\n",
       "})(window);"
      ],
      "application/vnd.bokehjs_exec.v0+json": ""
     },
     "metadata": {
      "application/vnd.bokehjs_exec.v0+json": {
       "id": "1005"
      }
     },
     "output_type": "display_data"
    }
   ],
   "source": [
    "\n",
    "# Create data sources\n",
    "s0, s1 = [ColumnDataSource(source) for source in (data, df_original)]\n",
    "\n",
    "p = figure(\n",
    "    width=600, height=350, \n",
    "    title=\"Posterior Probability of Failure\",\n",
    "    x_axis_label=\"Temp in ºF\", y_axis_label=\"Probability of Failure\",\n",
    "    tooltips='@index: @lo, @mid, @hi'\n",
    ")\n",
    "\n",
    "p.line(x='index', y='mid', source=s0, color=\"orange\", line_width=3)\n",
    "p.varea(x='index', y1='lo', y2='hi', color=\"orange\", source=s0, alpha=.5, )\n",
    "p.circle(x='x', y=\"y\", source=s1, size=10, alpha=.3)\n",
    "\n",
    "show(p)"
   ]
  }
 ],
 "metadata": {
  "kernelspec": {
   "display_name": "Python 3 (ipykernel)",
   "language": "python",
   "name": "python3"
  },
  "language_info": {
   "codemirror_mode": {
    "name": "ipython",
    "version": 3
   },
   "file_extension": ".py",
   "mimetype": "text/x-python",
   "name": "python",
   "nbconvert_exporter": "python",
   "pygments_lexer": "ipython3",
   "version": "3.9.7"
  }
 },
 "nbformat": 4,
 "nbformat_minor": 5
}
