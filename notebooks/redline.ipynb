{
 "cells": [
  {
   "cell_type": "markdown",
   "metadata": {},
   "source": [
    "# The Red Line Problem"
   ]
  },
  {
   "cell_type": "markdown",
   "metadata": {
    "tags": [
     "remove-cell"
    ]
   },
   "source": [
    "Think Bayes, Second Edition\n",
    "\n",
    "Copyright 2020 Allen B. Downey\n",
    "\n",
    "License: [Attribution-NonCommercial-ShareAlike 4.0 International (CC BY-NC-SA 4.0)](https://creativecommons.org/licenses/by-nc-sa/4.0/)"
   ]
  },
  {
   "cell_type": "code",
   "execution_count": null,
   "metadata": {
    "tags": [
     "remove-cell"
    ]
   },
   "outputs": [],
   "source": [
    "# If we're running on Colab, install empiricaldist\n",
    "# https://pypi.org/project/empiricaldist/\n",
    "\n",
    "import sys\n",
    "IN_COLAB = 'google.colab' in sys.modules\n",
    "\n",
    "if IN_COLAB:\n",
    "    !pip install empiricaldist"
   ]
  },
  {
   "cell_type": "code",
   "execution_count": null,
   "metadata": {
    "tags": [
     "remove-cell"
    ]
   },
   "outputs": [],
   "source": [
    "# Get utils.py\n",
    "\n",
    "import os\n",
    "\n",
    "if not os.path.exists('utils.py'):\n",
    "    !wget https://github.com/AllenDowney/ThinkBayes2/raw/master/soln/utils.py"
   ]
  },
  {
   "cell_type": "code",
   "execution_count": null,
   "metadata": {
    "tags": [
     "remove-cell"
    ]
   },
   "outputs": [],
   "source": [
    "from utils import set_pyplot_params\n",
    "set_pyplot_params()"
   ]
  },
  {
   "cell_type": "markdown",
   "metadata": {},
   "source": [
    "The Red Line is a subway that connects Cambridge and Boston, Massachusetts. When I was working in Cambridge I took the Red Line from Kendall Square to South Station and caught the commuter rail to Needham. During rush hour Red Line trains run every 7–8 minutes, on average.\n",
    "\n",
    "When I arrived at the station, I could estimate the time until the next train based on the number of passengers on the platform. If there were only a few people, I inferred that I just missed a train and expected to wait about 7 minutes. If there were more passengers, I expected the train to arrive sooner. But if there were a large number of passengers, I suspected that trains were not running on schedule, so I would go back to the street level and get a taxi.\n",
    "\n",
    "While I was waiting for trains, I thought about how Bayesian estimation could help predict my wait time and decide when I should give up and take a taxi. This chapter presents the analysis I came up with.\n",
    "\n",
    "This example is based on a project by Brendan Ritter and Kai Austin, who took a class with me at Olin College.\n",
    "It was a chapter in the first edition of *Think Bayes*, I cut it from the second edition."
   ]
  },
  {
   "cell_type": "markdown",
   "metadata": {},
   "source": [
    "Before we get to the analysis, we have to make some modeling decisions. First, I will treat passenger arrivals as a Poisson process, which means I assume that passengers are equally likely to arrive at any time, and that they arrive at a rate, λ, measured in passengers per minute. Since I observe passengers during a short period of time, and at the same time every day, I assume that λ is constant.\n",
    "\n",
    "On the other hand, the arrival process for trains is not Poisson. Trains to Boston are supposed to leave from the end of the line (Alewife station) every 7–8 minutes during peak times, but by the time they get to Kendall Square, the time between trains varies between 3 and 12 minutes.\n",
    "\n",
    "To gather data on the time between trains, I wrote a script that downloads real-time data from the [MBTA](http://www.mbta.com/rider_tools/developers/), selects south-bound trains arriving at Kendall square, and records their arrival times in a database. I ran the script from 4 pm to 6 pm every weekday for 5 days, and recorded about 15 arrivals per day. Then I computed the time between consecutive arrivals.\n",
    "Here are the gap times I recorded, in seconds."
   ]
  },
  {
   "cell_type": "code",
   "execution_count": null,
   "metadata": {},
   "outputs": [],
   "source": [
    "observed_gap_times = [\n",
    "    428.0, 705.0, 407.0, 465.0, 433.0, 425.0, 204.0, 506.0, 143.0, 351.0, \n",
    "    450.0, 598.0, 464.0, 749.0, 341.0, 586.0, 754.0, 256.0, 378.0, 435.0, \n",
    "    176.0, 405.0, 360.0, 519.0, 648.0, 374.0, 483.0, 537.0, 578.0, 534.0, \n",
    "    577.0, 619.0, 538.0, 331.0, 186.0, 629.0, 193.0, 360.0, 660.0, 484.0, \n",
    "    512.0, 315.0, 457.0, 404.0, 740.0, 388.0, 357.0, 485.0, 567.0, 160.0, \n",
    "    428.0, 387.0, 901.0, 187.0, 622.0, 616.0, 585.0, 474.0, 442.0, 499.0, \n",
    "    437.0, 620.0, 351.0, 286.0, 373.0, 232.0, 393.0, 745.0, 636.0, 758.0,\n",
    "]"
   ]
  },
  {
   "cell_type": "markdown",
   "metadata": {},
   "source": [
    "I'll convert them to minutes and use `kde_from_sample` to estimate the distribution."
   ]
  },
  {
   "cell_type": "code",
   "execution_count": null,
   "metadata": {},
   "outputs": [],
   "source": [
    "import numpy as np\n",
    "\n",
    "zs = np.array(observed_gap_times) / 60"
   ]
  },
  {
   "cell_type": "code",
   "execution_count": null,
   "metadata": {},
   "outputs": [],
   "source": [
    "from utils import kde_from_sample\n",
    "\n",
    "qs = np.linspace(0, 20, 101)\n",
    "pmf_z = kde_from_sample(zs, qs)"
   ]
  },
  {
   "cell_type": "markdown",
   "metadata": {},
   "source": [
    "Here's what it looks like."
   ]
  },
  {
   "cell_type": "code",
   "execution_count": null,
   "metadata": {},
   "outputs": [],
   "source": [
    "from utils import decorate\n",
    "\n",
    "pmf_z.plot()\n",
    "\n",
    "decorate(xlabel='Time (min)',\n",
    "         ylabel='PDF',\n",
    "         title='Distribution of time between trains')"
   ]
  },
  {
   "cell_type": "markdown",
   "metadata": {},
   "source": [
    "## The Update\n",
    "\n",
    "At this point we have an estimate for the distribution of time between trains.\n",
    "Now let's suppose I arrive at the station and see 10 passengers on the platform.\n",
    "What distribution of wait times should I expect?\n",
    "\n",
    "We'll answer this question in two steps.\n",
    "\n",
    "* First, we'll derive the distribution of gap times as observed by a random arrival (me).\n",
    "\n",
    "* Then we'll derive the distribution of wait times, conditioned on the number of passengers.\n",
    "\n",
    "When I arrive at the station, I am more likely to arrive during a long gap than a short one.\n",
    "In fact, the probability that I arrive during any interval is proportional to its duration.\n",
    "\n",
    "If we think of `pmf_z` as the prior distribution of gap time, we can do a Bayesian update to compute the posterior.\n",
    "The likelihood of my arrival during each gap is the duration of the gap:"
   ]
  },
  {
   "cell_type": "code",
   "execution_count": null,
   "metadata": {},
   "outputs": [],
   "source": [
    "likelihood = pmf_z.qs"
   ]
  },
  {
   "cell_type": "markdown",
   "metadata": {},
   "source": [
    "So here's the first update."
   ]
  },
  {
   "cell_type": "code",
   "execution_count": null,
   "metadata": {},
   "outputs": [],
   "source": [
    "posterior_z = pmf_z * pmf_z.qs\n",
    "posterior_z.normalize()"
   ]
  },
  {
   "cell_type": "markdown",
   "metadata": {},
   "source": [
    "Here's what the posterior distribution looks like."
   ]
  },
  {
   "cell_type": "code",
   "execution_count": null,
   "metadata": {},
   "outputs": [],
   "source": [
    "pmf_z.plot(label='prior', color='C5')\n",
    "posterior_z.plot(label='posterior', color='C4')\n",
    "\n",
    "decorate(xlabel='Time (min)',\n",
    "         ylabel='PDF',\n",
    "         title='Distribution of time between trains')"
   ]
  },
  {
   "cell_type": "markdown",
   "metadata": {},
   "source": [
    "Because I am more likely to arrive during a longer gap, the distribution is shifted to the right.\n",
    "The prior mean is about 7.8 minutes; the posterior mean is about 8.9 minutes."
   ]
  },
  {
   "cell_type": "code",
   "execution_count": null,
   "metadata": {},
   "outputs": [],
   "source": [
    "pmf_z.mean(), posterior_z.mean()"
   ]
  },
  {
   "cell_type": "markdown",
   "metadata": {},
   "source": [
    "This shift is an example of the \"inspection paradox\", which [I wrote an article about](https://towardsdatascience.com/the-inspection-paradox-is-everywhere-2ef1c2e9d709).\n",
    "\n",
    "As an aside, the Red Line schedule reports that trains run every 9 minutes during peak times. This is close to the posterior mean, but higher than the prior mean. I exchanged email with a representative of the MBTA, who confirmed that the reported time between trains is deliberately conservative in order to account for variability."
   ]
  },
  {
   "cell_type": "markdown",
   "metadata": {},
   "source": [
    "## Elapsed time\n",
    "\n",
    "Elapsed time, which I call `x`, is the time between the arrival of the previous train and the arrival of a passenger. \n",
    "Wait time, which I call `y`, is the time between the arrival of a passenger and the next arrival of a train. \n",
    "I chose this notation so that \n",
    "\n",
    "```\n",
    "z = x + y.\n",
    "```\n",
    "\n",
    "Given the distribution of `z`, we can compute the distribution of `x`. I’ll start with a simple case and then generalize. Suppose the gap between trains is either 5 or 10 minutes with equal probability.\n",
    "\n",
    "If we arrive at a random time, we arrive during a 5 minute gap with probability 1/3, or a 10 minute gap with probability 2/3.\n",
    "\n",
    "If we arrive during a 5 minute gap, `x` is uniform from 0 to 5 minutes. If we arrive during a 10 minute gap, `x` is uniform from 0 to 10. \n",
    "So the distribution of wait times is a weighted mixture of two uniform distributions.\n",
    "\n",
    "More generally, if we have the posterior distribution of `z`, we can compute the distribution of `x` by making a mixture of uniform distributions.\n",
    "We'll use the following function to make the uniform distributions."
   ]
  },
  {
   "cell_type": "code",
   "execution_count": null,
   "metadata": {},
   "outputs": [],
   "source": [
    "from empiricaldist import Pmf\n",
    "\n",
    "def make_elapsed_dist(gap, qs):\n",
    "    qs = qs[qs <= gap]\n",
    "    n = len(qs)\n",
    "    return Pmf(1/n, qs)"
   ]
  },
  {
   "cell_type": "markdown",
   "metadata": {},
   "source": [
    "`make_elapsed_dist` takes a hypothetical gap and an array of possible times.\n",
    "It selects the elapsed times less than or equal to `gap` and puts them into a `Pmf` that represents a uniform distribution.\n",
    "\n",
    "I'll use this function to make a sequence of `Pmf` objects, one for each gap in `posterior_z`."
   ]
  },
  {
   "cell_type": "code",
   "execution_count": null,
   "metadata": {},
   "outputs": [],
   "source": [
    "qs = posterior_z.qs\n",
    "pmf_seq = [make_elapsed_dist(gap, qs) for gap in qs]"
   ]
  },
  {
   "cell_type": "markdown",
   "metadata": {},
   "source": [
    "Here's an example that represents a uniform distribution from 0 to 0.6 minutes."
   ]
  },
  {
   "cell_type": "code",
   "execution_count": null,
   "metadata": {},
   "outputs": [],
   "source": [
    "pmf_seq[3]"
   ]
  },
  {
   "cell_type": "markdown",
   "metadata": {},
   "source": [
    "The last element of the sequence is uniform from 0 to 20 minutes."
   ]
  },
  {
   "cell_type": "code",
   "execution_count": null,
   "metadata": {},
   "outputs": [],
   "source": [
    "pmf_seq[-1].plot()\n",
    "\n",
    "decorate(xlabel='Time (min)',\n",
    "         ylabel='PDF',\n",
    "         title='Distribution of wait time in 20 min gap')"
   ]
  },
  {
   "cell_type": "markdown",
   "metadata": {},
   "source": [
    "Now we can use `make_mixture` to make a weighted mixture of uniform distributions, where the weights are the probabilities from `posterior_z`."
   ]
  },
  {
   "cell_type": "code",
   "execution_count": null,
   "metadata": {},
   "outputs": [],
   "source": [
    "from utils import make_mixture\n",
    "\n",
    "pmf_x = make_mixture(posterior_z, pmf_seq)"
   ]
  },
  {
   "cell_type": "code",
   "execution_count": null,
   "metadata": {},
   "outputs": [],
   "source": [
    "pmf_z.plot(label='prior gap', color='C5')\n",
    "posterior_z.plot(label='posterior gap', color='C4')\n",
    "pmf_x.plot(label='elapsed time', color='C1')\n",
    "\n",
    "decorate(xlabel='Time (min)',\n",
    "         ylabel='PDF',\n",
    "         title='Distribution of gap and elapsed times')"
   ]
  },
  {
   "cell_type": "code",
   "execution_count": null,
   "metadata": {},
   "outputs": [],
   "source": [
    "posterior_z.mean(), pmf_x.mean()"
   ]
  },
  {
   "cell_type": "markdown",
   "metadata": {},
   "source": [
    "The mean elapsed time is 4.4 minutes, half the posterior mean of `z`.\n",
    "And that makes sense, since we expect to arrive in the middle of the gap, on average."
   ]
  },
  {
   "cell_type": "markdown",
   "metadata": {},
   "source": [
    "## Counting passengers\n",
    "\n",
    "Now let's take into account the number of passengers waiting on the platform.\n",
    "Let's assume that passengers are equally likely to arrive at any time, and that they arrive at a rate, `λ`, that is known to be 2 passengers per minute.\n",
    "\n",
    "Under those assumptions, the number of passengers who arrive in `x` minutes follows a Poisson distribution with parameter `λ x`\n",
    "So we can use the SciPy function `poisson` to compute the likelihood of 10 passengers for each possible value of `x`."
   ]
  },
  {
   "cell_type": "code",
   "execution_count": null,
   "metadata": {},
   "outputs": [],
   "source": [
    "from scipy.stats import poisson\n",
    "\n",
    "lam = 2\n",
    "num_passengers = 10\n",
    "likelihood = poisson(lam * pmf_x.qs).pmf(num_passengers)"
   ]
  },
  {
   "cell_type": "markdown",
   "metadata": {},
   "source": [
    "With this likelihood, we can compute the posterior distribution of `x`."
   ]
  },
  {
   "cell_type": "code",
   "execution_count": null,
   "metadata": {},
   "outputs": [],
   "source": [
    "posterior_x = pmf_x * likelihood\n",
    "posterior_x.normalize()"
   ]
  },
  {
   "cell_type": "markdown",
   "metadata": {},
   "source": [
    "Here's what it looks like:"
   ]
  },
  {
   "cell_type": "code",
   "execution_count": null,
   "metadata": {},
   "outputs": [],
   "source": [
    "pmf_x.plot(label='prior', color='C1')\n",
    "posterior_x.plot(label='posterior', color='C2')\n",
    "\n",
    "decorate(xlabel='Time (min)',\n",
    "         ylabel='PDF',\n",
    "         title='Distribution of time since last train')"
   ]
  },
  {
   "cell_type": "markdown",
   "metadata": {},
   "source": [
    "Based on the number of passengers, we think it has been about 5 minutes since the last train."
   ]
  },
  {
   "cell_type": "code",
   "execution_count": null,
   "metadata": {},
   "outputs": [],
   "source": [
    "pmf_x.mean(), posterior_x.mean()"
   ]
  },
  {
   "cell_type": "markdown",
   "metadata": {},
   "source": [
    "## Wait time\n",
    "\n",
    "Now how long do we think it will be until the next train?\n",
    "Based on what we know so far, the distribution of `z` is `posterior_z`, and the distribution of `x` is `posterior_x`.\n",
    "Remember that we defined\n",
    "\n",
    "```\n",
    "z = x + y\n",
    "```\n",
    "\n",
    "If we know `x` and `z`, we can compute\n",
    "\n",
    "```\n",
    "y = z - x\n",
    "```\n",
    "\n",
    "So we can use `sub_dist` to compute the distribution of `y`."
   ]
  },
  {
   "cell_type": "code",
   "execution_count": null,
   "metadata": {},
   "outputs": [],
   "source": [
    "posterior_y = Pmf.sub_dist(posterior_z, posterior_x)"
   ]
  },
  {
   "cell_type": "markdown",
   "metadata": {},
   "source": [
    "Well, almost.  That distribution contains some negative values, which are impossible.\n",
    "But we can remove them and renormalize, like this:"
   ]
  },
  {
   "cell_type": "code",
   "execution_count": null,
   "metadata": {},
   "outputs": [],
   "source": [
    "nonneg = (posterior_y.qs >= 0)\n",
    "posterior_y = Pmf(posterior_y[nonneg])\n",
    "posterior_y.normalize()"
   ]
  },
  {
   "cell_type": "markdown",
   "metadata": {},
   "source": [
    "Based on the information so far, here are the distributions for `x`, `y`, and `z`, shown as CDFs."
   ]
  },
  {
   "cell_type": "code",
   "execution_count": null,
   "metadata": {},
   "outputs": [],
   "source": [
    "posterior_x.make_cdf().plot(label='posterior of x', color='C2')\n",
    "posterior_y.make_cdf().plot(label='posterior of y', color='C3')\n",
    "posterior_z.make_cdf().plot(label='posterior of z', color='C4')\n",
    "\n",
    "decorate(xlabel='Time (min)',\n",
    "         ylabel='PDF',\n",
    "         title='Distribution of elapsed time, wait time, gap')"
   ]
  },
  {
   "cell_type": "markdown",
   "metadata": {},
   "source": [
    "Because of rounding errors, `posterior_y` contains quantities that are not in `posterior_x` and `posterior_z`; that's why I plotted it as a CDF, and why it appears jaggy."
   ]
  },
  {
   "cell_type": "markdown",
   "metadata": {},
   "source": [
    "## Decision analysis\n",
    "\n",
    "At this point we can use the number of passengers on the platform to predict the distribution of wait times. Now let’s get to the second part of the question: when should I stop waiting for the train and go catch a taxi?\n",
    "\n",
    "Remember that in the original scenario, I am trying to get to South Station to catch the commuter rail. Suppose I leave the office with enough time that I can wait 15 minutes and still make my connection at South Station.\n",
    "\n",
    "In that case I would like to know the probability that `y` exceeds 15 minutes as a function of `num_passengers`.\n",
    "To answer that question, we can run the analysis from the previous section with range of `num_passengers`.\n",
    "\n",
    "But there’s a problem. The analysis is sensitive to the frequency of long delays, and because long delays are rare, it is hard to estimate their frequency.\n",
    "\n",
    "I only have data from one week, and the longest delay I observed was 15 minutes. So I can’t estimate the frequency of longer delays accurately.\n",
    "\n",
    "However, I can use previous observations to make at least a coarse estimate. When I commuted by Red Line for a year, I saw three long delays caused by a signaling problem, a power outage, and “police activity” at another stop. So I estimate that there are about 3 major delays per year.\n",
    "\n",
    "But remember that my observations are biased. I am more likely to observe long delays because they affect a large number of passengers. So we should treat my observations as a sample of `posterior_z` rather than `pmf_z`.\n",
    "\n",
    "Here's how we can augment the observed distribution of gap times with some assumptions about long delays.\n",
    "From `posterior_z`, I'll draw a sample of 260 values (roughly the number of work days in a year).\n",
    "Then I'll add in delays of 30, 40, and 50 minutes (the number of long delays I observed in a year)."
   ]
  },
  {
   "cell_type": "code",
   "execution_count": null,
   "metadata": {},
   "outputs": [],
   "source": [
    "sample = posterior_z.sample(260)\n",
    "delays = [30, 40, 50]\n",
    "augmented_sample = np.append(sample, delays)"
   ]
  },
  {
   "cell_type": "markdown",
   "metadata": {},
   "source": [
    "I'll use this augmented sample to make a new estimate for the posterior distribution of `z`."
   ]
  },
  {
   "cell_type": "code",
   "execution_count": null,
   "metadata": {},
   "outputs": [],
   "source": [
    "qs = np.linspace(0, 60, 101)\n",
    "augmented_posterior_z = kde_from_sample(augmented_sample, qs)"
   ]
  },
  {
   "cell_type": "markdown",
   "metadata": {},
   "source": [
    "Here's what it looks like."
   ]
  },
  {
   "cell_type": "code",
   "execution_count": null,
   "metadata": {},
   "outputs": [],
   "source": [
    "augmented_posterior_z.plot(label='augmented posterior of z', color='C4')\n",
    "\n",
    "decorate(xlabel='Time (min)',\n",
    "         ylabel='PDF',\n",
    "         title='Distribution of time between trains')"
   ]
  },
  {
   "cell_type": "markdown",
   "metadata": {},
   "source": [
    "Now let's take the analysis from the previous sections and wrap it in a function."
   ]
  },
  {
   "cell_type": "code",
   "execution_count": null,
   "metadata": {},
   "outputs": [],
   "source": [
    "qs = augmented_posterior_z.qs\n",
    "pmf_seq = [make_elapsed_dist(gap, qs) for gap in qs]\n",
    "pmf_x = make_mixture(augmented_posterior_z, pmf_seq)\n",
    "lam = 2\n",
    "num_passengers = 10\n",
    "\n",
    "def compute_posterior_y(num_passengers):   \n",
    "    \"\"\"Distribution of wait time based on `num_passengers`.\"\"\"\n",
    "    likelihood = poisson(lam * qs).pmf(num_passengers)\n",
    "    posterior_x = pmf_x * likelihood\n",
    "    posterior_x.normalize()\n",
    "    posterior_y = Pmf.sub_dist(augmented_posterior_z, posterior_x)\n",
    "    nonneg = (posterior_y.qs >= 0)\n",
    "    posterior_y = Pmf(posterior_y[nonneg])\n",
    "    posterior_y.normalize()\n",
    "    return posterior_y"
   ]
  },
  {
   "cell_type": "markdown",
   "metadata": {},
   "source": [
    "Given the number of passengers when we arrive at the station, it computes the posterior distribution of `y`.\n",
    "As an example, here's the distribution of wait time if we see 10 passengers."
   ]
  },
  {
   "cell_type": "code",
   "execution_count": null,
   "metadata": {},
   "outputs": [],
   "source": [
    "posterior_y = compute_posterior_y(10)"
   ]
  },
  {
   "cell_type": "markdown",
   "metadata": {},
   "source": [
    "We can use it to compute the mean wait time and the probability of waiting more than 15 minutes."
   ]
  },
  {
   "cell_type": "code",
   "execution_count": null,
   "metadata": {},
   "outputs": [],
   "source": [
    "posterior_y.mean()"
   ]
  },
  {
   "cell_type": "code",
   "execution_count": null,
   "metadata": {},
   "outputs": [],
   "source": [
    "1 - posterior_y.make_cdf()(15)"
   ]
  },
  {
   "cell_type": "markdown",
   "metadata": {},
   "source": [
    "If we see 10 passengers, we expect to wait a little less than 5 minutes, and the chance of waiting more than 15 minutes is about 1%.\n",
    "\n",
    "Let's see what happens if we sweep through a range of values for `num_passengers`."
   ]
  },
  {
   "cell_type": "code",
   "execution_count": null,
   "metadata": {},
   "outputs": [],
   "source": [
    "nums = np.arange(0, 37, 3)\n",
    "posteriors = [compute_posterior_y(num) for num in nums]"
   ]
  },
  {
   "cell_type": "markdown",
   "metadata": {},
   "source": [
    "Here's the mean wait as a function of the number of passengers."
   ]
  },
  {
   "cell_type": "code",
   "execution_count": null,
   "metadata": {},
   "outputs": [],
   "source": [
    "mean_wait = [posterior_y.mean()\n",
    "             for posterior_y in posteriors]"
   ]
  },
  {
   "cell_type": "code",
   "execution_count": null,
   "metadata": {},
   "outputs": [],
   "source": [
    "import matplotlib.pyplot as plt\n",
    "\n",
    "plt.plot(nums, mean_wait)\n",
    "\n",
    "decorate(xlabel='Number of passengers',\n",
    "         ylabel='Expected time until next train',\n",
    "         title='Expected wait time based on number of passengers')"
   ]
  },
  {
   "cell_type": "markdown",
   "metadata": {},
   "source": [
    "If there are no passengers on the platform when I arrive, I infer that I just missed a train; in that case, the expected wait time is the mean of `augmented_posterior_z`.\n",
    "\n",
    "The more passengers I see, the longer I think it has been since the last train, and the more likely a train arrives soon.\n",
    "\n",
    "But only up to a point.  If there are more than 30 passengers on the platform, that suggests that there is a long delay, and the expected wait time starts to increase.\n",
    "\n",
    "Now here's the probability that wait time exceeds 15 minutes."
   ]
  },
  {
   "cell_type": "code",
   "execution_count": null,
   "metadata": {},
   "outputs": [],
   "source": [
    "prob_late = [1 - posterior_y.make_cdf()(15) \n",
    "             for posterior_y in posteriors]"
   ]
  },
  {
   "cell_type": "code",
   "execution_count": null,
   "metadata": {},
   "outputs": [],
   "source": [
    "plt.plot(nums, prob_late)\n",
    "\n",
    "decorate(xlabel='Number of passengers',\n",
    "         ylabel='Probability of being late',\n",
    "         title='Probability of being late based on number of passengers')"
   ]
  },
  {
   "cell_type": "markdown",
   "metadata": {},
   "source": [
    "When the number of passengers is less than 20, we infer that the system is operating normally, so the probability of a long delay is small. If there are 30 passengers, we suspect that something is wrong and expect longer delays.\n",
    "\n",
    "If we are willing to accept a 5% chance of missing the connection at South Station, we should stay and wait as long as there are fewer than 30 passengers, and take a taxi if there are more.\n",
    "\n",
    "Or, to take this analysis one step further, we could quantify the cost of missing the connection and the cost of taking a taxi, then choose the threshold that minimizes expected cost."
   ]
  },
  {
   "cell_type": "markdown",
   "metadata": {},
   "source": [
    "This analysis is based on the assumption that the arrival rate, `lam`, is known.\n",
    "If it is not known precisely, but is estimated from data, we could represent our uncertainty about `lam` with a distribution, compute the distribution of `y` for each value of `lam`, and make a mixture to represent the distribution of `y`.\n",
    "I did that in the version of this problem in the first edition of *Think Bayes*; I left it out here because it is not the focus of the problem.\n"
   ]
  },
  {
   "cell_type": "code",
   "execution_count": null,
   "metadata": {},
   "outputs": [],
   "source": []
  }
 ],
 "metadata": {
  "celltoolbar": "Tags",
  "kernelspec": {
   "display_name": "Python 3",
   "language": "python",
   "name": "python3"
  },
  "language_info": {
   "codemirror_mode": {
    "name": "ipython",
    "version": 3
   },
   "file_extension": ".py",
   "mimetype": "text/x-python",
   "name": "python",
   "nbconvert_exporter": "python",
   "pygments_lexer": "ipython3",
   "version": "3.8.2"
  }
 },
 "nbformat": 4,
 "nbformat_minor": 4
}
