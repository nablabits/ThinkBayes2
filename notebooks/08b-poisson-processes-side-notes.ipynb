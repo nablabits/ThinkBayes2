{
 "cells": [
  {
   "cell_type": "markdown",
   "id": "5c3370f7-438f-40f4-aa36-7ee39b9ad650",
   "metadata": {
    "pycharm": {
     "name": "#%% md\n"
    }
   },
   "source": [
    "# Chapter 08b: Poisson processes side notes"
   ]
  },
  {
   "cell_type": "code",
   "execution_count": null,
   "id": "24d2883b-1895-43e9-b3be-6dfed720079d",
   "metadata": {
    "pycharm": {
     "name": "#%%\n"
    },
    "tags": []
   },
   "outputs": [],
   "source": [
    "import pandas as pd\n",
    "import numpy as np\n",
    "from empiricaldist import Pmf\n",
    "from scipy.stats import gamma, poisson\n",
    "import seaborn as sns"
   ]
  },
  {
   "cell_type": "markdown",
   "id": "08ddb4a1-d6a1-4373-b519-bbce3d923a83",
   "metadata": {
    "pycharm": {
     "name": "#%% md\n"
    }
   },
   "source": [
    "# Intuitions and goals\n",
    "In this chapter we will deal with Poisson processes and Exponential distributions and use a couple of matches of the FIFA World Cup to make estimations\n",
    "\n",
    "# France VS Croatia\n",
    "The final target for this exercise is to get a middle ground between the 1.4 goals per match historically in the Fifa World Cup and the final score of the match (4-2) to determine how good is one team vs the other and predict a rematch."
   ]
  },
  {
   "cell_type": "markdown",
   "id": "0b2e2eac-9827-43d9-af77-91c993e19d72",
   "metadata": {
    "pycharm": {
     "name": "#%% md\n"
    }
   },
   "source": [
    "## Process\n",
    "### Initial\n",
    "* We define the goals in a match per team as a random variable: $\\boldsymbol{X}$\n",
    "* It can be modeled by a Poisson distribution that takes a parameter $\\theta$ that we don't know:\n",
    "$\\boldsymbol{X}\\sim\\mathrm{Poisson}(\\theta)$\n",
    "* This $\\theta$ can be approximated as the posterior distribution of some prior belief $G$ given some $P$ observations:\n",
    "$\\theta\\sim L(G|P)$\n",
    "* The prior belief $G$ is a gamma distribution over the interval $[0, 10]$  that averages the all time score rate: $1.4$.\n",
    "$G=\\mathrm{Gamma}(\\alpha=1.4)$\n",
    "* The observation $P$ is a Poisson distribution of France scoring 4 goals.\n",
    "* We repeat the process for Croatia scoring two goals.\n",
    "\n",
    "### Telling superiority\n",
    "* With above, we have a probability distribution of the **goal rate** (that is what $\\theta$ represents) per team so we get the cartesian product of all possible pairs and check which team has the greater one for each of the pairs. This will give us how superior France is as we are using the **goal-rate as a proxy for superiority.**\n",
    "$$\n",
    "\\text{Goal-Rate comparison}\n",
    " \\begin{bmatrix}\n",
    "  F_0-C_0 & F_0-C_1 & \\cdots & F_0-C_j \\\\\n",
    "  F_1-C_0 & F_1-C_1 & \\cdots & F_1-C_j \\\\\n",
    "  \\vdots  & \\vdots  & \\ddots & \\vdots  \\\\\n",
    "  F_i-C_0 & F_i-C_1 & \\cdots & F_i-C_j \\\\\n",
    " \\end{bmatrix}\n",
    "$$\n",
    "* With above we can measure France's superiority by counting the positive entries, Croatia's superiority by counting negative ones and ties by counting $0$s\n",
    "\n",
    "$$\n",
    "\\text{Superiority} =\n",
    "  \\begin{cases}\n",
    "    \\text{France} = \\sum_i^n\\sum_j^n 1/n       & \\quad \\text{if } F_{ij}-C_{ij} > 0 \\\\\n",
    "    \\text{Croatia} = \\sum_i^n\\sum_j^n 1/n       & \\quad \\text{if } F_{ij}-C_{ij} < 0 \\\\\n",
    "    \\text{Tie} = \\sum_i^n\\sum_j^n 1/n       & \\quad \\text{if } F_{ij}-C_{ij} = 0 \\\\\n",
    "  \\end{cases}\n",
    "$$\n",
    "\n",
    "### Predicting a rematch\n",
    "* Since $\\theta$ is a distribution instead of a scalar we want to build a matrix of values of Poisson distributions for each value in the interval $[0, 10]$ and get weighted average of the rows where the weight is determined by $\\theta$:\n",
    "$$\n",
    "    \\begin{matrix} \\mathrm{Poisson}(x_0)\\cdot\\theta_0\\\\\n",
    "    \\mathrm{Poisson}(x_1)\\cdot\\theta_1\\\\\n",
    "    \\vdots\\\\\n",
    "    \\mathrm{Poisson}(x_n)\\cdot\\theta_n\\\\\n",
    "    \\end{matrix}\n",
    "$$\n",
    "* And more generaly:\n",
    "$$\\boldsymbol{X}\\sim\\sum_{i=0}^n\\mathrm{Poisson}(x_i)\\cdot\\theta_i$$\n",
    "* Repeat the process for both teams:\n",
    "$$\\boldsymbol{X}_F\\sim\\sum_{i=0}^n\\mathrm{Poisson}(x_i)\\cdot\\theta_{F_i}$$\n",
    "$$\\boldsymbol{X}_C\\sim\\sum_{i=0}^n\\mathrm{Poisson}(x_i)\\cdot\\theta_{C_i}$$\n",
    "* With above, we have a probability distribution of goals per team so we get the cartesian product of all possible pairs that represents a possible outcomes for a match and calculate the joint probability of such an outcome to happen:\n",
    "$$\n",
    "\\text{Outcomes}\n",
    " \\begin{bmatrix}\n",
    "  F_0\\cdot C_0 & F_0\\cdot C_1 & \\cdots & F_0\\cdot C_{10} \\\\\n",
    "  F_1\\cdot C_0 & F_1\\cdot C_1 & \\cdots & F_1\\cdot C_{10} \\\\\n",
    "  \\vdots  & \\vdots  & \\ddots & \\vdots  \\\\\n",
    "  F_{10}\\cdot C_0 & F_{10}\\cdot C_1 & \\cdots & F_{10}\\cdot C_{10} \\\\\n",
    " \\end{bmatrix}\n",
    " $$\n",
    " * Finally we can sum the probabilities when France wins ($\\sum F_n\\cdot C_{m<n}$), when Croatia wins ($\\sum F_n\\cdot C_{m>n}$) and when there's a tie ($\\sum F_n\\cdot C_n$) to predict the rematch.\n",
    "\n",
    "## Sources of uncertainty\n",
    "There are two sources of uncertainty:\n",
    "* The probability of scoring $n$ goals in a match, $\\boldsymbol{X}$\n",
    "* The parameter $\\theta$ that might model above probability"
   ]
  },
  {
   "cell_type": "markdown",
   "id": "a0e4aa0b-8f48-4bb0-a762-3fb4fdfc51e6",
   "metadata": {
    "pycharm": {
     "name": "#%% md\n"
    }
   },
   "source": [
    "## Delving into Poisson Distribution\n",
    "### Poisson breakdown\n",
    "\n",
    "The Poisson distribution can be represented\n",
    "\n",
    "$$\\frac{\\lambda^k\\cdot e^{-\\lambda}}{k!}$$\n",
    "\n",
    "Let's analyze it assuming $\\lambda=2$\n",
    "**Numerator:**  The numerator is under 1 in the interval $[0, 2.885\\approx\\log_2(\\frac{1}{e^{-2}})=\\log_2(e^2)]$\n",
    "**Denominator:** it's under 1 in the interval $[0, 1]$ and always bigger than the numerator for any $x$\n",
    "\n",
    "The ratio between both quantities $\\lambda^k\\cdot e^{-\\lambda}$ and $k!$ peaks at 1.5 but then $k!$ skyrockets (even steeper than the exponential $\\lambda^k$) making that ratio be more and more small and therefore the probability more unlike.\n",
    "\n",
    "\n",
    "https://www.desmos.com/calculator/tp1wbhlttd"
   ]
  },
  {
   "cell_type": "markdown",
   "id": "675eac68-f14f-4c75-914e-941b6fe28014",
   "metadata": {
    "pycharm": {
     "name": "#%% md\n"
    }
   },
   "source": [
    "### Poisson pmf flavours\n",
    "We can create two kinds pmfs when it comes to Poisson distribution on scipy:\n",
    "* Create a poisson pmf for a range of values for lambda and a fixed number of goals. That is, get the **likelihood** of scoring $n$ goals as a function of our average goals per unit time. We will use this format when estimating the posterior value of $\\lambda$\n",
    "* Create a poisson pmf for a fixed value of lambda and a range of goals. That is, get the **probability** of scoring $m$ to $n$ goals given our average goals per unit time. We will use this to predict the rematch"
   ]
  },
  {
   "cell_type": "code",
   "execution_count": null,
   "id": "f927cdb4-c7cd-48b6-9434-4af1b7df984a",
   "metadata": {
    "jupyter": {
     "source_hidden": true
    },
    "pycharm": {
     "name": "#%%\n"
    }
   },
   "outputs": [],
   "source": [
    "goals = np.arange(10)\n",
    "lambdas = np.linspace(0, 10, 100)\n",
    "\n",
    "# Probability of scoring 5 goals for diferents goal rates.\n",
    "five_goals_per_lambda = poisson(lambdas).pmf(5),\n",
    "\n",
    "# Probability of scoring n goals when we average 2 goals per match\n",
    "goals_when_scoring_two_on_average = poisson(2).pmf(goals),"
   ]
  },
  {
   "cell_type": "markdown",
   "id": "40f07369-0b24-4a9f-8b6e-c798952c55b1",
   "metadata": {
    "pycharm": {
     "name": "#%% md\n"
    }
   },
   "source": [
    "### Poisson sensitivity\n",
    "It seems that Poisson distribution is quite sensible to the arguments passed through. For instance if our call center processes 180 calls per hour the probability of having 240 is $3.041x10^{-6}$. Whereas if we plug that number in minutes the probability is $\\approx 0.168$"
   ]
  },
  {
   "cell_type": "code",
   "execution_count": null,
   "id": "7a40f90c-9f81-4ddd-8d65-e8309cee8b25",
   "metadata": {
    "jupyter": {
     "source_hidden": true
    },
    "pycharm": {
     "name": "#%%\n"
    }
   },
   "outputs": [],
   "source": [
    "(\n",
    "    poisson(180).pmf(240),  # having 240 calls/h when we average 180\n",
    "    poisson(3).pmf(4)  # having 4 calls/minute when we average 3\n",
    ")"
   ]
  },
  {
   "cell_type": "markdown",
   "id": "8b85e642-0b29-4a6e-83f9-fc66871366e9",
   "metadata": {
    "pycharm": {
     "name": "#%% md\n"
    }
   },
   "source": [
    "## Crunch the numbers\n",
    "### Calculate $\\theta$ for France"
   ]
  },
  {
   "cell_type": "code",
   "execution_count": null,
   "id": "3a2d825b-76c9-428c-abad-6c0dccb53dcc",
   "metadata": {
    "jupyter": {
     "source_hidden": true
    },
    "pycharm": {
     "name": "#%%\n"
    }
   },
   "outputs": [],
   "source": [
    "# Generate 100 valuues evenly distributed between 0 and 10 that will represent all\n",
    "# possible values for lambda\n",
    "lambda_values = np.linspace(0, 10, 101)\n",
    "\n",
    "# Create a gamma distribution that averages the 1.4 goals per match over above possible\n",
    "# values for lambda\n",
    "prior = gamma.pdf(lambda_values, 1.4)\n",
    "\n",
    "# As the prior probability sums more than 1 we might want to normalize it.\n",
    "assert prior.sum() > 1\n",
    "prior /= prior.sum()\n",
    "assert prior.sum() == 1\n",
    "\n",
    "# Calculate the likelihood for France. As we know that France scored 4, we can compute the\n",
    "# poisson distribution for that value of lambda. This, in plain english, is the\n",
    "# probability that frace scores 4 goals for every lambda value in the lambda values.\n",
    "fr_likes = poisson(lambda_values).pmf(4)\n",
    "fr_prior = prior.copy()\n",
    "\n",
    "# Finally get the posterior for France\n",
    "theta_f = fr_prior * fr_likes / (fr_prior * fr_likes).sum()\n",
    "\n",
    "# Plot the relevant distributions\n",
    "sns.lineplot(x=lambda_values, y=prior, color='C0', label='prior');\n",
    "sns.lineplot(x=lambda_values, y=fr_likes / fr_likes.sum(), color='C1', label='likes');\n",
    "sns.lineplot(x=lambda_values, y=theta_f, color='C2', label='posterior');"
   ]
  },
  {
   "cell_type": "markdown",
   "id": "84673a52-be6d-443a-a374-791f1e5dea9a",
   "metadata": {
    "pycharm": {
     "name": "#%% md\n"
    },
    "tags": []
   },
   "source": [
    "### Calculate $\\theta$ for Croatia"
   ]
  },
  {
   "cell_type": "code",
   "execution_count": null,
   "id": "c4105c77-ff62-4153-a68f-adbc71e74e70",
   "metadata": {
    "jupyter": {
     "source_hidden": true
    },
    "pycharm": {
     "name": "#%%\n"
    },
    "tags": []
   },
   "outputs": [],
   "source": [
    "# let's do the same for Croatia\n",
    "cr_likes = poisson(lambda_values).pmf(2)\n",
    "cr_prior = prior.copy()\n",
    "\n",
    "theta_c = cr_prior * cr_likes / (cr_prior * cr_likes).sum()\n",
    "\n",
    "sns.lineplot(x=lambda_values, y=theta_c, color='C1', label='Croatia');\n",
    "sns.lineplot(x=lambda_values, y=theta_f, color='C2', label='France');"
   ]
  },
  {
   "cell_type": "markdown",
   "id": "fe74d31a-c1e7-44eb-9516-dc967c7ffdf4",
   "metadata": {
    "pycharm": {
     "name": "#%% md\n"
    },
    "tags": []
   },
   "source": [
    "### Calculate the MAP for both teams"
   ]
  },
  {
   "cell_type": "code",
   "execution_count": null,
   "id": "43600f9d-e3bd-468d-9b48-1fc7af71ac4d",
   "metadata": {
    "jupyter": {
     "source_hidden": true
    },
    "pycharm": {
     "name": "#%%\n"
    },
    "tags": []
   },
   "outputs": [],
   "source": [
    "print(\"Posterior average number of goals (MAP)\")\n",
    "print(\"France:\", theta_f.argmax() / 10)\n",
    "print(\"Croatia:\", theta_c.argmax() / 10)"
   ]
  },
  {
   "cell_type": "markdown",
   "id": "00b1613a-92b9-4775-be79-70819f8676c3",
   "metadata": {
    "pycharm": {
     "name": "#%% md\n"
    },
    "tags": []
   },
   "source": [
    "So it seems that France is better team but how much?\n",
    "\n",
    "### Evaluate cedible intervals for the distributions"
   ]
  },
  {
   "cell_type": "code",
   "execution_count": null,
   "id": "3ac6d2b1-c67b-49e2-8543-f06502ba8874",
   "metadata": {
    "jupyter": {
     "source_hidden": true
    },
    "pycharm": {
     "name": "#%%\n"
    },
    "tags": []
   },
   "outputs": [],
   "source": [
    "def find_quantile(distribution, prob):\n",
    "    \"\"\"Get the index where the cdf overcomes the prob in the distribution.\"\"\"\n",
    "    assert prob >= 0 and prob <= 1\n",
    "    quantile = distribution[distribution.cumsum() > prob][0]\n",
    "    return np.where(distribution == quantile)[0][0]\n",
    "\n",
    "fr_quantiles = [find_quantile(theta_f, p) for p in (.05, .95)]\n",
    "cr_quantiles = [find_quantile(theta_c, p) for p in (.05, .95)]\n",
    "print(\n",
    "    \"90% credible intervals. Fr:\",\n",
    "    lambda_values[fr_quantiles], '; Cr:', lambda_values[cr_quantiles]\n",
    ")"
   ]
  },
  {
   "cell_type": "markdown",
   "id": "ee88d206-55f3-4de6-ba61-0b23401918c0",
   "metadata": {
    "pycharm": {
     "name": "#%% md\n"
    },
    "tags": []
   },
   "source": [
    "It turns out that the 90% of the probabilty of France is between 1.1 and 4.8 goals on average whereas for Croatia is .5 and 3.4. But this does not tell us much more so we are better off getting all possible combinations of lambda values and get the probability of each one happening.\n",
    "\n",
    "### $\\theta$ as a proxy for superiority\n",
    "Since $\\theta$ represents the distribution for $\\lambda$ values we can use them as a proxy for superiority."
   ]
  },
  {
   "cell_type": "code",
   "execution_count": null,
   "id": "bc6b51c6-ef27-4ddd-86ce-52673ad5db5f",
   "metadata": {
    "pycharm": {
     "name": "#%%\n"
    },
    "tags": []
   },
   "outputs": [],
   "source": [
    "# Create every possible pair of lambda values to measure in which France is superior.\n",
    "xv, yv = np.meshgrid(lambda_values, lambda_values, sparse=True)\n",
    "match_final_score = xv - yv\n",
    "\n",
    "# And calculate their joint probability\n",
    "xv, yv = np.meshgrid(theta_f, theta_c, sparse=True)\n",
    "p_score = xv * yv\n",
    "\n",
    "# let's assume that positive values are France wins\n",
    "fr_wins = p_score[match_final_score > 0].sum()\n",
    "cr_wins = p_score[match_final_score < 0].sum()\n",
    "draw = p_score[match_final_score == 0].sum()\n",
    "print(f'France has a superior lambda in the  {fr_wins:.1%} of the total elements')\n",
    "print(f'Croatia has a superior lambda in the  {cr_wins:.1%} of the total elements')\n",
    "print(f'There\\'s a draw in {draw:.1%} of the total elements')"
   ]
  },
  {
   "cell_type": "markdown",
   "id": "d4f90fff-d559-4001-8654-164ab46793a8",
   "metadata": {
    "pycharm": {
     "name": "#%% md\n"
    },
    "tags": []
   },
   "source": [
    "### Predicting the rematch\n",
    "We don't know the $\\lambda$ for each team that will tell us the probability of each goal per team. Rather, we have a posterior distribution for that value. We can approach this problem by:\n",
    "* Creating a bunch of poisson distributions with values for $\\lambda$ ranging from 0 to 10 evenly distributed in 100 bins and for goals ranging from 0 to 10 as well. This will effectively create a matrix of 101 rows, one for each value of $\\lambda$, and 10 columns, one for each goal\n",
    "* Give weights to each of the rows using the posterior\n",
    "* Get the sum per goal over the weighted rows"
   ]
  },
  {
   "cell_type": "code",
   "execution_count": null,
   "id": "c1182ad7-9f80-4865-962c-356f9e9ec913",
   "metadata": {
    "pycharm": {
     "name": "#%%\n"
    },
    "tags": []
   },
   "outputs": [],
   "source": [
    "goals = np.arange(10)\n",
    "outcomes = np.array([poisson(v).pmf(goals) for v in lambda_values])\n",
    "assert outcomes.shape == (101, 10)  # a 101x10 matrix\n",
    "\n",
    "# When creating the outcomes we implicitly assume that every value of lambda is equally\n",
    "# probable but that's not true as France is more likely to have a value of 2.2 and Croatia\n",
    "# 1.2 so we need a weighted array.\n",
    "france_weighted = theta_f * outcomes.T\n",
    "croatia_weighted = theta_c * outcomes.T\n",
    "\n",
    "# Now that we have weighted lambdas, we can sum over lambda values to get a mixture of\n",
    "# probabilities to score certain amount of goals.\n",
    "france_score_probability = france_weighted.sum(axis=1)\n",
    "croatia_score_probability = croatia_weighted.sum(axis=1)\n",
    "\n",
    "sns.barplot(x=goals, y=france_score_probability, color='C2', label='France', alpha=.5);\n",
    "sns.barplot(x=goals, y=croatia_score_probability, color='C1', label='Croatia', alpha=.5);\n",
    "\n",
    "# Now we can do pretty much the same we did for the lambdas, get every possible match\n",
    "# outcome and calculate the joint probability of that outcome\n",
    "xv, yv = np.meshgrid(france_score_probability, croatia_score_probability)\n",
    "joint_probability = xv * yv\n",
    "assert joint_probability.shape == (10, 10)  # 10x10 matrix\n",
    "\n",
    "xv, yv = np.meshgrid(goals, goals)\n",
    "match_outcome = xv - yv\n",
    "\n",
    "fr_wins = joint_probability[match_outcome > 0]\n",
    "cr_wis = joint_probability[match_outcome < 0]\n",
    "ties = joint_probability[match_outcome == 0]\n",
    "fr_wins.sum(), cr_wins.sum(), ties.sum()"
   ]
  },
  {
   "cell_type": "markdown",
   "id": "bb29e851-04af-4409-bfb4-141716647fe1",
   "metadata": {
    "pycharm": {
     "name": "#%% md\n"
    },
    "tags": []
   },
   "source": [
    "# Germany VS Brazil\n",
    ">In the 2014 FIFA World Cup, Germany played Brazil in a semifinal match. Germany scored after 11 minutes and again at the 23 minute mark. At that point in the match, how many goals would you expect Germany to score after 90 minutes? What was the probability that they would score 5 more goals (as, in fact, they did)?\n",
    "\n",
    "The final target for this exercise is to get a middle ground between the 1.4 goals per match (kind of a goal every .71 matches) and Germany scoring every 11.5' (a goal every .12 matches) for the two first goals.\n",
    "\n",
    "## Process\n",
    "### Initial\n",
    "* We define the time between goals as a random variable $\\boldsymbol{X}$\n",
    "* It can be modeled by an exponential distribution that takes a parameter $\\theta$ that we don't know:\n",
    "$\\boldsymbol{X}\\sim\\mathrm{Exp}(\\theta)$\n",
    "* This $\\theta$ can be approximated as the posterior distribution of some prior belief:\n",
    "$\\theta\\sim L(G|E)$\n",
    "* The prior belief is a gamma distribution over the interval $[0, 10]$  that averages the all time score rate: $1.4$.\n",
    "$G=\\mathrm{Gamma}(\\alpha=1.4)$\n",
    "* The observations are exponential distributions of Germany scoring after 11' and then after 12'. $E=\\mathrm{Exp}(11/90)\\cdot\\mathrm{Exp}(12/90)$\n",
    "* At this point we have a matrix of values as we have an exponential distribution for each value in the interval $[0, 10]$ so we will get the weighted average of the rows where the weight is determined by $\\theta$:\n",
    "$$\n",
    "    \\begin{matrix}\\mathrm{Exp}(x_0)\\cdot\\theta_0\\\\\n",
    "    \\mathrm{Exp}(x_1)\\cdot\\theta_1\\\\\n",
    "    \\vdots\\\\\n",
    "    \\mathrm{Exp}(x_n)\\cdot\\theta_n\\\\\n",
    "    \\end{matrix}\n",
    "$$\n",
    "* And more generaly:\n",
    "$$\\boldsymbol{X}\\sim\\sum_{i=0}^{n}\\mathrm{Exp}(x_i)\\cdot\\theta_i$$\n",
    "\n",
    "## Sources of uncertainty:\n",
    "There are two sources of uncertainty:\n",
    "* The probability of scoring in the next $t$ minutes, $\\boldsymbol{X}$\n",
    "* The parameter $\\theta$ that might model above probability"
   ]
  },
  {
   "cell_type": "markdown",
   "id": "5e0f37b9-c52c-4194-8734-994bf810a84d",
   "metadata": {
    "pycharm": {
     "name": "#%% md\n"
    },
    "tags": []
   },
   "source": [
    "## Delving into Exponential distribution\n",
    "We will use the exponential distribution as a proxy of the probability of scoring in the following $t$ minutes given that we average one goal every $\\lambda$ minutes. As [wikipedia](https://en.wikipedia.org/wiki/Exponential_distribution) says:\n",
    "\n",
    "> In probability theory and statistics, the exponential distribution is the probability distribution of the time between events in a Poisson point process, i.e., a process in which events occur continuously and independently at a constant average rate.\n",
    "\n",
    "### Wait, $\\lambda$ again?\n",
    "Yes, but be careful as: **In the exponential distribution you plug rate $\\lambda$ to get time between events** whereas in the Poisson distribution you plug rate $\\lambda$ to get number of goals.\n",
    "\n",
    "$$\n",
    "\\text{If }\\boldsymbol{X}\\sim \\mathrm{Exp}(\\lambda)\\hspace{3em}\n",
    "\\text{Then }E[\\boldsymbol{X}]=\\frac{1}{\\lambda}\n",
    "$$\n",
    "\n",
    "That in plain english is: if the time between events $\\boldsymbol{X}$ can be modeled by an exponential distribution $\\mathrm{Exp}$ that depends on the event rate $\\lambda$, then the expected value $E[\\boldsymbol{X}]$ for that distribution is the inverse of that event rate $\\frac{1}{\\lambda}$ (which effectively is a time)\n",
    "\n",
    "$$\n",
    "\\text{Rate }: \\frac{\\text{events}}{\\text{time}}\\hspace{3em}\n",
    "\\text{Time }: \\frac{\\text{time}}{\\text{event}}\n",
    "$$\n",
    "[More information](https://towardsdatascience.com/what-is-exponential-distribution-7bdd08590e2a)"
   ]
  },
  {
   "cell_type": "markdown",
   "id": "0b252eb6-aa42-442e-a22f-6af36ca9e9b5",
   "metadata": {
    "pycharm": {
     "name": "#%% md\n"
    },
    "tags": []
   },
   "source": [
    "### Exponential Distributions pmf flavours\n",
    "As happened with the poisson distribution, we can build exponential distributions in two ways:\n",
    "* Given a fixed goal-rate $\\lambda$, calculate the **probability** of scoring after $t$ time units, where that time could be scalar or a vector.\n",
    "* Given a range goal-rates $\\lambda$, estimate the **likelihood** of scoring after $t$ time units.\n",
    "\n",
    "### Additional discoveries\n",
    "The expected value for the prior is highly dependent on the range of values you select and slightly modified by the length of the range. Therefore, `np.linspace(0, 10, 101)` returns the `1.41` on average whereas `np.linspace(0, 4, 600)` returns `1.25`\n",
    "\n",
    "https://docs.scipy.org/doc/scipy/reference/generated/scipy.stats.gamma.html#scipy-stats-gamma\n",
    "From `scipy.stats.gamma`, it turns out that gamma distributions are sometimes defined with two parameters $\\alpha$ and $\\beta$, to simulate $\\beta$ in the constructor one adds `scale=1/beta`"
   ]
  },
  {
   "cell_type": "markdown",
   "id": "868beb73-f22d-43b1-a8ab-4e0b6b9aaa7a",
   "metadata": {
    "pycharm": {
     "name": "#%% md\n"
    },
    "tags": []
   },
   "source": [
    "## Crunch the numbers"
   ]
  },
  {
   "cell_type": "code",
   "execution_count": null,
   "id": "9c9077cb-db2d-4a5f-824a-7d0ff9754f5e",
   "metadata": {
    "pycharm": {
     "name": "#%%\n"
    },
    "tags": []
   },
   "outputs": [],
   "source": [
    "def exp_dist(t, lam):\n",
    "    \"\"\"\n",
    "    Compute the exponential distribution for a given event-rate lambda.\n",
    "\n",
    "    Usually t is a vector of values, but it can be computed for a single value.\n",
    "    \"\"\"\n",
    "    return lam * np.exp(-(lam * t))\n",
    "\n",
    "# Define lambda values\n",
    "lambda_values = np.linspace(0, 10, 101)  # where integers represent matches\n",
    "\n",
    "# Create a prior for the goal rate\n",
    "prior = pd.Series(gamma(1.4).pdf(lambda_values), index=lambda_values)\n",
    "prior /= prior.sum()\n",
    "prior_mean = np.sum(prior.index * prior)\n",
    "print(f\"The mean of the prior is {prior_mean}\")\n",
    "\n",
    "# Get the likelihood,\n",
    "# Scoring in the 11th min of the 1st match.\n",
    "# If we scored in the 2nd match that would be (11+90 / 90)\n",
    "minute = 11 / 90\n",
    "germany_likes = exp_dist(minute, lambda_values)\n",
    "\n",
    "# Let's get the posterior\n",
    "theta_11 = prior.copy()\n",
    "theta_11 *= germany_likes\n",
    "theta_11 /= theta_11.sum()\n",
    "\n",
    "# update the posterior with the evidence of Germany scoring after 12 mins (in the\n",
    "# 23rd minute of the 1st match)\n",
    "minute = 12 / 90\n",
    "theta = theta_11 * germany_likes\n",
    "theta /= theta.sum()\n",
    "\n",
    "# Plot posteriors\n",
    "sns.lineplot(x=lambda_values, y=prior, label='prior');\n",
    "sns.lineplot(x=lambda_values, y=theta_11, label='posterior_11');\n",
    "sns.lineplot(x=lambda_values, y=theta, label='posterior_12');"
   ]
  },
  {
   "cell_type": "markdown",
   "id": "49988d2c-b92d-4c51-99bb-9799cfb77e52",
   "metadata": {
    "pycharm": {
     "name": "#%% md\n"
    }
   },
   "source": [
    "### Predicting the goals Germany scores\n",
    "We have a distribution of values $\\theta$ for the goal-rate $\\lambda$ regarding the observation that Germany scored after 11' and then after 12'.\n",
    "So pretty much like we did for France exercise, we can use that $\\theta$ to build a Poisson distribution that will tell us the expected goals and the probabilities of scoring $n$ or more than $n$ goals.\n",
    "In this case there's a caveat, though, since lambda refers to events per time unit, namely, goals per match, but we don't have a full match but rather a fraction of it so we have to reduce the lambda value by the fraction.\n"
   ]
  },
  {
   "cell_type": "code",
   "execution_count": null,
   "id": "b9e50ae9-ac91-4e32-9fe1-413f666b993b",
   "metadata": {
    "pycharm": {
     "name": "#%%\n"
    }
   },
   "outputs": [],
   "source": [
    "# we will use a shrunk version of lambda_values for the matrix of Poissons as we don't\n",
    "# have a full match\n",
    "lambda_values = np.linspace(0, 10, 101) * 67/90\n",
    "goals = np.arange(10)  # redefine for the sake of explicitly\n",
    "poisson_matrix = pd.DataFrame(\n",
    "    [poisson(lam).pmf(goals) for lam in lambda_values], index=lambda_values\n",
    ")\n",
    "\n",
    "# Weight every row by theta factor and sum to get the final poisson-like distribution\n",
    "goals_distribution = (poisson_matrix.T * theta.values).sum(axis=1)\n",
    "sns.barplot(x=goals_distribution.index, y=goals_distribution.values, color=\"C1\");\n",
    "\n",
    "# Print some stats\n",
    "expected = np.sum(goals_distribution.index * goals_distribution.values).round(2)\n",
    "five = goals_distribution[5].round(4)\n",
    "ge_5 = goals_distribution[goals_distribution.index > 4].sum().round(4)\n",
    "print(f\"The expected goals for the next 67' are: {expected}\")\n",
    "print(f\"The probability of Germany scoring 5 goals is: {five}\")\n",
    "print(f\"The probability of Germany scoring more than 5 goals is: {ge_5}\")"
   ]
  },
  {
   "cell_type": "markdown",
   "id": "b575439d-ad9f-4cfa-847c-e2c11e58cd34",
   "metadata": {
    "pycharm": {
     "name": "#%% md\n"
    }
   },
   "source": [
    "### Predicting the goals Germany scores (alternative --flawed-- approach)\n",
    "We could address this problem in this way:\n",
    "* If we know the expected time between goals we can compute how many goals we can score in the remaining time, 67'\n",
    "* We can know the expected time between goals by building an exponential-like distribution in a similar way as we built the Poisson-like distribution in the other approach\n",
    "\n",
    "However this carries a couple of downsides, namely:\n",
    "* The outcome is highly sensitive to the range of waiting times and the range of lambdas. That is something that we appreciate in the other approach, so it might be worth checking which one shows more sensitivity --understand less stable-- to those ranges. This feature makes the process of selecting the ranges a very crucial part.\n",
    "* The fact that exponential distributions carry most of their probability in the beginning makes getting the 5 or more goals way more probable than in the previous approach which is confusing.\n",
    "\n",
    "In the next section there's an investigation about this flawed approach and how the numbers mismatch"
   ]
  },
  {
   "cell_type": "code",
   "execution_count": null,
   "id": "3ca2f54c-1f44-42fa-b877-38f8245cd1a5",
   "metadata": {
    "pycharm": {
     "name": "#%%\n"
    },
    "tags": []
   },
   "outputs": [],
   "source": [
    "# Build a 101x101 matrix where columns represent waiting time for next goal, whereas rows\n",
    "# represent the lambda parameter.\n",
    "waiting_time = np.linspace(0, 1.51, 101)  # where integers mean whole matches, 90'\n",
    "lambda_values = np.linspace(1, 10, 101)* 67/90\n",
    "all_exp = pd.DataFrame(\n",
    "    [exp_dist(waiting_time, lam) for lam in lambda_values], index=lambda_values\n",
    ")\n",
    "\n",
    "# Weight each of the distributions by theta factor: sum all the waiting times'\n",
    "# probabilities and reduce them by theta.\n",
    "X = (all_exp.T * theta.values).sum(axis=1)\n",
    "X /= X.sum()  # Normalize\n",
    "\n",
    "# Remember that X is an exponential-like distribution whose parameter is in turn another\n",
    "# distribution, theta, so the index are the waiting times whereas the values are their\n",
    "# probabilities.\n",
    "X.index = waiting_time\n",
    "sns.lineplot(x=waiting_time, y=X);\n",
    "\n",
    "# To know how many goals we should expect in the next 67' we need the expected value of X\n",
    "expected_t = np.sum(X.index * X.values)  # time in matches, ~.56\n",
    "expected_goals = 67 / (90 * expected_t)\n",
    "# Germany finally scored 5 more goals which is a goal every 13.4' let's compute the\n",
    "# probability of less than that amount\n",
    "ge_5 = X[X.index <= 13.4/90].sum()\n",
    "five = X[\n",
    "    X.index[np.abs(X.index - 13.4/90).argmin()]  # The closest index to 13.4/90\n",
    "]\n",
    "print(f\"We expect a goal every {round(expected_t*90)} minutes.\")\n",
    "print(f\"The expected goals for the next 67' are: {expected_goals}\")\n",
    "print(f\"The probability of Germany scoring 5 goals is: {five}\")\n",
    "print(f\"The probability of Germany scoring more than 5 goals is: {ge_5}\")"
   ]
  },
  {
   "attachments": {
    "7a58684e-b7c4-48ae-800e-e8648f481f1a.png": {
     "image/png": "[encoded data removed]"
    }
   },
   "cell_type": "markdown",
   "id": "11946b8f-c9fc-4f8b-8bd4-67ca9604b582",
   "metadata": {
    "pycharm": {
     "name": "#%% md\n"
    }
   },
   "source": [
    "# Poisson vs Exponential (apparently mismatch)\n",
    "\n",
    "[Probably worth picking up at a later point]\n",
    "\n",
    "I like to think that Poisson and Exponential distributions are both sides of the same coin as in one you have events per time and the other tells you time between events.\n",
    "\n",
    "Following https://stats.stackexchange.com/questions/2092/relationship-between-poisson-and-exponential-distribution I see that $P(\\boldsymbol{X}\\le x)= 1- e^{-\\lambda x}$ that means that the probability of your waiting time being less than a given amount of time $x$ follows the cdf of an exponential distribution. Which is equivalent to say that the probability of the number of events being constant decays exponentially $P(N_{t+x}-N_t=0)=e^{-\\lambda x}$\n",
    "\n",
    "However this is my reasoning:\n",
    "If we have a $\\mathrm{Poisson}(\\lambda=3)$ this tells us the probability of getting $n$ events when we average 3 events per unit time (say days, from now on). On the other hand $\\mathrm{Exponential}(\\lambda=3)$ will tell us the probability of waiting more than $x$ days when you average the same three events per day.\n",
    "\n",
    "Above works well when your waiting time is more than 1, that is, you have to wait for more than one day to see an event and therefore your events per day are 0 as:\n",
    "$$\n",
    "\\frac{3^0\\cdot e^{-3}}{0!}=1 - (1-e^{-3\\cdot1})\n",
    "$$\n",
    "\n",
    "One might argue, though, that if your waiting time is, say, 1.5 you have no events the first day and one the second and here is where the problems come in because that probability does not live in the 0 bar of the Poisson distribution but in the 1 which makes above being false.\n",
    "\n",
    "Having 3 events per day, means that your waiting time between events is 1/3. More generally, if your waiting time is:\n",
    "* 1/3 days, then you have the first day 3 events, and the second another 3 events\n",
    "* 1/4 days, then you have the first day 4 events, and the second another 4 events\n",
    "* 11/60 days (in the middle of 1/5 and 1/6), then you have events following this pattern:\n",
    "![image.png](attachment:7a58684e-b7c4-48ae-800e-e8648f481f1a.png)\n",
    "* 2/3 days, then you have the first day one event and two events the second.\n",
    "* 2 days, then the first day you have 0 events and one the second.\n",
    "* 5 days, then you have four days of 0 events and one event on the fifth\n",
    "\n",
    "So far so good.\n",
    "\n",
    "The probability of getting more than 3 events/d according a Poisson distribution is:\n",
    "$$\n",
    "\\sum_{n=4}^{\\infty}\\frac{3^n\\cdot e^{-3}}{n!}\n",
    "$$\n",
    "Which seems to be bounded at $\\approx .3527$\n",
    "Likewise, the probability of getting two or three events is\n",
    "$$\n",
    "\\frac{3^2\\cdot e^{-3}}{2!}+\\frac{3^3\\cdot e^{-3}}{3!}\\approx .4481\n",
    "$$\n",
    "Finally, the probability of getting zero or one event is:\n",
    "$$\n",
    "\\frac{3^0\\cdot e^{-3}}{0!}+\\frac{3^1\\cdot e^{-3}}{1!}\\approx .1991\n",
    "$$\n",
    "As expected all above adds up to, almost, 1\n",
    "\n",
    "![img](./assets/poisson-vs-exponential-nb.svg)\n",
    "\n",
    "Given the relationship between events and waiting times, and assuming that we could normalize the exponential distribution and that the width of the bars in the poisson distribution is 1 , I would expect:\n",
    "* the area in the interval $(0, \\frac{1}{3})$ in the exponential distribution would be roughly equal to the area in the interval $[4, \\infty]$ in the Poisson distribution.\n",
    "* the area in the interval $[\\frac{1}{3}, 1)$ in the exponential distribution would be roughly equal to the area in the interval $[2, 3]$ in the Poisson distribution\n",
    "* the area in the interval $[1, \\infty)$ in the exponential distribution would be roughly equal to the area in the interval $[0, 1]$ in the Poisson distribution\n",
    "\n",
    "As far as I understand, one can calculate those areas by means of the CDF of the exponential distribution, but there's an stark mismatch between this outcome and the one you get from the poisson distribution, as:\n",
    "* $1-e^{-3\\cdot1/3}\\approx.6321$ (vs $.3527$)\n",
    "* $(1-e^{-3\\cdot1}) - (1-e^{-3\\cdot1/3})\\approx.3181$ (vs $.4481$)\n",
    "* $1 - (1-e^{-3\\cdot1})\\approx.0498$ (vs $.1991$)"
   ]
  },
  {
   "cell_type": "code",
   "execution_count": null,
   "id": "59b2b3d1-1cc6-4564-aed6-373178d5e116",
   "metadata": {
    "pycharm": {
     "name": "#%%\n"
    }
   },
   "outputs": [],
   "source": [
    "# One can do better than above with this but, it's a coincidence\n",
    "pd.DataFrame({\n",
    "    \"range\": [\n",
    "        \"(0, 1/3]\", \"(1/3, 1]\", \"(1, inf)\"\n",
    "    ],\n",
    "    \"poisson\": [\n",
    "        poisson(3).pmf(np.arange(3, 30)).sum(),\n",
    "        poisson(3).pmf([1, 2]).sum(),\n",
    "        poisson(3).pmf(0),\n",
    "    ],\n",
    "    \"exponential\": [\n",
    "        1 - np.exp(-3 * 1/3),\n",
    "        (1 - np.exp(-3 * 1)) - (1 - np.exp(-3 * 1/3)),\n",
    "        np.exp(-3 * 1),\n",
    "    ]\n",
    "})\n"
   ]
  },
  {
   "cell_type": "markdown",
   "id": "87e409ac-efa2-45cb-8b47-663d1b69e70f",
   "metadata": {
    "pycharm": {
     "name": "#%% md\n"
    }
   },
   "source": [
    "## Flaw in the reasoning: memoryless\n",
    "This seems the flaw of above reasoning: I'm assuming that if you have 1/2 days of waiting time, that matches 1:1 with 2 events per day, which is not true.\n",
    "\n",
    "If you have 2 events per day there are a bunch of scenarios that produce that result, for instance, 1/3+2/3, 1/4+3/4, and so on. This is possible because of the memoryless property of the exponential distribution that says that at any point in your waiting time, no matter how long have you been waiting for, your probability of waiting any $x$ minutes more follows the same exponential model.\n",
    "\n",
    "That's why 0 matches: because having no events in a day is exactly equal to wait for more than one day for the event, there's a 1:1 relationship.\n",
    "\n",
    "Finally, if you have one event per day, that can be produced by the following waiting times: 1/3 + 3/3, 1/2 + 2/3, and, so on. Which is clear is that the first waiting time must be less than one.\n",
    "\n",
    "Maybe one of the sources of confusion was that I was naming *time between events* when it's really the time between one event and the next, or because of the memoryless property the time between when you arrive and the next event happening."
   ]
  },
  {
   "cell_type": "markdown",
   "id": "f46922bb-c1cf-45e4-a409-733407588eed",
   "metadata": {
    "pycharm": {
     "name": "#%% md\n"
    }
   },
   "source": [
    "# What if: prediction\n",
    "What if we measure the prediction capacity?\n",
    "\n",
    "**Process:**\n",
    "* We start, say, at 1/3 of all the matches that have been played using their goal average to build the prior, then\n",
    "* We take the last score for, say, France to calculate posterior\n",
    "* We predict the next score for France ¿using the MAP?\n",
    "* We measure the error from our prediction\n",
    "\n",
    "**A few things to consider:**\n",
    "* Probably the time lapse between matches matter, it's not the same predicting from match to match than from championship to championship\n",
    "* The team France plays against plays a role in France's capacity to score, so probably we are better off picking only the matches against a fixed team."
   ]
  },
  {
   "cell_type": "markdown",
   "id": "f8fa9ecf-ea10-4359-8a32-9504d50a87ab",
   "metadata": {
    "pycharm": {
     "name": "#%% md\n"
    },
    "tags": []
   },
   "source": [
    "# What if: historic Bayesian update\n",
    "What if we start with a flat prior and update our belief using the matches France played?\n",
    "\n",
    "**Naively assume that the goals scored are independent of the rival team**\n",
    "the amount of goals scored will depend not only it the french capacity to score but also in the rival's capacity to be scored, so maybe we should later create a poisson distribution that reflects this fact and somehow use that information. But for the moment let's start low and rough."
   ]
  },
  {
   "cell_type": "code",
   "execution_count": null,
   "id": "799eec6e-221d-4cb3-b9cc-66f63ec79159",
   "metadata": {
    "jupyter": {
     "source_hidden": true
    },
    "pycharm": {
     "name": "#%%\n"
    }
   },
   "outputs": [],
   "source": [
    "df = pd.read_csv('../data/fifa_historic_scores.csv')\n",
    "df.sample()"
   ]
  },
  {
   "cell_type": "markdown",
   "id": "3130f7a8-8b97-499d-a7ee-bf7782789487",
   "metadata": {
    "pycharm": {
     "name": "#%% md\n"
    }
   },
   "source": [
    "## Syntetic vs real\n",
    "Let's start taking a look at how a poisson process with $\\lambda=1.81$ (France averaging score) differs from the actual distribution of goals among matches. We can see that the poisson process fits well to some extent and definitely they follow the same pattern: both peak at 1 and then exponentially decrease."
   ]
  },
  {
   "cell_type": "code",
   "execution_count": null,
   "id": "6bdfe2f6-1de1-4a71-b19d-8e047802908a",
   "metadata": {
    "jupyter": {
     "source_hidden": true
    },
    "pycharm": {
     "name": "#%%\n"
    },
    "tags": []
   },
   "outputs": [],
   "source": [
    "# FIFA World Cup\n",
    "fwc = df[df.tournament == 'FIFA World Cup']\n",
    "\n",
    "# france matches (66 in the fwc)\n",
    "away = (fwc.away_team == 'France')\n",
    "home = (fwc.home_team == 'France')\n",
    "fr = fwc[ home | away ].copy()\n",
    "fr['score'] = 0\n",
    "\n",
    "# Get france's goals regardless home/away\n",
    "fr.loc[fwc[away].index, 'score'] = fwc[away].away_score\n",
    "fr.loc[fwc[home].index, 'score'] = fwc[home].home_score\n",
    "fr['score'] = fr.score.astype(int)\n",
    "\n",
    "# Compare the distribution of goals with a syntetic poisson\n",
    "goals = np.arange(\n",
    "    fr.score.min(),  # 0\n",
    "    fr.score.max() + 1  # 7\n",
    ")\n",
    "lam = fr.score.mean()\n",
    "\n",
    "syntetic = poisson(lam).pmf(goals)\n",
    "real = Pmf.from_seq(fr.score)\n",
    "\n",
    "sns.lineplot(x=goals, y=syntetic, label='syntetic', color='C0', alpha=.7);\n",
    "sns.lineplot(x=goals, y=real, label='real', color='C3', alpha=.7);"
   ]
  },
  {
   "cell_type": "markdown",
   "id": "a3061be3-081d-43ea-a876-c6f3fdc060f9",
   "metadata": {
    "pycharm": {
     "name": "#%% md\n"
    }
   },
   "source": [
    "And the cdf:"
   ]
  },
  {
   "cell_type": "code",
   "execution_count": null,
   "id": "240410b4-f283-4206-9fd6-344d7adc0dca",
   "metadata": {
    "jupyter": {
     "source_hidden": true
    },
    "pycharm": {
     "name": "#%%\n"
    }
   },
   "outputs": [],
   "source": [
    "sns.lineplot(x=goals, y=syntetic.cumsum(), label='syntetic', color='C0', alpha=.7);\n",
    "sns.lineplot(x=goals, y=real.cumsum(), label='real', color='C3', alpha=.7);"
   ]
  },
  {
   "cell_type": "markdown",
   "id": "fcb1d895-34da-4f6c-a936-7d7db0221d44",
   "metadata": {
    "pycharm": {
     "name": "#%% md\n"
    }
   },
   "source": [
    "## Bayesian update for all France's matches"
   ]
  },
  {
   "cell_type": "code",
   "execution_count": null,
   "id": "7a1db768-a60b-4f8d-968a-3b3ac1b8510b",
   "metadata": {
    "jupyter": {
     "source_hidden": true
    },
    "pycharm": {
     "name": "#%%\n"
    }
   },
   "outputs": [],
   "source": [
    "posteriors_tape = list()  # record the posteriors\n",
    "goals = np.linspace(0, 7, 100)\n",
    "posteriors_tape.append(np.full(100, 1/100))\n",
    "\n",
    "for score in fr.score:\n",
    "    likes = poisson(goals).pmf(score)\n",
    "    prior = posteriors_tape[-1]\n",
    "    posterior = prior * likes / (prior * likes).sum()\n",
    "    posteriors_tape.append(posterior)\n",
    "\n",
    "sns.lineplot(x=goals, y=posteriors_tape[1], label='first');\n",
    "sns.lineplot(x=goals, y=posteriors_tape[2], label='second');\n",
    "sns.lineplot(x=goals, y=posteriors_tape[3], label='third');\n",
    "sns.lineplot(x=goals, y=posteriors_tape[-2], label='pre-last');\n",
    "sns.lineplot(x=goals, y=posteriors_tape[-1], label='last');"
   ]
  },
  {
   "cell_type": "markdown",
   "id": "58ca8575-0f39-487a-acff-5084b28494f6",
   "metadata": {
    "pycharm": {
     "name": "#%% md\n"
    }
   },
   "source": [
    "## Conclusion\n",
    "It seems that this **whatif** does not make much sense as we loose some capacity of getting a probability for any result different than 2 goals. For instance, even though France scored 4 goals in the last match against Croatia (40085) that didn't affected very much the shape of the distribution as historically France had a lot of evidence supporting that it will score 1.81 goals on average\n"
   ]
  },
  {
   "cell_type": "code",
   "execution_count": null,
   "id": "518c8ccd-1a7a-4453-994c-8e01ec259b03",
   "metadata": {
    "jupyter": {
     "source_hidden": true
    },
    "pycharm": {
     "name": "#%%\n"
    }
   },
   "outputs": [],
   "source": []
  }
 ],
 "metadata": {
  "kernelspec": {
   "display_name": "Python 3",
   "language": "python",
   "name": "python3"
  },
  "language_info": {
   "codemirror_mode": {
    "name": "ipython",
    "version": 3
   },
   "file_extension": ".py",
   "mimetype": "text/x-python",
   "name": "python",
   "nbconvert_exporter": "python",
   "pygments_lexer": "ipython3",
   "version": "3.8.2"
  },
  "toc-showcode": false
 },
 "nbformat": 4,
 "nbformat_minor": 5
}
