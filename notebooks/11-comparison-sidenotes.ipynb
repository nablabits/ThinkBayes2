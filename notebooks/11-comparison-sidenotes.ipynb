{
 "cells": [
  {
   "cell_type": "markdown",
   "id": "790474b9-27ea-4451-932c-3746675a4617",
   "metadata": {
    "pycharm": {
     "name": "#%% md\n"
    }
   },
   "source": [
    "## Key takeaways for this chapter\n",
    "\n",
    "### Meshgrid\n",
    "Whenever you put the outcome of some operation between the elements of a meshgrid, like `vx*vy`, (or in general a 2d array) in a Pandas `DataFrame` the index is taken by the `y` component whereas the columns are taken by the `x` component.\n",
    "This might be a bit confusing as to get the marginal of `x` one has to sum over rows `axis=0`, and over columns `axis=1` for `y` marginal.\n",
    "\n",
    "### Approach\n",
    "In a nutshell this is the approach we followed for the exercises:\n",
    "* Get prior for each of the elements we are going to compare.\n",
    "* Compute the joint probability of the elements\n",
    "* Compute the likelihood based on some operation between the ranges (index, columns) of the elements. (comparison for heights, logit for chess exercise)\n",
    "* Do a regular update\n",
    "* Compute the marginal of X by summing over rows (axis=0)\n",
    "* Compute the marginal of Y by summing over columns (axis=1)\n",
    "* Compute the mean of each marginal\n",
    "\n",
    "In the exercises we used normal distributions for priors and, I found striking to use different ranges for them as in my mind we should compare over the same set of heights. Afterwards, thinking more carefully, given that one performs some operation over the ranges of the distributions to compute the likelihood, there might not be a great difference in the outcome.\n"
   ]
  },
  {
   "cell_type": "markdown",
   "id": "296a3137",
   "metadata": {
    "pycharm": {
     "name": "#%% md\n"
    }
   },
   "source": [
    "## How cartesian products work"
   ]
  },
  {
   "cell_type": "code",
   "execution_count": null,
   "id": "a7fc6fad",
   "metadata": {
    "pycharm": {
     "name": "#%%\n"
    }
   },
   "outputs": [],
   "source": [
    "## How cartesian products work\n",
    "import numpy as np\n",
    "import pandas as pd\n",
    "x = [10, 20, 30]\n",
    "y = [40, 50]\n",
    "vx, vy = np.meshgrid(x, y)\n",
    "df = pd.DataFrame(vy + vx, index=y, columns=x)\n",
    "df.sum(axis=0)  # [110, 130, 150]\n",
    "df.sum(axis=1)  # [180, 210]"
   ]
  },
  {
   "cell_type": "markdown",
   "id": "99bd3f92-0a78-4475-9fe3-1d590a66b081",
   "metadata": {
    "pycharm": {
     "name": "#%% md\n"
    }
   },
   "source": [
    "## Exercise 1\n",
    "### Part A: How tall is A"
   ]
  },
  {
   "cell_type": "code",
   "execution_count": null,
   "id": "924bea7a-3d40-4fe4-bade-231c016bdc1a",
   "metadata": {
    "pycharm": {
     "name": "#%%\n"
    }
   },
   "outputs": [],
   "source": [
    "from scipy.stats import norm\n",
    "import matplotlib.pyplot as plt\n",
    "import seaborn as sns\n",
    "import pandas as pd\n",
    "import numpy as np\n",
    "from utils import decorate\n",
    "\n",
    "def plot_cmesh(df, cmap='Blues'):\n",
    "\t\"\"\"Plot a joint distribution with a color mesh.\"\"\"\n",
    "\tvmax = df.to_numpy().max() * 1.1\n",
    "\tplt.pcolormesh(df.columns, df.index, df,\n",
    "\t\t\t\t   cmap=cmap,\n",
    "\t\t\t\t   vmax=vmax,\n",
    "\t\t\t\t   shading='nearest')\n",
    "\tplt.colorbar()\n",
    "\n",
    "\tdecorate(xlabel='A height in cm',\n",
    "\t\t\t ylabel='B height in cm')\n",
    "\n",
    "# Create a normal distribution with\n",
    "mu, std = 178, 7.7\n",
    "hs = np.arange(mu-round(std*3), mu+round(std*3), .5)\n",
    "prior = norm(178, 7.7).pdf(hs)\n",
    "prior /= prior.sum()\n",
    "\n",
    "# Create a joint probability to compare two persons\n",
    "vx, vy = np.meshgrid(prior, prior)\n",
    "joint = pd.DataFrame(vx*vy, index=hs, columns=hs)\n",
    "# plot_cmesh(joint)\n",
    "\n",
    "# Create the likelihood df for A > B\n",
    "vx, vy = np.meshgrid(hs, hs)\n",
    "likes = pd.DataFrame(vx > vy, index=hs, columns=hs).astype(int)\n",
    "\n",
    "# Compute the posterior\n",
    "posterior = joint.values * likes.values\n",
    "posterior /= posterior.sum()\n",
    "posterior = pd.DataFrame(posterior, index=hs, columns=hs)\n",
    "# plot_cmesh(posterior)\n",
    "\n",
    "# get the marginals\n",
    "marginal_A = posterior.values.sum(axis=0)\n",
    "marginal_B = posterior.values.sum(axis=1)\n",
    "fig, ax = plt.subplots()\n",
    "sns.lineplot(x=hs, y=marginal_A, ax=ax, label=\"Posterior A\")\n",
    "sns.lineplot(x=hs, y=marginal_B, ax=ax, label=\"posterior B\")\n",
    "sns.lineplot(x=hs, y=prior, ax=ax, label=\"prior\")\n",
    "\n",
    "# get the conditional posterior for A = 170\n",
    "a170 = posterior[170].values\n",
    "# sns.lineplot(x=hs, y=a170);\n",
    "np.sum(hs * a170 / a170.sum())  # mean\n",
    "\n",
    "# get the conditional posterior for B = 180\n",
    "b180 = posterior.loc[180, :].values\n",
    "# sns.lineplot(x=hs, y=b180);\n",
    "# np.sum(hs * b180 / b180.sum())\n"
   ]
  },
  {
   "cell_type": "markdown",
   "id": "04c3a827",
   "metadata": {
    "pycharm": {
     "name": "#%% md\n"
    }
   },
   "source": [
    "### Part B, extending to women"
   ]
  },
  {
   "cell_type": "code",
   "execution_count": null,
   "id": "1c1f2c0d-5271-4163-a8eb-4e79c75d7e99",
   "metadata": {
    "pycharm": {
     "name": "#%%\n"
    }
   },
   "outputs": [],
   "source": [
    "mu_m, std_m = 178, 7.7\n",
    "mu_w, std_w = 163, 7.3\n",
    "hs = np.arange(mu_w-round(std_w*3), mu_m+round(std_m*3), .5)\n",
    "prior = norm(178, 7.7).pdf(hs)\n",
    "prior /= prior.sum()\n",
    "\n",
    "# Create a joint probability to compare two persons\n",
    "vx, vy = np.meshgrid(prior, prior)\n",
    "joint = pd.DataFrame(vx*vy, index=hs, columns=hs)\n",
    "# plot_cmesh(joint)\n",
    "\n",
    "# Create the likelihood df for A > B\n",
    "vx, vy = np.meshgrid(hs, hs)\n",
    "likes = pd.DataFrame(vx > vy, index=hs, columns=hs).astype(int)\n",
    "\n",
    "# Compute the posterior\n",
    "posterior = joint.values * likes.values\n",
    "posterior /= posterior.sum()\n",
    "posterior = pd.DataFrame(posterior, index=hs, columns=hs)\n",
    "# plot_cmesh(posterior)\n",
    "\n",
    "# get the marginal\n",
    "marginal_A = posterior.values.sum(axis=0)\n",
    "\n",
    "# Get the prior for the woman\n",
    "prior_woman = norm(mu_w, std_w).pdf(hs)\n",
    "prior_woman /= prior_woman.sum()\n",
    "\n",
    "# get the joint probabilty\n",
    "vx, vy = np.meshgrid(marginal_A, prior_woman)\n",
    "joint = pd.DataFrame(vx * vy, index=hs, columns=hs)\n",
    "# plot_cmesh(joint)\n",
    "\n",
    "# create the likelihood for A - C >= 15\n",
    "vx, vy = np.meshgrid(hs, hs)\n",
    "likes = pd.DataFrame(vx - vy >= 15, index=hs, columns=hs)\n",
    "# plot_cmesh(likes)\n",
    "\n",
    "# compute posterior\n",
    "posterior = joint.values * likes.values\n",
    "posterior /= posterior.sum()\n",
    "posterior = pd.DataFrame(posterior, index=hs, columns=hs)\n",
    "# plot_cmesh(posterior)\n",
    "\n",
    "# get marginals for posterior distributions\n",
    "marginal_A = posterior.values.sum(axis=0)\n",
    "marginal_C = posterior.values.sum(axis=1)\n",
    "\n",
    "fig, ax = plt.subplots()\n",
    "sns.lineplot(x=hs, y=marginal_A, ax=ax, label=\"Posterior A\")\n",
    "sns.lineplot(x=hs, y=marginal_C, ax=ax, label=\"posterior C\")\n",
    "sns.lineplot(x=hs, y=prior, ax=ax, label=\"prior\")"
   ]
  },
  {
   "cell_type": "markdown",
   "id": "99824ad7",
   "metadata": {
    "pycharm": {
     "name": "#%% md\n"
    }
   },
   "source": [
    "# Simulating a Tournament of Chess\n",
    "More insights inside the class, but in a nutshel, we simulate a bunch of matches between two persons on a tournament. This allowed me to realise first hand zero-sum games and how they can become positive sum games over time (but still being zero-sum for individual matches)"
   ]
  },
  {
   "cell_type": "code",
   "execution_count": null,
   "id": "2ea9f068-2e17-4adf-a559-2c957cb0e291",
   "metadata": {
    "pycharm": {
     "name": "#%%\n"
    }
   },
   "outputs": [],
   "source": [
    "from py_scripts.tournament import Tournament\n",
    "\n",
    "record_tape = Tournament().run()\n",
    "record_tape"
   ]
  },
  {
   "cell_type": "code",
   "execution_count": null,
   "id": "0688f403-70a7-45ef-89b6-4837acd62c9a",
   "metadata": {
    "pycharm": {
     "name": "#%%\n"
    }
   },
   "outputs": [],
   "source": [
    "record_tape.pre_match_score_a.plot(label='a')\n",
    "record_tape.pre_match_score_b.plot(label='b')"
   ]
  },
  {
   "cell_type": "markdown",
   "id": "4cbc8601",
   "metadata": {
    "pycharm": {
     "name": "#%% md\n"
    }
   },
   "source": [
    "# Chess Exercise"
   ]
  },
  {
   "cell_type": "code",
   "execution_count": null,
   "id": "1246b374",
   "metadata": {
    "pycharm": {
     "name": "#%%\n"
    }
   },
   "outputs": [],
   "source": [
    "from typing import Union\n",
    "\n",
    "score_range = np.arange(1300, 1900, 10)\n",
    "\n",
    "# Create priors\n",
    "player_a_prior = norm(1600, 100).pdf(score_range)\n",
    "player_b_prior = norm(1800, 100).pdf(score_range)\n",
    "\n",
    "# get joint probability\n",
    "vx, vy = np.meshgrid(player_a_prior, player_b_prior)\n",
    "\n",
    "joint = pd.DataFrame(\n",
    "\tvx * vy,\n",
    "\tindex=score_range,\n",
    "\tcolumns=score_range\n",
    ")\n",
    "\n",
    "def logit(diff_of_scores: Union[int, np.ndarray], discriminant: int = 400) -> float:\n",
    "\t\"\"\"\n",
    "\tCompute the probability of winning based on the difference of scores and a logistic curve.\n",
    "\n",
    "\tA positive difference would mean the second player to be superior and a negative one\n",
    "\tthe other way round.\n",
    "\t\"\"\"\n",
    "\texp = -(diff_of_scores / discriminant)\n",
    "\treturn 1 / (1 + (10**exp))\n",
    "\n",
    "vx, vy = np.meshgrid(score_range, score_range)\n",
    "likes = logit(vy - vx)\n",
    "\n",
    "# plot_joint(pd.DataFrame(likes, index=score_range, columns=score_range))\n",
    "\n",
    "posterior = joint * likes\n",
    "posterior /= posterior.sum().sum()\n",
    "\n",
    "post_a = posterior.sum(axis=0)\n",
    "post_b = posterior.sum(axis=1)\n",
    "\n",
    "(\n",
    "\tnp.sum(post_a * score_range),\n",
    "\tnp.sum(post_b * score_range)\n",
    ")"
   ]
  }
 ],
 "metadata": {
  "kernelspec": {
   "display_name": "Python 3",
   "language": "python",
   "name": "python3"
  },
  "language_info": {
   "codemirror_mode": {
    "name": "ipython",
    "version": 3
   },
   "file_extension": ".py",
   "mimetype": "text/x-python",
   "name": "python",
   "nbconvert_exporter": "python",
   "pygments_lexer": "ipython3",
   "version": "3.8.2"
  }
 },
 "nbformat": 4,
 "nbformat_minor": 5
}
