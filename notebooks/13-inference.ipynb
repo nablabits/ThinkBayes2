{
 "cells": [
  {
   "cell_type": "markdown",
   "metadata": {},
   "source": [
    "# Inference"
   ]
  },
  {
   "cell_type": "markdown",
   "metadata": {
    "tags": []
   },
   "source": [
    "Think Bayes, Second Edition\n",
    "\n",
    "Copyright 2020 Allen B. Downey\n",
    "\n",
    "License: [Attribution-NonCommercial-ShareAlike 4.0 International (CC BY-NC-SA 4.0)](https://creativecommons.org/licenses/by-nc-sa/4.0/)"
   ]
  },
  {
   "cell_type": "code",
   "execution_count": 4,
   "metadata": {
    "tags": []
   },
   "outputs": [],
   "source": [
    "# If we're running on Colab, install empiricaldist\n",
    "# https://pypi.org/project/empiricaldist/\n",
    "\n",
    "import sys\n",
    "IN_COLAB = 'google.colab' in sys.modules\n",
    "\n",
    "if IN_COLAB:\n",
    "    !pip install empiricaldist"
   ]
  },
  {
   "cell_type": "code",
   "execution_count": 5,
   "metadata": {
    "tags": []
   },
   "outputs": [],
   "source": [
    "# Get utils.py\n",
    "\n",
    "import os\n",
    "\n",
    "if not os.path.exists('utils.py'):\n",
    "    !wget https://github.com/AllenDowney/ThinkBayes2/raw/master/soln/utils.py"
   ]
  },
  {
   "cell_type": "code",
   "execution_count": 6,
   "metadata": {
    "tags": []
   },
   "outputs": [],
   "source": [
    "from utils import set_pyplot_params\n",
    "set_pyplot_params()"
   ]
  },
  {
   "cell_type": "markdown",
   "metadata": {
    "tags": []
   },
   "source": [
    "Whenever people compare Bayesian inference with conventional approaches, one of the questions that comes up most often is something like, \"What about p-values?\"\n",
    "And one of the most common examples is the comparison of two groups to see if there is a difference in their means.\n",
    "\n",
    "In classical statistical inference, the usual tool for this scenario is a [Student's *t*-test](https://en.wikipedia.org/wiki/Student%27s_t-test), and the result is a [p-value](https://en.wikipedia.org/wiki/P-value).\n",
    "This process is an example of [null hypothesis significance testing](https://en.wikipedia.org/wiki/Statistical_hypothesis_testing).\n",
    "\n",
    "A Bayesian alternative is to compute the posterior distribution of the difference between the groups.\n",
    "Then we can use that distribution to answer whatever questions we are interested in, including the most likely size of the difference, a credible interval that's likely to contain the true difference, the probability of superiority, or the probability that the difference exceeds some threshold.\n",
    "\n",
    "To demonstrate this process, I'll solve a problem borrowed from a statistical textbook: evaluating the effect of an educational \"treatment\" compared to a control."
   ]
  },
  {
   "cell_type": "markdown",
   "metadata": {},
   "source": [
    "## Improving Reading Ability\n",
    "\n",
    "We'll use data from a [Ph.D. dissertation in educational psychology](https://docs.lib.purdue.edu/dissertations/AAI8807671/) written in 1987, which was used as an example in a [statistics textbook](https://books.google.com/books/about/Introduction_to_the_practice_of_statisti.html?id=pGBNhajABlUC) from 1989 and published on [DASL](https://web.archive.org/web/20000603124754/http://lib.stat.cmu.edu/DASL/Datafiles/DRPScores.html), a web page that collects data stories.  \n",
    "\n",
    "Here's the description from DASL:\n",
    "\n",
    "> An educator conducted an experiment to test whether new directed reading activities in the classroom will help elementary school pupils improve some aspects of their reading ability. She arranged for a third grade class of 21 students to follow these activities for an 8-week period. A control classroom of 23 third graders followed the same curriculum without the activities. At the end of the 8 weeks, all students took a Degree of Reading Power (DRP) test, which measures the aspects of reading ability that the treatment is designed to improve.\n",
    "\n",
    "The [dataset is available here](https://web.archive.org/web/20000603124754/http://lib.stat.cmu.edu/DASL/Datafiles/DRPScores.html)."
   ]
  },
  {
   "cell_type": "markdown",
   "metadata": {
    "tags": []
   },
   "source": [
    "The following cell downloads the data."
   ]
  },
  {
   "cell_type": "code",
   "execution_count": 7,
   "metadata": {
    "tags": []
   },
   "outputs": [
    {
     "name": "stdout",
     "output_type": "stream",
     "text": [
      "--2022-08-22 18:41:07--  https://github.com/AllenDowney/ThinkBayes2/raw/master/data/drp_scores.csv\n",
      "Resolving github.com (github.com)... 140.82.121.4\n",
      "Connecting to github.com (github.com)|140.82.121.4|:443... connected.\n",
      "HTTP request sent, awaiting response... 302 Found\n",
      "Location: https://raw.githubusercontent.com/AllenDowney/ThinkBayes2/master/data/drp_scores.csv [following]\n",
      "--2022-08-22 18:41:08--  https://raw.githubusercontent.com/AllenDowney/ThinkBayes2/master/data/drp_scores.csv\n",
      "Resolving raw.githubusercontent.com (raw.githubusercontent.com)... 185.199.111.133, 185.199.110.133, 185.199.109.133, ...\n",
      "Connecting to raw.githubusercontent.com (raw.githubusercontent.com)|185.199.111.133|:443... connected.\n",
      "HTTP request sent, awaiting response... 200 OK\n",
      "Length: 1527 (1.5K) [text/plain]\n",
      "Saving to: ‘drp_scores.csv’\n",
      "\n",
      "drp_scores.csv      100%[===================>]   1.49K  --.-KB/s    in 0s      \n",
      "\n",
      "2022-08-22 18:41:08 (7.98 MB/s) - ‘drp_scores.csv’ saved [1527/1527]\n",
      "\n"
     ]
    }
   ],
   "source": [
    "import os\n",
    "\n",
    "if not os.path.exists('drp_scores.csv'):\n",
    "    !wget https://github.com/AllenDowney/ThinkBayes2/raw/master/data/drp_scores.csv"
   ]
  },
  {
   "cell_type": "markdown",
   "metadata": {},
   "source": [
    "I'll use Pandas to load the data into a `DataFrame`."
   ]
  },
  {
   "cell_type": "code",
   "execution_count": 8,
   "metadata": {},
   "outputs": [
    {
     "data": {
      "text/html": [
       "<div>\n",
       "<style scoped>\n",
       "    .dataframe tbody tr th:only-of-type {\n",
       "        vertical-align: middle;\n",
       "    }\n",
       "\n",
       "    .dataframe tbody tr th {\n",
       "        vertical-align: top;\n",
       "    }\n",
       "\n",
       "    .dataframe thead th {\n",
       "        text-align: right;\n",
       "    }\n",
       "</style>\n",
       "<table border=\"1\" class=\"dataframe\">\n",
       "  <thead>\n",
       "    <tr style=\"text-align: right;\">\n",
       "      <th></th>\n",
       "      <th>Treatment</th>\n",
       "      <th>Response</th>\n",
       "    </tr>\n",
       "  </thead>\n",
       "  <tbody>\n",
       "    <tr>\n",
       "      <th>0</th>\n",
       "      <td>Treated</td>\n",
       "      <td>24</td>\n",
       "    </tr>\n",
       "    <tr>\n",
       "      <th>1</th>\n",
       "      <td>Treated</td>\n",
       "      <td>43</td>\n",
       "    </tr>\n",
       "    <tr>\n",
       "      <th>2</th>\n",
       "      <td>Treated</td>\n",
       "      <td>58</td>\n",
       "    </tr>\n",
       "  </tbody>\n",
       "</table>\n",
       "</div>"
      ],
      "text/plain": [
       "  Treatment  Response\n",
       "0   Treated        24\n",
       "1   Treated        43\n",
       "2   Treated        58"
      ]
     },
     "execution_count": 8,
     "metadata": {},
     "output_type": "execute_result"
    }
   ],
   "source": [
    "import pandas as pd\n",
    "\n",
    "df = pd.read_csv('drp_scores.csv', skiprows=21, delimiter='\\t')\n",
    "df.head(3)"
   ]
  },
  {
   "cell_type": "markdown",
   "metadata": {},
   "source": [
    "The `Treatment` column indicates whether each student was in the treated or control group.\n",
    "The `Response` is their score on the test.\n",
    "\n",
    "\n",
    "I'll use `groupby` to separate the data for the `Treated` and `Control` groups:"
   ]
  },
  {
   "cell_type": "code",
   "execution_count": 9,
   "metadata": {},
   "outputs": [],
   "source": [
    "grouped = df.groupby('Treatment')\n",
    "responses = {}\n",
    "\n",
    "for name, group in grouped:\n",
    "    responses[name] = group['Response']"
   ]
  },
  {
   "cell_type": "markdown",
   "metadata": {},
   "source": [
    "Here are CDFs of the scores for the two groups and summary statistics."
   ]
  },
  {
   "cell_type": "code",
   "execution_count": 10,
   "metadata": {},
   "outputs": [
    {
     "data": {
      "image/png": "[encoded data removed]",
      "text/plain": [
       "<Figure size 432x288 with 1 Axes>"
      ]
     },
     "metadata": {
      "needs_background": "light"
     },
     "output_type": "display_data"
    }
   ],
   "source": [
    "from empiricaldist import Cdf\n",
    "from utils import decorate\n",
    "\n",
    "for name, response in responses.items():\n",
    "    cdf = Cdf.from_seq(response)\n",
    "    cdf.plot(label=name)\n",
    "    \n",
    "decorate(xlabel='Score', \n",
    "         ylabel='CDF',\n",
    "         title='Distributions of test scores')"
   ]
  },
  {
   "cell_type": "markdown",
   "metadata": {},
   "source": [
    "There is overlap between the distributions, but it looks like the scores are higher in the treated group.\n",
    "The distribution of scores is not exactly normal for either group, but it is close enough that the normal model is a reasonable choice.\n",
    "\n",
    "So I'll assume that in the entire population of students (not just the ones in the experiment), the distribution of scores is well modeled by a normal distribution with unknown mean and standard deviation.\n",
    "I'll use `mu` and `sigma` to denote these unknown parameters,\n",
    "and we'll do a Bayesian update to estimate what they are."
   ]
  },
  {
   "cell_type": "markdown",
   "metadata": {},
   "source": [
    "## Estimating Parameters\n",
    "\n",
    "As always, we need a prior distribution for the parameters.\n",
    "Since there are two parameters, it will be a joint distribution.\n",
    "I'll construct it by choosing marginal distributions for each parameter and computing their outer product.\n",
    "\n",
    "As a simple starting place, I'll assume that the prior distributions for `mu` and `sigma` are uniform.\n",
    "The following function makes a `Pmf` object that represents a uniform distribution."
   ]
  },
  {
   "cell_type": "code",
   "execution_count": 11,
   "metadata": {},
   "outputs": [],
   "source": [
    "from empiricaldist import Pmf\n",
    "\n",
    "def make_uniform(qs, name=None, **options):\n",
    "    \"\"\"Make a Pmf that represents a uniform distribution.\"\"\"\n",
    "    pmf = Pmf(1.0, qs, **options)\n",
    "    pmf.normalize()\n",
    "    if name:\n",
    "        pmf.index.name = name\n",
    "    return pmf"
   ]
  },
  {
   "cell_type": "markdown",
   "metadata": {},
   "source": [
    "`make_uniform` takes as parameters \n",
    "\n",
    "* An array of quantities, `qs`, and\n",
    "\n",
    "* A string, `name`, which is assigned to the index so it appears when we display the `Pmf`.\n",
    "\n",
    "Here's the prior distribution for `mu`:"
   ]
  },
  {
   "cell_type": "code",
   "execution_count": 12,
   "metadata": {},
   "outputs": [],
   "source": [
    "import numpy as np\n",
    "\n",
    "qs = np.linspace(20, 80, num=101)\n",
    "prior_mu = make_uniform(qs, name='mean')"
   ]
  },
  {
   "cell_type": "markdown",
   "metadata": {},
   "source": [
    "I chose the lower and upper bounds by trial and error.\n",
    "I'll explain how when we look at the posterior distribution.\n",
    "\n",
    "Here's the prior distribution for `sigma`:"
   ]
  },
  {
   "cell_type": "code",
   "execution_count": 13,
   "metadata": {},
   "outputs": [],
   "source": [
    "qs = np.linspace(5, 30, num=101)\n",
    "prior_sigma = make_uniform(qs, name='std')"
   ]
  },
  {
   "cell_type": "markdown",
   "metadata": {},
   "source": [
    "Now we can use `make_joint` to make the joint prior distribution."
   ]
  },
  {
   "cell_type": "code",
   "execution_count": 114,
   "metadata": {},
   "outputs": [],
   "source": [
    "from utils import make_joint\n",
    "\n",
    "prior = make_joint(prior_mu, prior_sigma)"
   ]
  },
  {
   "cell_type": "markdown",
   "metadata": {},
   "source": [
    "And we'll start by working with the data from the control group."
   ]
  },
  {
   "cell_type": "code",
   "execution_count": 211,
   "metadata": {},
   "outputs": [
    {
     "data": {
      "text/plain": [
       "(23,)"
      ]
     },
     "execution_count": 211,
     "metadata": {},
     "output_type": "execute_result"
    }
   ],
   "source": [
    "data = responses['Control']\n",
    "data.shape"
   ]
  },
  {
   "cell_type": "markdown",
   "metadata": {},
   "source": [
    "In the next section we'll compute the likelihood of this data for each pair of parameters in the prior distribution."
   ]
  },
  {
   "cell_type": "markdown",
   "metadata": {},
   "source": [
    "## Likelihood\n",
    "\n",
    "We would like to know the probability of each score in the dataset for each hypothetical pair of values, `mu` and `sigma`.\n",
    "I'll do that by making a 3-dimensional grid with values of `mu` on the first axis, values of `sigma` on the second axis, and the scores from the dataset on the third axis."
   ]
  },
  {
   "cell_type": "code",
   "execution_count": 212,
   "metadata": {},
   "outputs": [
    {
     "data": {
      "text/plain": [
       "(101, 101, 23)"
      ]
     },
     "execution_count": 212,
     "metadata": {},
     "output_type": "execute_result"
    }
   ],
   "source": [
    "mu_mesh, sigma_mesh, data_mesh = np.meshgrid(\n",
    "    prior.columns, prior.index, data)\n",
    "\n",
    "mu_mesh.shape"
   ]
  },
  {
   "cell_type": "markdown",
   "metadata": {},
   "source": [
    "Now we can use `norm.pdf` to compute the probability density of each score for each hypothetical pair of parameters."
   ]
  },
  {
   "cell_type": "code",
   "execution_count": 309,
   "metadata": {},
   "outputs": [
    {
     "data": {
      "text/plain": [
       "(101, 101, 23)"
      ]
     },
     "execution_count": 309,
     "metadata": {},
     "output_type": "execute_result"
    }
   ],
   "source": [
    "from scipy.stats import norm\n",
    "\n",
    "densities = norm(mu_mesh, sigma_mesh).pdf(data_mesh)\n",
    "densities.shape"
   ]
  },
  {
   "cell_type": "markdown",
   "metadata": {},
   "source": [
    "The result is a 3-D array.  To compute likelihoods, I'll multiply these densities along `axis=2`, which is the axis of the data:"
   ]
  },
  {
   "cell_type": "code",
   "execution_count": 402,
   "metadata": {},
   "outputs": [
    {
     "data": {
      "text/plain": [
       "(101, 101)"
      ]
     },
     "execution_count": 402,
     "metadata": {},
     "output_type": "execute_result"
    }
   ],
   "source": [
    "likelihood = densities.prod(axis=2)\n",
    "likelihood.shape"
   ]
  },
  {
   "cell_type": "markdown",
   "metadata": {},
   "source": [
    "The result is a 2-D array that contains the likelihood of the entire dataset for each hypothetical pair of parameters.\n",
    "\n",
    "We can use this array to update the prior, like this:"
   ]
  },
  {
   "cell_type": "code",
   "execution_count": 403,
   "metadata": {},
   "outputs": [
    {
     "data": {
      "text/plain": [
       "(101, 101)"
      ]
     },
     "execution_count": 403,
     "metadata": {},
     "output_type": "execute_result"
    }
   ],
   "source": [
    "from utils import normalize\n",
    "\n",
    "posterior = prior * likelihood\n",
    "normalize(posterior)\n",
    "posterior.shape"
   ]
  },
  {
   "cell_type": "markdown",
   "metadata": {},
   "source": [
    "The result is a `DataFrame` that represents the joint posterior distribution.\n",
    "\n",
    "The following function encapsulates these steps."
   ]
  },
  {
   "cell_type": "code",
   "execution_count": 404,
   "metadata": {},
   "outputs": [],
   "source": [
    "def update_norm(prior, data):\n",
    "    \"\"\"Update the prior based on data.\"\"\"\n",
    "    mu_mesh, sigma_mesh, data_mesh = np.meshgrid(\n",
    "        prior.columns, prior.index, data)\n",
    "    \n",
    "    densities = norm(mu_mesh, sigma_mesh).pdf(data_mesh)\n",
    "    likelihood = densities.prod(axis=2)\n",
    "    \n",
    "    posterior = prior * likelihood\n",
    "    normalize(posterior)\n",
    "\n",
    "    return posterior"
   ]
  },
  {
   "cell_type": "markdown",
   "metadata": {},
   "source": [
    "Here are the updates for the control and treatment groups:"
   ]
  },
  {
   "cell_type": "code",
   "execution_count": 405,
   "metadata": {},
   "outputs": [],
   "source": [
    "data = responses['Control']\n",
    "posterior_control = update_norm(prior, data)"
   ]
  },
  {
   "cell_type": "code",
   "execution_count": 406,
   "metadata": {},
   "outputs": [],
   "source": [
    "data = responses['Treated']\n",
    "posterior_treated = update_norm(prior, data)"
   ]
  },
  {
   "cell_type": "markdown",
   "metadata": {},
   "source": [
    "And here's what they look like:"
   ]
  },
  {
   "cell_type": "code",
   "execution_count": 407,
   "metadata": {
    "tags": []
   },
   "outputs": [
    {
     "data": {
      "image/png": "[encoded data removed]",
      "text/plain": [
       "<Figure size 432x288 with 1 Axes>"
      ]
     },
     "metadata": {
      "needs_background": "light"
     },
     "output_type": "display_data"
    }
   ],
   "source": [
    "import matplotlib.pyplot as plt\n",
    "from utils import plot_contour\n",
    "\n",
    "plot_contour(posterior_control, cmap='Blues')\n",
    "plt.text(49.5, 18, 'Control', color='C0')\n",
    "\n",
    "cs = plot_contour(posterior_treated, cmap='Oranges')\n",
    "plt.text(57, 12, 'Treated', color='C1')\n",
    "\n",
    "decorate(xlabel='Mean (mu)', \n",
    "         ylabel='Standard deviation (sigma)',\n",
    "         title='Joint posterior distributions of mu and sigma')"
   ]
  },
  {
   "cell_type": "markdown",
   "metadata": {},
   "source": [
    "Along the `x` axis, it looks like the mean score for the treated group is higher.\n",
    "Along the `y` axis, it looks like the standard deviation for the treated group is lower.\n",
    "\n",
    "If we think the treatment causes these differences, the data suggest that the treatment increases the mean of the scores and decreases their spread.\n",
    "We can see these differences more clearly by looking at the marginal distributions for `mu` and `sigma`."
   ]
  },
  {
   "cell_type": "markdown",
   "metadata": {},
   "source": [
    "## Posterior Marginal Distributions\n",
    "\n",
    "I'll use `marginal`, which we saw in <<_MarginalDistributions>>, to extract the posterior marginal distributions for the population means."
   ]
  },
  {
   "cell_type": "code",
   "execution_count": 408,
   "metadata": {},
   "outputs": [],
   "source": [
    "from utils import marginal\n",
    "\n",
    "pmf_mean_control = marginal(posterior_control, 0)\n",
    "pmf_mean_treated = marginal(posterior_treated, 0)"
   ]
  },
  {
   "cell_type": "markdown",
   "metadata": {},
   "source": [
    "Here's what they look like:"
   ]
  },
  {
   "cell_type": "code",
   "execution_count": 409,
   "metadata": {},
   "outputs": [
    {
     "data": {
      "image/png": "[encoded data removed]",
      "text/plain": [
       "<Figure size 432x288 with 1 Axes>"
      ]
     },
     "metadata": {
      "needs_background": "light"
     },
     "output_type": "display_data"
    }
   ],
   "source": [
    "pmf_mean_control.plot(label='Control')\n",
    "pmf_mean_treated.plot(label='Treated')\n",
    "\n",
    "decorate(xlabel='Population mean (mu)', \n",
    "         ylabel='PDF', \n",
    "         title='Posterior distributions of mu')"
   ]
  },
  {
   "cell_type": "markdown",
   "metadata": {},
   "source": [
    "In both cases the posterior probabilities at the ends of the range are near zero, which means that the bounds we chose for the prior distribution are wide enough.\n",
    "\n",
    "Comparing the marginal distributions for the two groups, it looks like the population mean in the treated group is higher.\n",
    "We can use `prob_gt` to compute the probability of superiority:"
   ]
  },
  {
   "cell_type": "code",
   "execution_count": 410,
   "metadata": {},
   "outputs": [
    {
     "data": {
      "text/plain": [
       "0.980479025187326"
      ]
     },
     "execution_count": 410,
     "metadata": {},
     "output_type": "execute_result"
    }
   ],
   "source": [
    "Pmf.prob_gt(pmf_mean_treated, pmf_mean_control)"
   ]
  },
  {
   "cell_type": "markdown",
   "metadata": {},
   "source": [
    "There is a 98% chance that the mean in the treated group is higher."
   ]
  },
  {
   "cell_type": "markdown",
   "metadata": {},
   "source": [
    "## Distribution of Differences\n",
    "\n",
    "To quantify the magnitude of the difference between groups, we can use `sub_dist` to compute the distribution of the difference."
   ]
  },
  {
   "cell_type": "code",
   "execution_count": 411,
   "metadata": {},
   "outputs": [],
   "source": [
    "pmf_diff = Pmf.sub_dist(pmf_mean_treated, pmf_mean_control)"
   ]
  },
  {
   "cell_type": "markdown",
   "metadata": {},
   "source": [
    "There are two things to be careful about when you use methods like `sub_dist`. \n",
    "The first is that the result usually contains more elements than the original `Pmf`.  \n",
    "In this example, the original distributions have the same quantities, so the size increase is moderate."
   ]
  },
  {
   "cell_type": "code",
   "execution_count": 412,
   "metadata": {},
   "outputs": [
    {
     "data": {
      "text/plain": [
       "(101, 101, 879)"
      ]
     },
     "execution_count": 412,
     "metadata": {},
     "output_type": "execute_result"
    }
   ],
   "source": [
    "len(pmf_mean_treated), len(pmf_mean_control), len(pmf_diff)"
   ]
  },
  {
   "cell_type": "markdown",
   "metadata": {},
   "source": [
    "In the worst case, the size of the result can be the product of the sizes of the originals.\n",
    "\n",
    "The other thing to be careful about is plotting the `Pmf`.\n",
    "In this example, if we plot the distribution of differences, the result is pretty noisy."
   ]
  },
  {
   "cell_type": "code",
   "execution_count": 413,
   "metadata": {
    "tags": []
   },
   "outputs": [
    {
     "data": {
      "image/png": "[encoded data removed]",
      "text/plain": [
       "<Figure size 432x288 with 1 Axes>"
      ]
     },
     "metadata": {
      "needs_background": "light"
     },
     "output_type": "display_data"
    }
   ],
   "source": [
    "pmf_diff.plot()\n",
    "\n",
    "decorate(xlabel='Difference in population means', \n",
    "         ylabel='PDF', \n",
    "         title='Posterior distribution of difference in mu')"
   ]
  },
  {
   "cell_type": "markdown",
   "metadata": {},
   "source": [
    "There are two ways to work around that limitation.  One is to plot the CDF, which smooths out the noise:"
   ]
  },
  {
   "cell_type": "code",
   "execution_count": 414,
   "metadata": {},
   "outputs": [],
   "source": [
    "cdf_diff = pmf_diff.make_cdf()"
   ]
  },
  {
   "cell_type": "code",
   "execution_count": 415,
   "metadata": {
    "tags": []
   },
   "outputs": [
    {
     "data": {
      "image/png": "[encoded data removed]",
      "text/plain": [
       "<Figure size 432x288 with 1 Axes>"
      ]
     },
     "metadata": {
      "needs_background": "light"
     },
     "output_type": "display_data"
    }
   ],
   "source": [
    "cdf_diff.plot()\n",
    "\n",
    "decorate(xlabel='Difference in population means', \n",
    "         ylabel='CDF', \n",
    "         title='Posterior distribution of difference in mu')"
   ]
  },
  {
   "cell_type": "markdown",
   "metadata": {},
   "source": [
    "The other option is to use kernel density estimation (KDE) to make a smooth approximation of the PDF on an equally-spaced grid, which is what this function does:"
   ]
  },
  {
   "cell_type": "code",
   "execution_count": 416,
   "metadata": {},
   "outputs": [],
   "source": [
    "from scipy.stats import gaussian_kde\n",
    "\n",
    "def kde_from_pmf(pmf, n=101):\n",
    "    \"\"\"Make a kernel density estimate for a PMF.\"\"\"\n",
    "    kde = gaussian_kde(pmf.qs, weights=pmf.ps)\n",
    "    qs = np.linspace(pmf.qs.min(), pmf.qs.max(), n)\n",
    "    ps = kde.evaluate(qs)\n",
    "    pmf = Pmf(ps, qs)\n",
    "    pmf.normalize()\n",
    "    return pmf"
   ]
  },
  {
   "cell_type": "markdown",
   "metadata": {},
   "source": [
    "`kde_from_pmf` takes as parameters a `Pmf` and the number of places to evaluate the KDE.\n",
    "\n",
    "It uses `gaussian_kde`, which we saw in <<_KernelDensityEstimation>>, passing the probabilities from the `Pmf` as weights.\n",
    "This makes the estimated densities higher where the probabilities in the `Pmf` are higher.\n",
    "\n",
    "Here's what the kernel density estimate looks like for the `Pmf` of differences between the groups."
   ]
  },
  {
   "cell_type": "code",
   "execution_count": 417,
   "metadata": {},
   "outputs": [],
   "source": [
    "kde_diff = kde_from_pmf(pmf_diff)"
   ]
  },
  {
   "cell_type": "code",
   "execution_count": 418,
   "metadata": {
    "tags": []
   },
   "outputs": [
    {
     "data": {
      "image/png": "[encoded data removed]",
      "text/plain": [
       "<Figure size 432x288 with 1 Axes>"
      ]
     },
     "metadata": {
      "needs_background": "light"
     },
     "output_type": "display_data"
    }
   ],
   "source": [
    "kde_diff.plot()\n",
    "\n",
    "decorate(xlabel='Difference in means', \n",
    "         ylabel='PDF', \n",
    "         title='Posterior distribution of difference in mu')"
   ]
  },
  {
   "cell_type": "markdown",
   "metadata": {},
   "source": [
    "The mean of this distribution is almost 10 points on a test where the mean is around 45, so the effect of the treatment seems to be substantial."
   ]
  },
  {
   "cell_type": "code",
   "execution_count": 419,
   "metadata": {},
   "outputs": [
    {
     "data": {
      "text/plain": [
       "9.954413088940848"
      ]
     },
     "execution_count": 419,
     "metadata": {},
     "output_type": "execute_result"
    }
   ],
   "source": [
    "pmf_diff.mean()"
   ]
  },
  {
   "cell_type": "markdown",
   "metadata": {},
   "source": [
    "We can use `credible_interval` to compute a 90% credible interval."
   ]
  },
  {
   "cell_type": "code",
   "execution_count": 420,
   "metadata": {},
   "outputs": [
    {
     "data": {
      "text/plain": [
       "array([ 2.4, 17.4])"
      ]
     },
     "execution_count": 420,
     "metadata": {},
     "output_type": "execute_result"
    }
   ],
   "source": [
    "pmf_diff.credible_interval(0.9)"
   ]
  },
  {
   "cell_type": "markdown",
   "metadata": {},
   "source": [
    "Based on this interval, we are pretty sure the treatment improves test scores by 2 to 17 points."
   ]
  },
  {
   "cell_type": "markdown",
   "metadata": {},
   "source": [
    "## Using Summary Statistics\n",
    "\n",
    "In this example the dataset is not very big, so it doesn't take too long to compute the probability of every score under every hypothesis.\n",
    "But the result is a 3-D array; for larger datasets, it might be too big to compute practically.\n",
    "\n",
    "Also, with larger datasets the likelihoods get very small, sometimes so small that we can't compute them with floating-point arithmetic.\n",
    "That's because we are computing the probability of a particular dataset; the number of possible datasets is astronomically big, so the probability of any of them is very small.\n",
    "\n",
    "An alternative is to compute a summary of the dataset and compute the likelihood of the summary.\n",
    "For example, if we compute the mean and standard deviation of the data, we can compute the likelihood of those summary statistics under each hypothesis.\n",
    "\n",
    "As an example, suppose we know that the actual mean of the population, $\\mu$,  is 42 and the actual standard deviation, $\\sigma$, is 17."
   ]
  },
  {
   "cell_type": "code",
   "execution_count": 421,
   "metadata": {},
   "outputs": [],
   "source": [
    "mu = 42\n",
    "sigma = 17"
   ]
  },
  {
   "cell_type": "markdown",
   "metadata": {},
   "source": [
    "Now suppose we draw a sample from this distribution with sample size `n=20`, and compute the mean of the sample, which I'll call `m`, and the standard deviation of the sample, which I'll call `s`.\n",
    "\n",
    "And suppose it turns out that:"
   ]
  },
  {
   "cell_type": "code",
   "execution_count": 422,
   "metadata": {},
   "outputs": [],
   "source": [
    "n = 20\n",
    "m = 41\n",
    "s = 18"
   ]
  },
  {
   "cell_type": "markdown",
   "metadata": {},
   "source": [
    "The summary statistics, `m` and `s`, are not too far from the parameters $\\mu$ and $\\sigma$, so it seems like they are not too unlikely.\n",
    "\n",
    "To compute their likelihood, we will take advantage of three results from mathematical statistics:\n",
    "\n",
    "* Given $\\mu$ and $\\sigma$, the distribution of `m` is normal with parameters $\\mu$ and $\\sigma/\\sqrt{n}$;\n",
    "\n",
    "* The distribution of $s$ is more complicated, but if we compute the transform $t = n s^2 / \\sigma^2$, the distribution of $t$ is chi-squared with parameter $n-1$; and\n",
    "\n",
    "* According to [Basu's theorem](https://en.wikipedia.org/wiki/Basu%27s_theorem), `m` and `s` are independent.\n",
    "\n",
    "So let's compute the likelihood of `m` and `s` given $\\mu$ and $\\sigma$.\n",
    "\n",
    "First I'll create a `norm` object that represents the distribution of `m`."
   ]
  },
  {
   "cell_type": "code",
   "execution_count": 423,
   "metadata": {},
   "outputs": [],
   "source": [
    "dist_m = norm(mu, sigma/np.sqrt(n))"
   ]
  },
  {
   "cell_type": "markdown",
   "metadata": {},
   "source": [
    "This is the \"sampling distribution of the mean\".\n",
    "We can use it to compute the likelihood of the observed value of `m`, which is 41."
   ]
  },
  {
   "cell_type": "code",
   "execution_count": 424,
   "metadata": {},
   "outputs": [
    {
     "data": {
      "text/plain": [
       "0.10137915138497372"
      ]
     },
     "execution_count": 424,
     "metadata": {},
     "output_type": "execute_result"
    }
   ],
   "source": [
    "like1 = dist_m.pdf(m)\n",
    "like1"
   ]
  },
  {
   "cell_type": "markdown",
   "metadata": {},
   "source": [
    "Now let's compute the likelihood of the observed value of `s`, which is 18.\n",
    "First, we compute the transformed value `t`:"
   ]
  },
  {
   "cell_type": "code",
   "execution_count": 425,
   "metadata": {},
   "outputs": [
    {
     "data": {
      "text/plain": [
       "22.422145328719722"
      ]
     },
     "execution_count": 425,
     "metadata": {},
     "output_type": "execute_result"
    }
   ],
   "source": [
    "t = n * s**2 / sigma**2\n",
    "t"
   ]
  },
  {
   "cell_type": "markdown",
   "metadata": {},
   "source": [
    "Then we create a `chi2` object to represent the distribution of `t`:"
   ]
  },
  {
   "cell_type": "code",
   "execution_count": 426,
   "metadata": {},
   "outputs": [],
   "source": [
    "from scipy.stats import chi2\n",
    "\n",
    "dist_s = chi2(n-1)"
   ]
  },
  {
   "cell_type": "markdown",
   "metadata": {},
   "source": [
    "Now we can compute the likelihood of `t`:"
   ]
  },
  {
   "cell_type": "code",
   "execution_count": 427,
   "metadata": {},
   "outputs": [
    {
     "data": {
      "text/plain": [
       "0.04736427909437004"
      ]
     },
     "execution_count": 427,
     "metadata": {},
     "output_type": "execute_result"
    }
   ],
   "source": [
    "like2 = dist_s.pdf(t)\n",
    "like2"
   ]
  },
  {
   "cell_type": "markdown",
   "metadata": {},
   "source": [
    "Finally, because `m` and `s` are independent, their joint likelihood is the product of their likelihoods:"
   ]
  },
  {
   "cell_type": "code",
   "execution_count": 428,
   "metadata": {},
   "outputs": [
    {
     "data": {
      "text/plain": [
       "0.004801750420548287"
      ]
     },
     "execution_count": 428,
     "metadata": {},
     "output_type": "execute_result"
    }
   ],
   "source": [
    "like = like1 * like2\n",
    "like"
   ]
  },
  {
   "cell_type": "markdown",
   "metadata": {},
   "source": [
    "Now we can compute the likelihood of the data for any values of $\\mu$ and $\\sigma$, which we'll use in the next section to do the update."
   ]
  },
  {
   "cell_type": "markdown",
   "metadata": {},
   "source": [
    "## Update With Summary Statistics\n",
    "\n",
    "Now we're ready to do an update.\n",
    "I'll compute summary statistics for the two groups."
   ]
  },
  {
   "cell_type": "code",
   "execution_count": 429,
   "metadata": {},
   "outputs": [
    {
     "data": {
      "text/plain": [
       "{'Control': (23, 41.52173913043478, 17.148733229699484),\n",
       " 'Treated': (21, 51.476190476190474, 11.00735684721381)}"
      ]
     },
     "execution_count": 429,
     "metadata": {},
     "output_type": "execute_result"
    }
   ],
   "source": [
    "summary = {}\n",
    "\n",
    "for name, response in responses.items():\n",
    "    summary[name] = len(response), response.mean(), response.std()\n",
    "    \n",
    "summary"
   ]
  },
  {
   "cell_type": "markdown",
   "metadata": {},
   "source": [
    "The result is a dictionary that maps from group name to a tuple that contains the sample size, `n`, the sample mean, `m`, and the sample standard deviation `s`, for each group.\n",
    "\n",
    "I'll demonstrate the update with the summary statistics from the control group."
   ]
  },
  {
   "cell_type": "code",
   "execution_count": 430,
   "metadata": {},
   "outputs": [],
   "source": [
    "n, m, s = summary['Control']"
   ]
  },
  {
   "cell_type": "markdown",
   "metadata": {},
   "source": [
    "I'll make a mesh with hypothetical values of `mu` on the `x` axis and values of `sigma` on the `y` axis."
   ]
  },
  {
   "cell_type": "code",
   "execution_count": 431,
   "metadata": {},
   "outputs": [
    {
     "data": {
      "text/plain": [
       "(101, 101)"
      ]
     },
     "execution_count": 431,
     "metadata": {},
     "output_type": "execute_result"
    }
   ],
   "source": [
    "mus, sigmas = np.meshgrid(prior.columns, prior.index)\n",
    "mus.shape"
   ]
  },
  {
   "cell_type": "markdown",
   "metadata": {},
   "source": [
    "Now we can compute the likelihood of seeing the sample mean, `m`, for each pair of parameters."
   ]
  },
  {
   "cell_type": "code",
   "execution_count": 432,
   "metadata": {},
   "outputs": [
    {
     "data": {
      "text/plain": [
       "(101, 101)"
      ]
     },
     "execution_count": 432,
     "metadata": {},
     "output_type": "execute_result"
    }
   ],
   "source": [
    "like1 = norm(mus, sigmas/np.sqrt(n)).pdf(m)\n",
    "like1.shape"
   ]
  },
  {
   "cell_type": "markdown",
   "metadata": {},
   "source": [
    "And we can compute the likelihood of the sample standard deviation, `s`, for each pair of parameters."
   ]
  },
  {
   "cell_type": "code",
   "execution_count": 433,
   "metadata": {},
   "outputs": [
    {
     "data": {
      "text/plain": [
       "(101, 101)"
      ]
     },
     "execution_count": 433,
     "metadata": {},
     "output_type": "execute_result"
    }
   ],
   "source": [
    "ts = n * s**2 / sigmas**2\n",
    "like2 = chi2(n-1).pdf(ts)\n",
    "like2.shape"
   ]
  },
  {
   "cell_type": "markdown",
   "metadata": {},
   "source": [
    "Finally, we can do the update with both likelihoods:"
   ]
  },
  {
   "cell_type": "code",
   "execution_count": 434,
   "metadata": {
    "tags": []
   },
   "outputs": [
    {
     "data": {
      "text/plain": [
       "0.00030965351017402847"
      ]
     },
     "execution_count": 434,
     "metadata": {},
     "output_type": "execute_result"
    }
   ],
   "source": [
    "posterior_control2 = prior * like1 * like2\n",
    "normalize(posterior_control2)"
   ]
  },
  {
   "cell_type": "markdown",
   "metadata": {},
   "source": [
    "To compute the posterior distribution for the treatment group, I'll put the previous steps in a function:"
   ]
  },
  {
   "cell_type": "code",
   "execution_count": 435,
   "metadata": {},
   "outputs": [],
   "source": [
    "def update_norm_summary(prior, data):\n",
    "    \"\"\"Update a normal distribution using summary statistics.\"\"\"\n",
    "    n, m, s = data\n",
    "    mu_mesh, sigma_mesh = np.meshgrid(prior.columns, prior.index)\n",
    "    \n",
    "    like1 = norm(mu_mesh, sigma_mesh/np.sqrt(n)).pdf(m)\n",
    "    like2 = chi2(n-1).pdf(n * s**2 / sigma_mesh**2)\n",
    "    \n",
    "    posterior = prior * like1 * like2\n",
    "    normalize(posterior)\n",
    "    \n",
    "    return posterior"
   ]
  },
  {
   "cell_type": "markdown",
   "metadata": {},
   "source": [
    "Here's the update for the treatment group:"
   ]
  },
  {
   "cell_type": "code",
   "execution_count": 436,
   "metadata": {},
   "outputs": [],
   "source": [
    "data = summary['Treated']\n",
    "posterior_treated2 = update_norm_summary(prior, data)"
   ]
  },
  {
   "cell_type": "markdown",
   "metadata": {},
   "source": [
    "And here are the results."
   ]
  },
  {
   "cell_type": "code",
   "execution_count": 437,
   "metadata": {
    "tags": []
   },
   "outputs": [
    {
     "data": {
      "image/png": "[encoded data removed]",
      "text/plain": [
       "<Figure size 432x288 with 1 Axes>"
      ]
     },
     "metadata": {
      "needs_background": "light"
     },
     "output_type": "display_data"
    }
   ],
   "source": [
    "plot_contour(posterior_control2, cmap='Blues')\n",
    "plt.text(49.5, 18, 'Control', color='C0')\n",
    "\n",
    "cs = plot_contour(posterior_treated2, cmap='Oranges')\n",
    "plt.text(57, 12, 'Treated', color='C1')\n",
    "\n",
    "decorate(xlabel='Mean (mu)', \n",
    "         ylabel='Standard deviation (sigma)',\n",
    "         title='Joint posterior distributions of mu and sigma')"
   ]
  },
  {
   "cell_type": "markdown",
   "metadata": {},
   "source": [
    "Visually, these posterior joint distributions are similar to the ones we computed using the entire dataset, not just the summary statistics.\n",
    "But they are not exactly the same, as we can see by comparing the marginal distributions."
   ]
  },
  {
   "cell_type": "markdown",
   "metadata": {},
   "source": [
    "## Comparing Marginals\n",
    "\n",
    "Again, let's extract the marginal posterior distributions."
   ]
  },
  {
   "cell_type": "code",
   "execution_count": 438,
   "metadata": {},
   "outputs": [],
   "source": [
    "from utils import marginal\n",
    "\n",
    "pmf_mean_control2 = marginal(posterior_control2, 0)\n",
    "pmf_mean_treated2 = marginal(posterior_treated2, 0)"
   ]
  },
  {
   "cell_type": "markdown",
   "metadata": {},
   "source": [
    "And compare them to results we got using the entire dataset (the dashed lines)."
   ]
  },
  {
   "cell_type": "code",
   "execution_count": 439,
   "metadata": {
    "tags": []
   },
   "outputs": [
    {
     "data": {
      "image/png": "[encoded data removed]",
      "text/plain": [
       "<Figure size 432x288 with 1 Axes>"
      ]
     },
     "metadata": {
      "needs_background": "light"
     },
     "output_type": "display_data"
    }
   ],
   "source": [
    "pmf_mean_control.plot(color='C5', linestyle='dashed')\n",
    "pmf_mean_control2.plot(label='Control')\n",
    "pmf_mean_treated.plot(color='C5', linestyle='dashed')\n",
    "pmf_mean_treated2.plot(label='Treated')\n",
    "\n",
    "decorate(xlabel='Population mean', \n",
    "         ylabel='PDF', \n",
    "         title='Posterior distributions of mu')"
   ]
  },
  {
   "cell_type": "markdown",
   "metadata": {},
   "source": [
    "The posterior distributions based on summary statistics are similar to the posteriors we computed using the entire dataset, but in both cases they are shorter and a little wider.\n",
    "\n",
    "That's because the update with summary statistics is based on the implicit assumption that the distribution of the data is normal.\n",
    "But it's not; as a result, when we replace the dataset with the summary statistics, we lose some information about the true distribution of the data.\n",
    "With less information, we are less certain about the parameters."
   ]
  },
  {
   "cell_type": "markdown",
   "metadata": {
    "tags": []
   },
   "source": [
    "## Proof By Simulation\n",
    "\n",
    "The update with summary statistics is based on theoretical distributions, and it seems to work, but I think it is useful to test theories like this, for a few reasons:\n",
    "\n",
    "* It confirms that our understanding of the theory is correct,\n",
    "\n",
    "* It confirms that the conditions where we apply the theory are conditions where the theory holds, \n",
    "\n",
    "* It confirms that the implementation details are correct.  For many distributions, there is more than one way to specify the parameters.  If you use the wrong specification, this kind of testing will help you catch the error.\n",
    "\n",
    "In this section I'll use simulations to show that the distribution of the sample mean and standard deviation is as I claimed.\n",
    "But if you want to take my word for it, you can skip this section and the next."
   ]
  },
  {
   "cell_type": "markdown",
   "metadata": {
    "tags": []
   },
   "source": [
    "Let's suppose that we know the actual mean and standard deviation of the population:"
   ]
  },
  {
   "cell_type": "code",
   "execution_count": 440,
   "metadata": {
    "tags": []
   },
   "outputs": [],
   "source": [
    "mu = 42\n",
    "sigma = 17"
   ]
  },
  {
   "cell_type": "markdown",
   "metadata": {
    "tags": []
   },
   "source": [
    "I'll create a `norm` object to represent this distribution."
   ]
  },
  {
   "cell_type": "code",
   "execution_count": 441,
   "metadata": {
    "tags": []
   },
   "outputs": [],
   "source": [
    "dist = norm(mu, sigma)"
   ]
  },
  {
   "cell_type": "markdown",
   "metadata": {
    "tags": []
   },
   "source": [
    "`norm` provides `rvs`, which generates random values from the distribution.\n",
    "We can use it to simulate 1000 samples, each with sample size `n=20`."
   ]
  },
  {
   "cell_type": "code",
   "execution_count": 442,
   "metadata": {
    "tags": []
   },
   "outputs": [
    {
     "data": {
      "text/plain": [
       "(1000, 20)"
      ]
     },
     "execution_count": 442,
     "metadata": {},
     "output_type": "execute_result"
    }
   ],
   "source": [
    "n = 20\n",
    "samples = dist.rvs((1000, n))\n",
    "samples.shape"
   ]
  },
  {
   "cell_type": "markdown",
   "metadata": {
    "tags": []
   },
   "source": [
    "The result is an array with 1000 rows, each containing a sample or 20 simulated test scores.\n",
    "\n",
    "If we compute the mean of each row, the result is an array that contains 1000 sample means; that is, each value is the mean of a sample with `n=20`."
   ]
  },
  {
   "cell_type": "code",
   "execution_count": 443,
   "metadata": {
    "tags": []
   },
   "outputs": [
    {
     "data": {
      "text/plain": [
       "(1000,)"
      ]
     },
     "execution_count": 443,
     "metadata": {},
     "output_type": "execute_result"
    }
   ],
   "source": [
    "sample_means = samples.mean(axis=1)\n",
    "sample_means.shape"
   ]
  },
  {
   "cell_type": "markdown",
   "metadata": {
    "tags": []
   },
   "source": [
    "Now, let's compare the distribution of these means to `dist_m`.\n",
    "I'll use `pmf_from_dist` to make a discrete approximation of `dist_m`:"
   ]
  },
  {
   "cell_type": "code",
   "execution_count": 444,
   "metadata": {
    "tags": []
   },
   "outputs": [],
   "source": [
    "def pmf_from_dist(dist, low, high):\n",
    "    \"\"\"Make a discrete approximation of a continuous distribution.\n",
    "    \n",
    "    dist: SciPy dist object\n",
    "    low: low end of range\n",
    "    high: high end of range\n",
    "    \n",
    "    returns: normalized Pmf\n",
    "    \"\"\"\n",
    "    qs = np.linspace(low, high, 101)\n",
    "    ps = dist.pdf(qs)\n",
    "    pmf = Pmf(ps, qs)\n",
    "    pmf.normalize()\n",
    "    return pmf"
   ]
  },
  {
   "cell_type": "markdown",
   "metadata": {
    "tags": []
   },
   "source": [
    "`pmf_from_dist` takes an object representing a continuous distribution, evaluates its probability density function at equally space points between `low` and `high`, and returns a normalized `Pmf` that approximates the distribution.\n",
    "\n",
    "I'll use it to evaluate `dist_m` over a range of six standard deviations."
   ]
  },
  {
   "cell_type": "code",
   "execution_count": 445,
   "metadata": {
    "tags": []
   },
   "outputs": [],
   "source": [
    "low = dist_m.mean() - dist_m.std() * 3\n",
    "high = dist_m.mean() + dist_m.std() * 3\n",
    "\n",
    "pmf_m = pmf_from_dist(dist_m, low, high)"
   ]
  },
  {
   "cell_type": "markdown",
   "metadata": {
    "tags": []
   },
   "source": [
    "Now let's compare this theoretical distribution to the means of the samples.\n",
    "I'll use `kde_from_sample` to estimate their distribution and evaluate it in the same locations as `pmf_m`."
   ]
  },
  {
   "cell_type": "code",
   "execution_count": 446,
   "metadata": {
    "tags": []
   },
   "outputs": [],
   "source": [
    "from utils import kde_from_sample\n",
    "\n",
    "qs = pmf_m.qs\n",
    "pmf_sample_means = kde_from_sample(sample_means, qs)"
   ]
  },
  {
   "cell_type": "markdown",
   "metadata": {
    "tags": []
   },
   "source": [
    "The following figure shows the two distributions."
   ]
  },
  {
   "cell_type": "code",
   "execution_count": 447,
   "metadata": {
    "tags": []
   },
   "outputs": [
    {
     "data": {
      "image/png": "[encoded data removed]",
      "text/plain": [
       "<Figure size 432x288 with 1 Axes>"
      ]
     },
     "metadata": {
      "needs_background": "light"
     },
     "output_type": "display_data"
    }
   ],
   "source": [
    "pmf_m.plot(label='Theoretical distribution',\n",
    "           style=':', color='C5')\n",
    "pmf_sample_means.plot(label='KDE of sample means')\n",
    "\n",
    "decorate(xlabel='Mean score',\n",
    "         ylabel='PDF',\n",
    "         title='Distribution of the mean')"
   ]
  },
  {
   "cell_type": "markdown",
   "metadata": {
    "tags": []
   },
   "source": [
    "The theoretical distribution and the distribution of sample means are in accord."
   ]
  },
  {
   "cell_type": "markdown",
   "metadata": {
    "tags": []
   },
   "source": [
    "## Checking Standard Deviation\n",
    "\n",
    "Let's also check that the standard deviations follow the distribution we expect.\n",
    "First I'll compute the standard deviation for each of the 1000 samples.\n"
   ]
  },
  {
   "cell_type": "code",
   "execution_count": 448,
   "metadata": {
    "tags": []
   },
   "outputs": [
    {
     "data": {
      "text/plain": [
       "(1000,)"
      ]
     },
     "execution_count": 448,
     "metadata": {},
     "output_type": "execute_result"
    }
   ],
   "source": [
    "sample_stds = samples.std(axis=1)\n",
    "sample_stds.shape"
   ]
  },
  {
   "cell_type": "markdown",
   "metadata": {
    "tags": []
   },
   "source": [
    "Now we'll compute the transformed values, $t = n s^2 / \\sigma^2$."
   ]
  },
  {
   "cell_type": "code",
   "execution_count": 449,
   "metadata": {
    "tags": []
   },
   "outputs": [],
   "source": [
    "transformed = n * sample_stds**2 / sigma**2"
   ]
  },
  {
   "cell_type": "markdown",
   "metadata": {
    "tags": []
   },
   "source": [
    "We expect the transformed values to follow a chi-square distribution with parameter $n-1$.\n",
    "SciPy provides `chi2`, which we can use to represent this distribution."
   ]
  },
  {
   "cell_type": "code",
   "execution_count": 450,
   "metadata": {
    "tags": []
   },
   "outputs": [],
   "source": [
    "from scipy.stats import chi2\n",
    "\n",
    "dist_s = chi2(n-1)"
   ]
  },
  {
   "cell_type": "markdown",
   "metadata": {
    "tags": []
   },
   "source": [
    "We can use `pmf_from_dist` again to make a discrete approximation."
   ]
  },
  {
   "cell_type": "code",
   "execution_count": 451,
   "metadata": {
    "tags": []
   },
   "outputs": [],
   "source": [
    "low = 0\n",
    "high = dist_s.mean() + dist_s.std() * 4\n",
    "\n",
    "pmf_s = pmf_from_dist(dist_s, low, high)"
   ]
  },
  {
   "cell_type": "markdown",
   "metadata": {
    "tags": []
   },
   "source": [
    "And we'll use `kde_from_sample` to estimate the distribution of the sample standard deviations."
   ]
  },
  {
   "cell_type": "code",
   "execution_count": 452,
   "metadata": {
    "tags": []
   },
   "outputs": [],
   "source": [
    "qs = pmf_s.qs\n",
    "pmf_sample_stds = kde_from_sample(transformed, qs)"
   ]
  },
  {
   "cell_type": "markdown",
   "metadata": {
    "tags": []
   },
   "source": [
    "Now we can compare the theoretical distribution to the distribution of the standard deviations."
   ]
  },
  {
   "cell_type": "code",
   "execution_count": 453,
   "metadata": {
    "tags": []
   },
   "outputs": [
    {
     "data": {
      "image/png": "[encoded data removed]",
      "text/plain": [
       "<Figure size 432x288 with 1 Axes>"
      ]
     },
     "metadata": {
      "needs_background": "light"
     },
     "output_type": "display_data"
    }
   ],
   "source": [
    "pmf_s.plot(label='Theoretical distribution',\n",
    "           style=':', color='C5')\n",
    "pmf_sample_stds.plot(label='KDE of sample std',\n",
    "                     color='C1')\n",
    "\n",
    "decorate(xlabel='Standard deviation of scores',\n",
    "         ylabel='PDF',\n",
    "         title='Distribution of standard deviation')"
   ]
  },
  {
   "cell_type": "markdown",
   "metadata": {
    "tags": []
   },
   "source": [
    "The distribution of transformed standard deviations agrees with the theoretical distribution.\n",
    "\n",
    "Finally, to confirm that the sample means and standard deviations are independent, I'll compute their coefficient of correlation:"
   ]
  },
  {
   "cell_type": "code",
   "execution_count": 454,
   "metadata": {
    "tags": []
   },
   "outputs": [
    {
     "data": {
      "text/plain": [
       "-0.02467498252065539"
      ]
     },
     "execution_count": 454,
     "metadata": {},
     "output_type": "execute_result"
    }
   ],
   "source": [
    "np.corrcoef(sample_means, sample_stds)[0][1]"
   ]
  },
  {
   "cell_type": "markdown",
   "metadata": {
    "tags": []
   },
   "source": [
    "Their correlation is near zero, which is consistent with their being independent.\n",
    "\n",
    "So the simulations confirm the theoretical results we used to do the update with summary statistics."
   ]
  },
  {
   "cell_type": "markdown",
   "metadata": {
    "tags": []
   },
   "source": [
    "We can also use `kdeplot` from Seaborn to see what their joint distribution looks like."
   ]
  },
  {
   "cell_type": "code",
   "execution_count": 455,
   "metadata": {
    "tags": []
   },
   "outputs": [
    {
     "data": {
      "image/png": "[encoded data removed]",
      "text/plain": [
       "<Figure size 432x288 with 1 Axes>"
      ]
     },
     "metadata": {
      "needs_background": "light"
     },
     "output_type": "display_data"
    }
   ],
   "source": [
    "import seaborn as sns\n",
    "\n",
    "sns.kdeplot(x=sample_means, y=sample_stds)\n",
    "\n",
    "decorate(xlabel='Mean (mu)',\n",
    "         ylabel='Standard deviation (sigma)',\n",
    "         title='Joint distribution of mu and sigma')"
   ]
  },
  {
   "cell_type": "markdown",
   "metadata": {
    "tags": []
   },
   "source": [
    "It looks like the axes of the ellipses are aligned with the axes, which indicates that the variables are independent."
   ]
  },
  {
   "cell_type": "markdown",
   "metadata": {},
   "source": [
    "## Summary\n",
    "\n",
    "In this chapter we used a joint distribution to represent prior probabilities for the parameters of a normal distribution, `mu` and `sigma`.\n",
    "And we updated that distribution two ways: first using the entire dataset and the normal PDF; then using summary statistics, the normal PDF, and the chi-square PDF.\n",
    "Using summary statistics is computationally more efficient, but it loses some information in the process.\n",
    "\n",
    "Normal distributions appear in many domains, so the methods in this chapter are broadly applicable.  The exercises at the end of the chapter will give you a chance to apply them."
   ]
  },
  {
   "cell_type": "markdown",
   "metadata": {},
   "source": [
    "## Exercises"
   ]
  },
  {
   "cell_type": "markdown",
   "metadata": {},
   "source": [
    "**Exercise:** Looking again at the posterior joint distribution of `mu` and `sigma`, it seems like the standard deviation of the treated group might be lower; if so, that would suggest that the treatment is more effective for students with lower scores.\n",
    "\n",
    "But before we speculate too much, we should estimate the size of the difference and see whether it might actually be 0.\n",
    "\n",
    "Extract the marginal posterior distributions of `sigma` for the two groups.\n",
    "What is the probability that the standard deviation is higher in the control group?\n",
    "\n",
    "Compute the distribution of the difference in `sigma` between the two groups.  What is the mean of this difference?  What is the 90% credible interval?"
   ]
  },
  {
   "cell_type": "code",
   "execution_count": 456,
   "metadata": {},
   "outputs": [],
   "source": [
    "# Solution goes here"
   ]
  },
  {
   "cell_type": "code",
   "execution_count": 457,
   "metadata": {},
   "outputs": [],
   "source": [
    "# Solution goes here"
   ]
  },
  {
   "cell_type": "code",
   "execution_count": 458,
   "metadata": {},
   "outputs": [],
   "source": [
    "# Solution goes here"
   ]
  },
  {
   "cell_type": "code",
   "execution_count": 459,
   "metadata": {},
   "outputs": [],
   "source": [
    "# Solution goes here"
   ]
  },
  {
   "cell_type": "code",
   "execution_count": 460,
   "metadata": {},
   "outputs": [],
   "source": [
    "# Solution goes here"
   ]
  },
  {
   "cell_type": "code",
   "execution_count": 461,
   "metadata": {},
   "outputs": [],
   "source": [
    "# Solution goes here"
   ]
  },
  {
   "cell_type": "code",
   "execution_count": 462,
   "metadata": {},
   "outputs": [],
   "source": [
    "# Solution goes here"
   ]
  },
  {
   "cell_type": "markdown",
   "metadata": {},
   "source": [
    "## Exercise\n",
    "\n",
    "An [effect size](http://en.wikipedia.org/wiki/Effect_size) is a statistic intended to quantify the magnitude of a phenomenon.\n",
    "If the phenomenon is a difference in means between two groups, a common way to quantify it is Cohen's effect size, denoted $d$.\n",
    "\n",
    "If the parameters for Group 1 are $(\\mu_1, \\sigma_1)$, and the\n",
    "parameters for Group 2 are $(\\mu_2, \\sigma_2)$, Cohen's\n",
    "effect size is\n",
    "\n",
    "$ d = \\frac{\\mu_1 - \\mu_2}{(\\sigma_1 + \\sigma_2)/2} $\n",
    "\n",
    "Use the joint posterior distributions for the two groups to compute the posterior distribution for Cohen's effect size."
   ]
  },
  {
   "cell_type": "markdown",
   "metadata": {
    "tags": []
   },
   "source": [
    "If we try enumerate all pairs from the two distributions, it takes too\n",
    "long so we'll use random sampling.\n",
    "\n",
    "The following function takes a joint posterior distribution and returns a sample of pairs.\n",
    "It uses some features we have not seen yet, but you can ignore the details for now."
   ]
  },
  {
   "cell_type": "code",
   "execution_count": 463,
   "metadata": {
    "tags": []
   },
   "outputs": [],
   "source": [
    "def sample_joint(joint, size):\n",
    "    \"\"\"Draw a sample from a joint distribution.\n",
    "    \n",
    "    joint: DataFrame representing a joint distribution\n",
    "    size: sample size\n",
    "    \"\"\"\n",
    "    pmf = Pmf(joint.transpose().stack())\n",
    "    return pmf.choice(size)"
   ]
  },
  {
   "cell_type": "markdown",
   "metadata": {
    "tags": []
   },
   "source": [
    "Here's how we can use it to sample pairs from the posterior distributions for the two groups."
   ]
  },
  {
   "cell_type": "code",
   "execution_count": 464,
   "metadata": {
    "tags": []
   },
   "outputs": [
    {
     "data": {
      "text/plain": [
       "(1000,)"
      ]
     },
     "execution_count": 464,
     "metadata": {},
     "output_type": "execute_result"
    }
   ],
   "source": [
    "sample_treated = sample_joint(posterior_treated, 1000)\n",
    "sample_treated.shape"
   ]
  },
  {
   "cell_type": "code",
   "execution_count": 465,
   "metadata": {
    "tags": []
   },
   "outputs": [
    {
     "data": {
      "text/plain": [
       "(1000,)"
      ]
     },
     "execution_count": 465,
     "metadata": {},
     "output_type": "execute_result"
    }
   ],
   "source": [
    "sample_control = sample_joint(posterior_control, 1000)\n",
    "sample_control.shape"
   ]
  },
  {
   "cell_type": "markdown",
   "metadata": {
    "tags": []
   },
   "source": [
    "The result is an array of tuples, where each tuple contains a possible pair of values for $\\mu$ and $\\sigma$.\n",
    "Now you can loop through the samples, compute the Cohen effect size for each, and estimate the distribution of effect sizes."
   ]
  },
  {
   "cell_type": "code",
   "execution_count": 466,
   "metadata": {},
   "outputs": [],
   "source": [
    "# Solution goes here"
   ]
  },
  {
   "cell_type": "code",
   "execution_count": 467,
   "metadata": {},
   "outputs": [],
   "source": [
    "# Solution goes here"
   ]
  },
  {
   "cell_type": "code",
   "execution_count": 468,
   "metadata": {},
   "outputs": [],
   "source": [
    "# Solution goes here"
   ]
  },
  {
   "cell_type": "code",
   "execution_count": 469,
   "metadata": {},
   "outputs": [],
   "source": [
    "# Solution goes here"
   ]
  },
  {
   "cell_type": "code",
   "execution_count": 470,
   "metadata": {},
   "outputs": [],
   "source": [
    "# Solution goes here"
   ]
  },
  {
   "cell_type": "code",
   "execution_count": 471,
   "metadata": {},
   "outputs": [],
   "source": [
    "# Solution goes here"
   ]
  },
  {
   "cell_type": "markdown",
   "metadata": {},
   "source": [
    "**Exercise:** This exercise is inspired by [a question that appeared on Reddit](https://www.reddit.com/r/statistics/comments/hcvl2j/q_reverse_empirical_distribution_rule_question/).\n",
    "\n",
    "An instructor announces the results of an exam like this, \"The average score on this exam was 81.  Out of 25 students, 5 got more than 90, and I am happy to report that no one failed (got less than 60).\"\n",
    "\n",
    "Based on this information, what do you think the standard deviation of scores was?\n",
    "\n",
    "You can assume that the distribution of scores is approximately normal.  And let's assume that the sample mean, 81, is actually the population mean, so we only have to estimate `sigma`.\n",
    "\n",
    "Hint: To compute the probability of a score greater than 90, you can use `norm.sf`, which computes the survival function, also known as the complementary CDF, or `1 - cdf(x)`."
   ]
  },
  {
   "cell_type": "code",
   "execution_count": 472,
   "metadata": {},
   "outputs": [],
   "source": [
    "# Solution goes here"
   ]
  },
  {
   "cell_type": "code",
   "execution_count": 473,
   "metadata": {},
   "outputs": [],
   "source": [
    "# Solution goes here"
   ]
  },
  {
   "cell_type": "code",
   "execution_count": 474,
   "metadata": {},
   "outputs": [],
   "source": [
    "# Solution goes here"
   ]
  },
  {
   "cell_type": "code",
   "execution_count": 475,
   "metadata": {},
   "outputs": [],
   "source": [
    "# Solution goes here"
   ]
  },
  {
   "cell_type": "code",
   "execution_count": 476,
   "metadata": {},
   "outputs": [],
   "source": [
    "# Solution goes here"
   ]
  },
  {
   "cell_type": "code",
   "execution_count": 477,
   "metadata": {},
   "outputs": [],
   "source": [
    "# Solution goes here"
   ]
  },
  {
   "cell_type": "code",
   "execution_count": 478,
   "metadata": {},
   "outputs": [],
   "source": [
    "# Solution goes here"
   ]
  },
  {
   "cell_type": "code",
   "execution_count": 479,
   "metadata": {},
   "outputs": [],
   "source": [
    "# Solution goes here"
   ]
  },
  {
   "cell_type": "code",
   "execution_count": 480,
   "metadata": {},
   "outputs": [],
   "source": [
    "# Solution goes here"
   ]
  },
  {
   "cell_type": "code",
   "execution_count": 481,
   "metadata": {},
   "outputs": [],
   "source": [
    "# Solution goes here"
   ]
  },
  {
   "cell_type": "code",
   "execution_count": 482,
   "metadata": {},
   "outputs": [],
   "source": [
    "# Solution goes here"
   ]
  },
  {
   "cell_type": "code",
   "execution_count": 483,
   "metadata": {},
   "outputs": [],
   "source": [
    "# Solution goes here"
   ]
  },
  {
   "cell_type": "markdown",
   "metadata": {},
   "source": [
    "**Exercise:** I have a soft spot for crank science, so this exercise is about the [Variability Hypothesis](http://en.wikipedia.org/wiki/Variability_hypothesis), which\n",
    "\n",
    "> \"originated in the early nineteenth century with Johann Meckel, who argued that males have a greater range of ability than females, especially in intelligence. In other words, he believed that most geniuses and most mentally retarded people are men. Because he considered males to be the 'superior animal', Meckel concluded that females' lack of variation was a sign of inferiority.\"\n",
    "\n",
    "I particularly like that last part because I suspect that if it turned out that women were _more_ variable, Meckel would have taken that as a sign of inferiority, too.\n",
    "\n",
    "Nevertheless, the Variability Hypothesis suggests an exercise we can use to practice the methods in this chapter.  Let's look at the distribution of heights for men and women in the U.S. and see who is more variable.\n",
    "\n",
    "I used 2018 data from the CDC’s [Behavioral Risk Factor Surveillance System](https://www.cdc.gov/brfss/annual_data/annual_2018.html) (BRFSS), which includes self-reported heights from 154407 men and 254722 women. "
   ]
  },
  {
   "cell_type": "markdown",
   "metadata": {},
   "source": [
    "Here's what I found:\n",
    "\n",
    "* The average height for men is 178 cm; the average height for women is 163 cm. So men are taller on average; no surprise there.\n",
    "\n",
    "* For men the standard deviation is 8.27 cm; for women it is 7.75 cm. So in absolute terms, men's heights are more variable.\n",
    "\n",
    "But to compare variability between groups, it is more meaningful to use the [coefficient of variation](https://en.wikipedia.org/wiki/Coefficient_of_variation) (CV), which is the standard deviation divided by the mean. It is a dimensionless measure of variability relative to scale. \n",
    "\n",
    "For men CV is 0.0465; for women it is 0.0475.\n",
    "The coefficient of variation is higher for women, so this dataset provides evidence against the Variability Hypothesis. But we can use Bayesian methods to make that conclusion more precise."
   ]
  },
  {
   "cell_type": "markdown",
   "metadata": {},
   "source": [
    "Use these summary statistics to compute the posterior distribution of `mu` and `sigma` for the distributions of male and female height.\n",
    "Use `Pmf.div_dist` to compute posterior distributions of CV.\n",
    "Based on this dataset and the assumption that the distribution of height is normal, what is the probability that the coefficient of variation is higher for men?\n",
    "What is the most likely ratio of the CVs and what is the 90% credible interval for that ratio?"
   ]
  },
  {
   "cell_type": "markdown",
   "metadata": {
    "tags": []
   },
   "source": [
    "Hint: Use different prior distributions for the two groups, and chose them so they cover all parameters with non-negligible probability.\n",
    "\n",
    "Also, you might find this function helpful:"
   ]
  },
  {
   "cell_type": "code",
   "execution_count": 484,
   "metadata": {
    "tags": []
   },
   "outputs": [],
   "source": [
    "def get_posterior_cv(joint):\n",
    "    \"\"\"Get the posterior distribution of CV.\n",
    "    \n",
    "    joint: joint distribution of mu and sigma\n",
    "    \n",
    "    returns: Pmf representing the smoothed posterior distribution\n",
    "    \"\"\"\n",
    "    pmf_mu = marginal(joint, 0)\n",
    "    pmf_sigma = marginal(joint, 1)\n",
    "    pmf_cv = Pmf.div_dist(pmf_sigma, pmf_mu)\n",
    "    return kde_from_pmf(pmf_cv)"
   ]
  },
  {
   "cell_type": "code",
   "execution_count": 485,
   "metadata": {},
   "outputs": [],
   "source": [
    "# Solution goes here"
   ]
  },
  {
   "cell_type": "code",
   "execution_count": 486,
   "metadata": {},
   "outputs": [],
   "source": [
    "# Solution goes here"
   ]
  },
  {
   "cell_type": "code",
   "execution_count": 487,
   "metadata": {},
   "outputs": [],
   "source": [
    "# Solution goes here"
   ]
  },
  {
   "cell_type": "code",
   "execution_count": 488,
   "metadata": {},
   "outputs": [],
   "source": [
    "# Solution goes here"
   ]
  },
  {
   "cell_type": "code",
   "execution_count": 489,
   "metadata": {},
   "outputs": [],
   "source": [
    "# Solution goes here"
   ]
  },
  {
   "cell_type": "code",
   "execution_count": 490,
   "metadata": {},
   "outputs": [],
   "source": [
    "# Solution goes here"
   ]
  },
  {
   "cell_type": "code",
   "execution_count": 491,
   "metadata": {},
   "outputs": [],
   "source": [
    "# Solution goes here"
   ]
  },
  {
   "cell_type": "code",
   "execution_count": 492,
   "metadata": {},
   "outputs": [],
   "source": [
    "# Solution goes here"
   ]
  },
  {
   "cell_type": "code",
   "execution_count": 493,
   "metadata": {},
   "outputs": [],
   "source": [
    "# Solution goes here"
   ]
  },
  {
   "cell_type": "code",
   "execution_count": null,
   "metadata": {},
   "outputs": [],
   "source": []
  }
 ],
 "metadata": {
  "celltoolbar": "Tags",
  "kernelspec": {
   "display_name": "Python 3",
   "language": "python",
   "name": "python3"
  },
  "language_info": {
   "codemirror_mode": {
    "name": "ipython",
    "version": 3
   },
   "file_extension": ".py",
   "mimetype": "text/x-python",
   "name": "python",
   "nbconvert_exporter": "python",
   "pygments_lexer": "ipython3",
   "version": "3.8.2"
  }
 },
 "nbformat": 4,
 "nbformat_minor": 4
}
