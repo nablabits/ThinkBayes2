{
 "cells": [
  {
   "cell_type": "markdown",
   "id": "8deb6ad6-ebdc-4d38-b31e-507b359dbbb9",
   "metadata": {},
   "source": [
    "## Parameter estimator algorithm\n",
    "\n",
    "**Note:** I accidentally removed the algorithm before being committed, therefore this notebook might not run properly.  \n",
    "At some point in the future I could invest some time in getting it in again."
   ]
  },
  {
   "cell_type": "code",
   "execution_count": null,
   "id": "31afc742-db1b-4644-9dad-62becca94375",
   "metadata": {},
   "outputs": [],
   "source": [
    "from py_scripts.normal_parameter_estimator import ParameterEstimatorRaw, ParameterEstimatorSummary\n",
    "from scipy.stats import norm\n",
    "import numpy as np\n",
    "\n",
    "s = 101\n",
    "np.random.seed(10)\n",
    "sample = norm(10, 3).rvs(100)\n",
    "ParameterEstimatorRaw(sample).run()"
   ]
  },
  {
   "cell_type": "code",
   "execution_count": null,
   "id": "4ea80ef9",
   "metadata": {
    "jupyter": {
     "outputs_hidden": false
    }
   },
   "outputs": [],
   "source": [
    "ParameterEstimatorSummary(sample).run()\n"
   ]
  },
  {
   "cell_type": "markdown",
   "id": "f4767f31",
   "metadata": {},
   "source": [
    "## Test that the assumption for summary statistics is right"
   ]
  },
  {
   "cell_type": "code",
   "execution_count": null,
   "id": "16f0761b",
   "metadata": {
    "jupyter": {
     "outputs_hidden": false
    }
   },
   "outputs": [],
   "source": [
    "from scipy.stats import gaussian_kde\n",
    "import seaborn as sns\n",
    "\n",
    "mu, sigma, n = 42, 17, 20\n",
    "sample_test = norm(mu, sigma).rvs((1000, n))\n",
    "\n",
    "stm = sample_test.mean(axis=1)\n",
    "sts = sample_test.std(axis=1)\n",
    "\n",
    "low, high = mu - sigma * 1.5, mu + sigma * 1.5\n",
    "pdf_range = np.linspace(low, high, 101)\n",
    "\n",
    "stm_distribution = gaussian_kde(stm).pdf(pdf_range)\n",
    "algorithm_mean = norm(mu, sigma / np.sqrt(n)).pdf(pdf_range)\n",
    "\n",
    "sns.lineplot(x=pdf_range, y=stm_distribution, label=\"KDE of sample test\");\n",
    "sns.lineplot(x=pdf_range, y=algorithm_mean, label=\"algorithm pdf\");\n"
   ]
  },
  {
   "cell_type": "markdown",
   "id": "1e30b184",
   "metadata": {},
   "source": [
    "## How to compute the distribution of a difference"
   ]
  },
  {
   "cell_type": "code",
   "execution_count": null,
   "id": "0309dec1",
   "metadata": {
    "jupyter": {
     "outputs_hidden": false
    }
   },
   "outputs": [],
   "source": [
    "def distribution_difference(a, b):\n",
    "    \"\"\"\n",
    "    Compute the distribution of the difference b-a.\n",
    "\n",
    "    Parameters:\n",
    "        a, b: 1d numpy arrays\n",
    "    Returns:\n",
    "        A pandas Series where the index are the diffs and the values are the probability\n",
    "        for each diff.\n",
    "    \"\"\"\n",
    "    # get the cartesian grid of pairs\n",
    "    vx, vy = np.meshgrid(b, a)\n",
    "\n",
    "    # Get the joint probability of each pair and normalise it.\n",
    "    joint = (vx * vy).ravel()\n",
    "    joint = joint / joint.sum()\n",
    "\n",
    "    # Get the difference between pairs\n",
    "    difference = (vx - vy).ravel()\n",
    "\n",
    "    # Assemble a pandas dataframe to be able to group by the difference. We then can add\n",
    "    # up the probabilities as they contribute to the difference value.\n",
    "    result = pd.DataFrame(\n",
    "        {\"diff\": difference, \"joint\": joint}\n",
    "    )\n",
    "    return result.groupby('diff').sum()\n",
    "\n",
    "a = np.arange(10, 15)\n",
    "b = np.arange(7, 9)\n",
    "\n",
    "distribution_difference(a, b)"
   ]
  },
  {
   "cell_type": "markdown",
   "id": "137b76ef",
   "metadata": {},
   "source": [
    "## Cranky science exercise"
   ]
  },
  {
   "cell_type": "code",
   "execution_count": null,
   "id": "0bb52d30",
   "metadata": {
    "jupyter": {
     "outputs_hidden": false
    }
   },
   "outputs": [],
   "source": [
    "from scipy.stats import norm, chi2\n",
    "import numpy as np\n",
    "import pandas as pd\n",
    "\n",
    "\n",
    "class GenerateComparisonDistribution:\n",
    "\n",
    "    hs_size = 100\n",
    "\n",
    "    def __init__(self, m, s, n):\n",
    "        self.m = m\n",
    "        self.s = s\n",
    "        self.n = n\n",
    "        self.mu_range, self.sigma_range = self.compute_ranges()\n",
    "        self.cartesian_product = self.compute_cartesian_product()\n",
    "\n",
    "    def compute_ranges(self, factor=.1):\n",
    "        \"\"\"Get the ranges for the pdfs.\"\"\"\n",
    "        sigma_low = self.s - factor\n",
    "        sigma_high = self.s + factor\n",
    "        sigma_range = np.linspace(sigma_low, sigma_high, self.hs_size)\n",
    "\n",
    "        # Compute mu range\n",
    "        mu_range = np.linspace(self.m - factor, self.m + factor, self.hs_size)\n",
    "        return mu_range, sigma_range\n",
    "\n",
    "    def compute_cartesian_product(self):\n",
    "        return np.meshgrid(self.mu_range, self.sigma_range)\n",
    "\n",
    "    def get_clean_prior(self):\n",
    "        return np.ones((self.hs_size, self.hs_size)) / self.hs_size**2\n",
    "\n",
    "    def compute_likes_m(self):\n",
    "        mm, ss = self.cartesian_product\n",
    "        return norm(mm, ss/np.sqrt(self.n)).pdf(self.m)\n",
    "\n",
    "    def compute_likes_s(self):\n",
    "        _, ss = self.cartesian_product\n",
    "        t = self.n * (self.s / ss)**2\n",
    "        return chi2(self.n - 1).pdf(t)\n",
    "\n",
    "    def compute_posterior(self):\n",
    "        return self.get_clean_prior() * self.compute_likes_m() * self.compute_likes_s()\n",
    "\n",
    "    @staticmethod\n",
    "    def div_dist(marginal_m, marginal_s):\n",
    "        vx, vy = np.meshgrid(marginal_m, marginal_s)\n",
    "\n",
    "        # get joint probabilities and normalise them\n",
    "        joint = (vx * vy).ravel()\n",
    "        joint = joint / joint.sum()\n",
    "\n",
    "        # get the division between them\n",
    "        div = (vy / vx).ravel()\n",
    "\n",
    "        df = pd.DataFrame({\n",
    "            \"div\": div,\n",
    "            \"p\": joint,\n",
    "        })\n",
    "        return df.groupby(\"div\").p.sum()\n",
    "\n",
    "    def run(self):\n",
    "        posterior = self.compute_posterior()\n",
    "        marginal_m = posterior.sum(axis=0)\n",
    "        marginal_s = posterior.sum(axis=1)\n",
    "        div = self.div_dist(marginal_m, marginal_s)\n",
    "        return np.sum(div.index * div.values)\n",
    "\n",
    "# Male summary statistics\n",
    "male_m = 178\n",
    "male_s = 8.27\n",
    "male_n = 154_407\n",
    "\n",
    "# female summary statistics\n",
    "female_m = 163\n",
    "female_s = 7.75\n",
    "female_n = 254_772\n",
    "\n",
    "male_estimation = GenerateComparisonDistribution(\n",
    "    m=male_m,\n",
    "    s=male_s,\n",
    "    n=male_n\n",
    ").run()\n",
    "\n",
    "female_estimation = GenerateComparisonDistribution(\n",
    "    m=female_m,\n",
    "    s=female_s,\n",
    "    n=female_n\n",
    ").run()\n",
    "male_estimation, female_estimation"
   ]
  }
 ],
 "metadata": {
  "kernelspec": {
   "display_name": "Python 3",
   "language": "python",
   "name": "python3"
  },
  "language_info": {
   "codemirror_mode": {
    "name": "ipython",
    "version": 3
   },
   "file_extension": ".py",
   "mimetype": "text/x-python",
   "name": "python",
   "nbconvert_exporter": "python",
   "pygments_lexer": "ipython3",
   "version": "3.8.2"
  }
 },
 "nbformat": 4,
 "nbformat_minor": 5
}
